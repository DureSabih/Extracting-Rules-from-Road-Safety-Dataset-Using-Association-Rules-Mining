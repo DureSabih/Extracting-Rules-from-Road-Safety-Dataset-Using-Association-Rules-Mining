{
 "cells": [
  {
   "cell_type": "markdown",
   "id": "4260cc69-0457-41bd-97c0-68d9032296b6",
   "metadata": {},
   "source": [
    "## Machine Learning Assessment - Dure Sabih (Student ID 0070990)\n",
    "## Task 2 Association"
   ]
  },
  {
   "cell_type": "markdown",
   "id": "f599ce1d-fd42-4382-b690-97a6807fe25e",
   "metadata": {},
   "source": [
    "## DATA PRE-PROCESSING "
   ]
  },
  {
   "cell_type": "code",
   "execution_count": 4,
   "id": "54059131-38be-4089-a915-b92c9b993972",
   "metadata": {},
   "outputs": [
    {
     "name": "stdout",
     "output_type": "stream",
     "text": [
      "Requirement already satisfied: mlxtend in c:\\users\\dcpc\\anaconda3\\lib\\site-packages (0.21.0)\n",
      "Requirement already satisfied: scikit-learn>=1.0.2 in c:\\users\\dcpc\\anaconda3\\lib\\site-packages (from mlxtend) (1.1.3)\n",
      "Requirement already satisfied: matplotlib>=3.0.0 in c:\\users\\dcpc\\anaconda3\\lib\\site-packages (from mlxtend) (3.5.1)\n",
      "Requirement already satisfied: pandas>=0.24.2 in c:\\users\\dcpc\\anaconda3\\lib\\site-packages (from mlxtend) (1.4.2)\n",
      "Requirement already satisfied: setuptools in c:\\users\\dcpc\\anaconda3\\lib\\site-packages (from mlxtend) (61.2.0)\n",
      "Requirement already satisfied: joblib>=0.13.2 in c:\\users\\dcpc\\anaconda3\\lib\\site-packages (from mlxtend) (1.1.0)\n",
      "Requirement already satisfied: scipy>=1.2.1 in c:\\users\\dcpc\\anaconda3\\lib\\site-packages (from mlxtend) (1.9.2)\n",
      "Requirement already satisfied: numpy>=1.16.2 in c:\\users\\dcpc\\anaconda3\\lib\\site-packages (from mlxtend) (1.21.5)\n",
      "Requirement already satisfied: pillow>=6.2.0 in c:\\users\\dcpc\\anaconda3\\lib\\site-packages (from matplotlib>=3.0.0->mlxtend) (9.0.1)\n",
      "Requirement already satisfied: kiwisolver>=1.0.1 in c:\\users\\dcpc\\anaconda3\\lib\\site-packages (from matplotlib>=3.0.0->mlxtend) (1.3.2)\n",
      "Requirement already satisfied: cycler>=0.10 in c:\\users\\dcpc\\anaconda3\\lib\\site-packages (from matplotlib>=3.0.0->mlxtend) (0.11.0)\n",
      "Requirement already satisfied: packaging>=20.0 in c:\\users\\dcpc\\anaconda3\\lib\\site-packages (from matplotlib>=3.0.0->mlxtend) (21.3)\n",
      "Requirement already satisfied: fonttools>=4.22.0 in c:\\users\\dcpc\\anaconda3\\lib\\site-packages (from matplotlib>=3.0.0->mlxtend) (4.25.0)\n",
      "Requirement already satisfied: pyparsing>=2.2.1 in c:\\users\\dcpc\\anaconda3\\lib\\site-packages (from matplotlib>=3.0.0->mlxtend) (3.0.4)\n",
      "Requirement already satisfied: python-dateutil>=2.7 in c:\\users\\dcpc\\anaconda3\\lib\\site-packages (from matplotlib>=3.0.0->mlxtend) (2.8.2)\n",
      "Requirement already satisfied: pytz>=2020.1 in c:\\users\\dcpc\\anaconda3\\lib\\site-packages (from pandas>=0.24.2->mlxtend) (2021.3)\n",
      "Requirement already satisfied: six>=1.5 in c:\\users\\dcpc\\anaconda3\\lib\\site-packages (from python-dateutil>=2.7->matplotlib>=3.0.0->mlxtend) (1.16.0)\n",
      "Requirement already satisfied: threadpoolctl>=2.0.0 in c:\\users\\dcpc\\anaconda3\\lib\\site-packages (from scikit-learn>=1.0.2->mlxtend) (2.2.0)\n"
     ]
    }
   ],
   "source": [
    "#importing Libraries\n",
    "!pip install mlxtend\n",
    "import matplotlib.pyplot as plt\n",
    "import pandas as pd\n",
    "import numpy as np\n",
    "from sklearn import preprocessing \n",
    "from sklearn.preprocessing import OneHotEncoder\n",
    "# For Association rules Analysis\n",
    "from apyori import apriori\n",
    "import plotly.express as px\n",
    "import utils\n",
    "%matplotlib inline"
   ]
  },
  {
   "cell_type": "code",
   "execution_count": 5,
   "id": "6c064865-35c9-485e-b170-fa66d84d6cbb",
   "metadata": {},
   "outputs": [],
   "source": [
    "data=pd.read_table('DigitalBreathTestData2013.txt')"
   ]
  },
  {
   "cell_type": "code",
   "execution_count": 6,
   "id": "f8167167-42be-4bb3-bab3-48d260b60a82",
   "metadata": {},
   "outputs": [],
   "source": [
    "df=data['Reason,Month,Year,WeekType,TimeBand,BreathAlcoholLevel(microg 100ml),AgeBand,Gender'].str.split(',', expand=True)"
   ]
  },
  {
   "cell_type": "code",
   "execution_count": 7,
   "id": "3064a9ff-44b2-4a0a-bc31-282488604d4b",
   "metadata": {},
   "outputs": [],
   "source": [
    "df.drop(data.tail(450000).index,\n",
    "        inplace = True)"
   ]
  },
  {
   "cell_type": "code",
   "execution_count": 8,
   "id": "623fe410-a3b4-456b-98a4-839f257c8b2a",
   "metadata": {},
   "outputs": [],
   "source": [
    "df = df.rename(columns= {0:'Reason',1:'Month', 2:'Year', 3:'WeekType',4:'Time', 5:'Intoxication', 6\n",
    "                   :'AgeBand', 7:'Gender'})"
   ]
  },
  {
   "cell_type": "code",
   "execution_count": 9,
   "id": "b8503be4-9e2d-43b5-ac46-ab8d2c4a7742",
   "metadata": {},
   "outputs": [
    {
     "data": {
      "text/html": [
       "<div>\n",
       "<style scoped>\n",
       "    .dataframe tbody tr th:only-of-type {\n",
       "        vertical-align: middle;\n",
       "    }\n",
       "\n",
       "    .dataframe tbody tr th {\n",
       "        vertical-align: top;\n",
       "    }\n",
       "\n",
       "    .dataframe thead th {\n",
       "        text-align: right;\n",
       "    }\n",
       "</style>\n",
       "<table border=\"1\" class=\"dataframe\">\n",
       "  <thead>\n",
       "    <tr style=\"text-align: right;\">\n",
       "      <th></th>\n",
       "      <th>Reason</th>\n",
       "      <th>Month</th>\n",
       "      <th>Year</th>\n",
       "      <th>WeekType</th>\n",
       "      <th>Time</th>\n",
       "      <th>Intoxication</th>\n",
       "      <th>AgeBand</th>\n",
       "      <th>Gender</th>\n",
       "    </tr>\n",
       "  </thead>\n",
       "  <tbody>\n",
       "    <tr>\n",
       "      <th>0</th>\n",
       "      <td>Moving Traffic Violation</td>\n",
       "      <td>Jan</td>\n",
       "      <td>2013</td>\n",
       "      <td>Weekday</td>\n",
       "      <td>12am-4am</td>\n",
       "      <td>80</td>\n",
       "      <td>30-39</td>\n",
       "      <td>Male</td>\n",
       "    </tr>\n",
       "    <tr>\n",
       "      <th>1</th>\n",
       "      <td>Road Traffic Collision</td>\n",
       "      <td>Jan</td>\n",
       "      <td>2013</td>\n",
       "      <td>Weekday</td>\n",
       "      <td>12am-4am</td>\n",
       "      <td>0</td>\n",
       "      <td>Other</td>\n",
       "      <td>Male</td>\n",
       "    </tr>\n",
       "    <tr>\n",
       "      <th>2</th>\n",
       "      <td>Road Traffic Collision</td>\n",
       "      <td>Jan</td>\n",
       "      <td>2013</td>\n",
       "      <td>Weekday</td>\n",
       "      <td>12am-4am</td>\n",
       "      <td>96</td>\n",
       "      <td>Other</td>\n",
       "      <td>Male</td>\n",
       "    </tr>\n",
       "    <tr>\n",
       "      <th>3</th>\n",
       "      <td>Moving Traffic Violation</td>\n",
       "      <td>Jan</td>\n",
       "      <td>2013</td>\n",
       "      <td>Weekday</td>\n",
       "      <td>12am-4am</td>\n",
       "      <td>0</td>\n",
       "      <td>40-49</td>\n",
       "      <td>Female</td>\n",
       "    </tr>\n",
       "    <tr>\n",
       "      <th>4</th>\n",
       "      <td>Suspicion of Alcohol</td>\n",
       "      <td>Jan</td>\n",
       "      <td>2013</td>\n",
       "      <td>Weekday</td>\n",
       "      <td>12am-4am</td>\n",
       "      <td>0</td>\n",
       "      <td>40-49</td>\n",
       "      <td>Male</td>\n",
       "    </tr>\n",
       "    <tr>\n",
       "      <th>...</th>\n",
       "      <td>...</td>\n",
       "      <td>...</td>\n",
       "      <td>...</td>\n",
       "      <td>...</td>\n",
       "      <td>...</td>\n",
       "      <td>...</td>\n",
       "      <td>...</td>\n",
       "      <td>...</td>\n",
       "    </tr>\n",
       "    <tr>\n",
       "      <th>47785</th>\n",
       "      <td>Other</td>\n",
       "      <td>Dec</td>\n",
       "      <td>2013</td>\n",
       "      <td>Weekday</td>\n",
       "      <td>8pm-12pm</td>\n",
       "      <td>0</td>\n",
       "      <td>40-49</td>\n",
       "      <td>Male</td>\n",
       "    </tr>\n",
       "    <tr>\n",
       "      <th>47786</th>\n",
       "      <td>Other</td>\n",
       "      <td>Dec</td>\n",
       "      <td>2013</td>\n",
       "      <td>Weekday</td>\n",
       "      <td>8pm-12pm</td>\n",
       "      <td>0</td>\n",
       "      <td>50-59</td>\n",
       "      <td>Female</td>\n",
       "    </tr>\n",
       "    <tr>\n",
       "      <th>47787</th>\n",
       "      <td>Moving Traffic Violation</td>\n",
       "      <td>Dec</td>\n",
       "      <td>2013</td>\n",
       "      <td>Weekday</td>\n",
       "      <td>8am-12pm</td>\n",
       "      <td>4</td>\n",
       "      <td>20-24</td>\n",
       "      <td>Male</td>\n",
       "    </tr>\n",
       "    <tr>\n",
       "      <th>47788</th>\n",
       "      <td>Road Traffic Collision</td>\n",
       "      <td>Dec</td>\n",
       "      <td>2013</td>\n",
       "      <td>Weekday</td>\n",
       "      <td>8am-12pm</td>\n",
       "      <td>0</td>\n",
       "      <td>50-59</td>\n",
       "      <td>Female</td>\n",
       "    </tr>\n",
       "    <tr>\n",
       "      <th>47789</th>\n",
       "      <td>Road Traffic Collision</td>\n",
       "      <td>Dec</td>\n",
       "      <td>2013</td>\n",
       "      <td>Weekday</td>\n",
       "      <td>4pm-8pm</td>\n",
       "      <td>0</td>\n",
       "      <td>16-19</td>\n",
       "      <td>Male</td>\n",
       "    </tr>\n",
       "  </tbody>\n",
       "</table>\n",
       "<p>47790 rows × 8 columns</p>\n",
       "</div>"
      ],
      "text/plain": [
       "                         Reason Month  Year WeekType      Time Intoxication  \\\n",
       "0      Moving Traffic Violation   Jan  2013  Weekday  12am-4am           80   \n",
       "1        Road Traffic Collision   Jan  2013  Weekday  12am-4am            0   \n",
       "2        Road Traffic Collision   Jan  2013  Weekday  12am-4am           96   \n",
       "3      Moving Traffic Violation   Jan  2013  Weekday  12am-4am            0   \n",
       "4          Suspicion of Alcohol   Jan  2013  Weekday  12am-4am            0   \n",
       "...                         ...   ...   ...      ...       ...          ...   \n",
       "47785                     Other   Dec  2013  Weekday  8pm-12pm            0   \n",
       "47786                     Other   Dec  2013  Weekday  8pm-12pm            0   \n",
       "47787  Moving Traffic Violation   Dec  2013  Weekday  8am-12pm            4   \n",
       "47788    Road Traffic Collision   Dec  2013  Weekday  8am-12pm            0   \n",
       "47789    Road Traffic Collision   Dec  2013  Weekday   4pm-8pm            0   \n",
       "\n",
       "      AgeBand  Gender  \n",
       "0       30-39    Male  \n",
       "1       Other    Male  \n",
       "2       Other    Male  \n",
       "3       40-49  Female  \n",
       "4       40-49    Male  \n",
       "...       ...     ...  \n",
       "47785   40-49    Male  \n",
       "47786   50-59  Female  \n",
       "47787   20-24    Male  \n",
       "47788   50-59  Female  \n",
       "47789   16-19    Male  \n",
       "\n",
       "[47790 rows x 8 columns]"
      ]
     },
     "execution_count": 9,
     "metadata": {},
     "output_type": "execute_result"
    }
   ],
   "source": [
    "df"
   ]
  },
  {
   "cell_type": "code",
   "execution_count": 10,
   "id": "0759ba35-7a71-4a08-9392-43bd4133d466",
   "metadata": {},
   "outputs": [],
   "source": [
    "df= df.drop((['Year']), axis=1)"
   ]
  },
  {
   "cell_type": "code",
   "execution_count": 11,
   "id": "548be369-6165-4b1a-a153-a7b4038c4e8a",
   "metadata": {},
   "outputs": [],
   "source": [
    "df= df.drop((['AgeBand']), axis=1)"
   ]
  },
  {
   "cell_type": "code",
   "execution_count": 12,
   "id": "426f8c31-cd84-4ddd-8600-01bcadae01e5",
   "metadata": {},
   "outputs": [
    {
     "data": {
      "text/html": [
       "<div>\n",
       "<style scoped>\n",
       "    .dataframe tbody tr th:only-of-type {\n",
       "        vertical-align: middle;\n",
       "    }\n",
       "\n",
       "    .dataframe tbody tr th {\n",
       "        vertical-align: top;\n",
       "    }\n",
       "\n",
       "    .dataframe thead th {\n",
       "        text-align: right;\n",
       "    }\n",
       "</style>\n",
       "<table border=\"1\" class=\"dataframe\">\n",
       "  <thead>\n",
       "    <tr style=\"text-align: right;\">\n",
       "      <th></th>\n",
       "      <th>Reason</th>\n",
       "      <th>Month</th>\n",
       "      <th>WeekType</th>\n",
       "      <th>Time</th>\n",
       "      <th>Intoxication</th>\n",
       "      <th>Gender</th>\n",
       "    </tr>\n",
       "  </thead>\n",
       "  <tbody>\n",
       "    <tr>\n",
       "      <th>0</th>\n",
       "      <td>Moving Traffic Violation</td>\n",
       "      <td>Jan</td>\n",
       "      <td>Weekday</td>\n",
       "      <td>12am-4am</td>\n",
       "      <td>80</td>\n",
       "      <td>Male</td>\n",
       "    </tr>\n",
       "    <tr>\n",
       "      <th>1</th>\n",
       "      <td>Road Traffic Collision</td>\n",
       "      <td>Jan</td>\n",
       "      <td>Weekday</td>\n",
       "      <td>12am-4am</td>\n",
       "      <td>0</td>\n",
       "      <td>Male</td>\n",
       "    </tr>\n",
       "    <tr>\n",
       "      <th>2</th>\n",
       "      <td>Road Traffic Collision</td>\n",
       "      <td>Jan</td>\n",
       "      <td>Weekday</td>\n",
       "      <td>12am-4am</td>\n",
       "      <td>96</td>\n",
       "      <td>Male</td>\n",
       "    </tr>\n",
       "    <tr>\n",
       "      <th>3</th>\n",
       "      <td>Moving Traffic Violation</td>\n",
       "      <td>Jan</td>\n",
       "      <td>Weekday</td>\n",
       "      <td>12am-4am</td>\n",
       "      <td>0</td>\n",
       "      <td>Female</td>\n",
       "    </tr>\n",
       "    <tr>\n",
       "      <th>4</th>\n",
       "      <td>Suspicion of Alcohol</td>\n",
       "      <td>Jan</td>\n",
       "      <td>Weekday</td>\n",
       "      <td>12am-4am</td>\n",
       "      <td>0</td>\n",
       "      <td>Male</td>\n",
       "    </tr>\n",
       "  </tbody>\n",
       "</table>\n",
       "</div>"
      ],
      "text/plain": [
       "                     Reason Month WeekType      Time Intoxication  Gender\n",
       "0  Moving Traffic Violation   Jan  Weekday  12am-4am           80    Male\n",
       "1    Road Traffic Collision   Jan  Weekday  12am-4am            0    Male\n",
       "2    Road Traffic Collision   Jan  Weekday  12am-4am           96    Male\n",
       "3  Moving Traffic Violation   Jan  Weekday  12am-4am            0  Female\n",
       "4      Suspicion of Alcohol   Jan  Weekday  12am-4am            0    Male"
      ]
     },
     "execution_count": 12,
     "metadata": {},
     "output_type": "execute_result"
    }
   ],
   "source": [
    "df.head()"
   ]
  },
  {
   "cell_type": "markdown",
   "id": "3d07b79a-6393-4aa1-b39a-cd6470a1855d",
   "metadata": {},
   "source": [
    "## Checking types of Features"
   ]
  },
  {
   "cell_type": "code",
   "execution_count": 13,
   "id": "7d1dcfce-b2d9-4258-9383-96e8d23a1643",
   "metadata": {},
   "outputs": [
    {
     "data": {
      "text/plain": [
       "Reason          object\n",
       "Month           object\n",
       "WeekType        object\n",
       "Time            object\n",
       "Intoxication    object\n",
       "Gender          object\n",
       "dtype: object"
      ]
     },
     "execution_count": 13,
     "metadata": {},
     "output_type": "execute_result"
    }
   ],
   "source": [
    "df.dtypes"
   ]
  },
  {
   "cell_type": "markdown",
   "id": "783942cd-35b6-4de3-adc7-a3ce6af53d67",
   "metadata": {},
   "source": [
    "## Changing intoxication to categorical"
   ]
  },
  {
   "cell_type": "code",
   "execution_count": 14,
   "id": "53926541-9407-45a8-a9b6-3afff885c4fc",
   "metadata": {},
   "outputs": [],
   "source": [
    "df['Intoxication']= df['Intoxication'].astype(str).astype(int)"
   ]
  },
  {
   "cell_type": "code",
   "execution_count": 15,
   "id": "e5cb6fd2-8881-46d4-a30d-1f4fd4866f9f",
   "metadata": {},
   "outputs": [],
   "source": [
    "df['Intoxication'].values[df['Intoxication'].values < 34] = 0"
   ]
  },
  {
   "cell_type": "code",
   "execution_count": 16,
   "id": "86ee1c81-5640-479a-b946-d4e7b93ed0b7",
   "metadata": {},
   "outputs": [],
   "source": [
    "df['Intoxication'].values[df['Intoxication'].values > 33] = 1"
   ]
  },
  {
   "cell_type": "code",
   "execution_count": 17,
   "id": "cff304b4-d9ec-4f2b-8d6d-7c6d1d6f6d7e",
   "metadata": {},
   "outputs": [],
   "source": [
    "df.Intoxication.replace((1,0), ('Intoxicated', 'Not Intoxicated'), inplace=True)\n"
   ]
  },
  {
   "cell_type": "markdown",
   "id": "e91a615d-25e6-4f2f-aa6d-c46e91bd67f0",
   "metadata": {},
   "source": [
    "## Null values check"
   ]
  },
  {
   "cell_type": "code",
   "execution_count": 18,
   "id": "003bc336-4b7c-422e-a9b0-f1e9f8c83c2b",
   "metadata": {},
   "outputs": [
    {
     "data": {
      "text/plain": [
       "Reason          0\n",
       "Month           0\n",
       "WeekType        0\n",
       "Time            0\n",
       "Intoxication    0\n",
       "Gender          0\n",
       "dtype: int64"
      ]
     },
     "execution_count": 18,
     "metadata": {},
     "output_type": "execute_result"
    }
   ],
   "source": [
    "df.isnull().sum()  # 0 null values"
   ]
  },
  {
   "cell_type": "code",
   "execution_count": 19,
   "id": "50794b31-7626-4633-870c-13a469a394bb",
   "metadata": {},
   "outputs": [
    {
     "data": {
      "text/plain": [
       "Reason          object\n",
       "Month           object\n",
       "WeekType        object\n",
       "Time            object\n",
       "Intoxication    object\n",
       "Gender          object\n",
       "dtype: object"
      ]
     },
     "execution_count": 19,
     "metadata": {},
     "output_type": "execute_result"
    }
   ],
   "source": [
    "df.dtypes # types of values"
   ]
  },
  {
   "cell_type": "code",
   "execution_count": 20,
   "id": "ef50ae97-ed95-4255-a3cc-0ff712d184ae",
   "metadata": {},
   "outputs": [
    {
     "data": {
      "text/plain": [
       "array(['Intoxicated', 'Not Intoxicated'], dtype=object)"
      ]
     },
     "execution_count": 20,
     "metadata": {},
     "output_type": "execute_result"
    }
   ],
   "source": [
    "df.Intoxication.unique()  "
   ]
  },
  {
   "cell_type": "code",
   "execution_count": 21,
   "id": "948b3815-18bb-4b43-91c3-b403aa6c1ae6",
   "metadata": {},
   "outputs": [
    {
     "data": {
      "text/plain": [
       "array(['Moving Traffic Violation', 'Road Traffic Collision',\n",
       "       'Suspicion of Alcohol', 'Other', 'Unknown'], dtype=object)"
      ]
     },
     "execution_count": 21,
     "metadata": {},
     "output_type": "execute_result"
    }
   ],
   "source": [
    "df.Reason.unique()"
   ]
  },
  {
   "cell_type": "code",
   "execution_count": 22,
   "id": "464f6d78-1719-433d-914c-2e2ecb510a20",
   "metadata": {},
   "outputs": [
    {
     "data": {
      "text/plain": [
       "array(['Jan', 'Feb', 'Mar', 'Apr', 'May', 'Jun', 'Jul', 'Aug', 'Sep',\n",
       "       'Oct', 'Nov', 'Dec'], dtype=object)"
      ]
     },
     "execution_count": 22,
     "metadata": {},
     "output_type": "execute_result"
    }
   ],
   "source": [
    "df.Month.unique()"
   ]
  },
  {
   "cell_type": "code",
   "execution_count": 23,
   "id": "cbfac038-1097-4525-87a9-4168e33b9661",
   "metadata": {},
   "outputs": [],
   "source": [
    "df = df[df[\"Time\"].str.contains(\"Unknown\") == False]"
   ]
  },
  {
   "cell_type": "code",
   "execution_count": 24,
   "id": "08d8ecc0-d4d6-4bb1-92e8-780db0bb3964",
   "metadata": {},
   "outputs": [],
   "source": [
    "df = df[df[\"Reason\"].str.contains(\"Unknown\") == False]"
   ]
  },
  {
   "cell_type": "code",
   "execution_count": 25,
   "id": "8a9171be-61ac-4cb4-ac01-8ce71383a65d",
   "metadata": {},
   "outputs": [],
   "source": [
    "df = df[df[\"Reason\"].str.contains(\"Other\") == False]"
   ]
  },
  {
   "cell_type": "code",
   "execution_count": 26,
   "id": "3599c999-b196-447b-91db-5d0f03c7d72d",
   "metadata": {},
   "outputs": [],
   "source": [
    "df = df[df[\"Month\"].str.contains(\"Unknown\") == False]"
   ]
  },
  {
   "cell_type": "code",
   "execution_count": 27,
   "id": "91b7d5bc-930e-4cc0-9e51-de6e6c61be96",
   "metadata": {},
   "outputs": [],
   "source": [
    "df = df[df[\"WeekType\"].str.contains(\"Unknown\") == False]"
   ]
  },
  {
   "cell_type": "code",
   "execution_count": 28,
   "id": "63bbca6c-8a85-4f75-be47-7b6f6bcdab90",
   "metadata": {},
   "outputs": [],
   "source": [
    "df = df[df[\"Intoxication\"].str.contains(\"Unknown\") == False]"
   ]
  },
  {
   "cell_type": "code",
   "execution_count": 29,
   "id": "ac9ff667-0ada-4cc1-a223-92d797c3f5a8",
   "metadata": {},
   "outputs": [],
   "source": [
    "\n",
    "df = df[df[\"Gender\"].str.contains(\"Unknown\") == False]"
   ]
  },
  {
   "cell_type": "code",
   "execution_count": 30,
   "id": "bd353aba-c66f-4636-b117-c3c3b2a0ce8e",
   "metadata": {},
   "outputs": [
    {
     "data": {
      "text/plain": [
       "array(['Moving Traffic Violation', 'Road Traffic Collision',\n",
       "       'Suspicion of Alcohol'], dtype=object)"
      ]
     },
     "execution_count": 30,
     "metadata": {},
     "output_type": "execute_result"
    }
   ],
   "source": [
    "df.Reason.unique()"
   ]
  },
  {
   "cell_type": "code",
   "execution_count": 31,
   "id": "d6026804-e54b-4730-aebc-c3290fbf9b76",
   "metadata": {},
   "outputs": [
    {
     "data": {
      "text/plain": [
       "array(['Male', 'Female'], dtype=object)"
      ]
     },
     "execution_count": 31,
     "metadata": {},
     "output_type": "execute_result"
    }
   ],
   "source": [
    "df.Gender.unique()"
   ]
  },
  {
   "cell_type": "code",
   "execution_count": 32,
   "id": "0e87b234-a807-4dfd-998a-6d2626a3b92b",
   "metadata": {},
   "outputs": [
    {
     "data": {
      "text/plain": [
       "array(['12am-4am', '8am-12pm', '8pm-12pm', '4am-8am', '4pm-8pm',\n",
       "       '12pm-4pm'], dtype=object)"
      ]
     },
     "execution_count": 32,
     "metadata": {},
     "output_type": "execute_result"
    }
   ],
   "source": [
    "df.Time.unique()"
   ]
  },
  {
   "cell_type": "code",
   "execution_count": 33,
   "id": "c209dd03-6708-4def-aa78-0e3753f5bced",
   "metadata": {},
   "outputs": [
    {
     "data": {
      "text/plain": [
       "(43259, 6)"
      ]
     },
     "execution_count": 33,
     "metadata": {},
     "output_type": "execute_result"
    }
   ],
   "source": [
    "df.shape"
   ]
  },
  {
   "cell_type": "code",
   "execution_count": 34,
   "id": "45fc06cd-ff9c-4ca5-8b43-e507761af216",
   "metadata": {},
   "outputs": [],
   "source": [
    "#The Categorical Features are those features in which datatype is an Object type. \n",
    "#The value of data point in any categorical feature is not in numerical form, rather it was in object form.\n",
    "#https://www.analyticsvidhya.com/blog/2021/05/how-to-perform-one-hot-encoding-for-multi-categorical-variables/"
   ]
  },
  {
   "cell_type": "code",
   "execution_count": 35,
   "id": "e449a58d-a3b9-45fd-9edf-1b89b777d532",
   "metadata": {},
   "outputs": [],
   "source": [
    "from sklearn import preprocessing \n",
    "from sklearn.preprocessing import OneHotEncoder"
   ]
  },
  {
   "cell_type": "code",
   "execution_count": 36,
   "id": "bcacd138-cbdf-4a03-b2ba-5dad81b713d6",
   "metadata": {},
   "outputs": [],
   "source": [
    "enc= preprocessing.OneHotEncoder()\n",
    "feature_array = enc.fit_transform(df[[\"Reason\",\"Month\",\"WeekType\",\"Time\",\"Intoxication\",\"Gender\"]]).toarray()"
   ]
  },
  {
   "cell_type": "code",
   "execution_count": 37,
   "id": "202a21e2-d495-4566-9610-2692097e8a0b",
   "metadata": {},
   "outputs": [
    {
     "data": {
      "text/plain": [
       "[array(['Moving Traffic Violation', 'Road Traffic Collision',\n",
       "        'Suspicion of Alcohol'], dtype=object),\n",
       " array(['Apr', 'Aug', 'Dec', 'Feb', 'Jan', 'Jul', 'Jun', 'Mar', 'May',\n",
       "        'Nov', 'Oct', 'Sep'], dtype=object),\n",
       " array(['Weekday', 'Weekend'], dtype=object),\n",
       " array(['12am-4am', '12pm-4pm', '4am-8am', '4pm-8pm', '8am-12pm',\n",
       "        '8pm-12pm'], dtype=object),\n",
       " array(['Intoxicated', 'Not Intoxicated'], dtype=object),\n",
       " array(['Female', 'Male'], dtype=object)]"
      ]
     },
     "execution_count": 37,
     "metadata": {},
     "output_type": "execute_result"
    }
   ],
   "source": [
    "enc.categories_"
   ]
  },
  {
   "cell_type": "code",
   "execution_count": 38,
   "id": "d584a435-3ef6-48ed-a741-fecc70194180",
   "metadata": {},
   "outputs": [],
   "source": [
    "new_labels = np.concatenate(enc.categories_) \n",
    "#combining different array of arrays - tuples or lists of arrays"
   ]
  },
  {
   "cell_type": "code",
   "execution_count": 39,
   "id": "f2c38a84-bf00-4348-b102-81dee1a68ef2",
   "metadata": {},
   "outputs": [
    {
     "data": {
      "text/plain": [
       "array(['Moving Traffic Violation', 'Road Traffic Collision',\n",
       "       'Suspicion of Alcohol', 'Apr', 'Aug', 'Dec', 'Feb', 'Jan', 'Jul',\n",
       "       'Jun', 'Mar', 'May', 'Nov', 'Oct', 'Sep', 'Weekday', 'Weekend',\n",
       "       '12am-4am', '12pm-4pm', '4am-8am', '4pm-8pm', '8am-12pm',\n",
       "       '8pm-12pm', 'Intoxicated', 'Not Intoxicated', 'Female', 'Male'],\n",
       "      dtype=object)"
      ]
     },
     "execution_count": 39,
     "metadata": {},
     "output_type": "execute_result"
    }
   ],
   "source": [
    "new_labels"
   ]
  },
  {
   "cell_type": "code",
   "execution_count": 40,
   "id": "e651872d-f3ce-420c-be9e-1effcad1e0ab",
   "metadata": {},
   "outputs": [],
   "source": [
    "new_labels=np.array(new_labels, dtype=object).ravel()"
   ]
  },
  {
   "cell_type": "code",
   "execution_count": 41,
   "id": "bf44e8d4-e488-44c1-9bd4-3e48f8fe4fc0",
   "metadata": {},
   "outputs": [
    {
     "name": "stdout",
     "output_type": "stream",
     "text": [
      "['Moving Traffic Violation' 'Road Traffic Collision'\n",
      " 'Suspicion of Alcohol' 'Apr' 'Aug' 'Dec' 'Feb' 'Jan' 'Jul' 'Jun' 'Mar'\n",
      " 'May' 'Nov' 'Oct' 'Sep' 'Weekday' 'Weekend' '12am-4am' '12pm-4pm'\n",
      " '4am-8am' '4pm-8pm' '8am-12pm' '8pm-12pm' 'Intoxicated' 'Not Intoxicated'\n",
      " 'Female' 'Male']\n"
     ]
    }
   ],
   "source": [
    "print(new_labels)"
   ]
  },
  {
   "cell_type": "markdown",
   "id": "0e694557-53f1-4d04-b296-d5179ec9698c",
   "metadata": {},
   "source": [
    "#Creating a new Table for use on Apriori Algo"
   ]
  },
  {
   "cell_type": "markdown",
   "id": "1831dbde-2fc3-45e6-9aa0-6baaab719b63",
   "metadata": {},
   "source": [
    "## PERFORMING EDA on our NEW TABLE"
   ]
  },
  {
   "cell_type": "code",
   "execution_count": 42,
   "id": "a26c5ac9-9f72-4f3b-8a54-cc0f160eb9e3",
   "metadata": {},
   "outputs": [],
   "source": [
    "table =pd.DataFrame(feature_array , columns=new_labels)"
   ]
  },
  {
   "cell_type": "code",
   "execution_count": 43,
   "id": "2e6191af-2f96-4bef-b9c1-ef5692149755",
   "metadata": {},
   "outputs": [],
   "source": [
    "table.replace((1,0), ('Yes', 'No'), inplace=True)"
   ]
  },
  {
   "cell_type": "code",
   "execution_count": 44,
   "id": "bde024f7-03c8-41ee-8a92-0afda28f1fe4",
   "metadata": {
    "tags": []
   },
   "outputs": [
    {
     "data": {
      "text/html": [
       "<div>\n",
       "<style scoped>\n",
       "    .dataframe tbody tr th:only-of-type {\n",
       "        vertical-align: middle;\n",
       "    }\n",
       "\n",
       "    .dataframe tbody tr th {\n",
       "        vertical-align: top;\n",
       "    }\n",
       "\n",
       "    .dataframe thead th {\n",
       "        text-align: right;\n",
       "    }\n",
       "</style>\n",
       "<table border=\"1\" class=\"dataframe\">\n",
       "  <thead>\n",
       "    <tr style=\"text-align: right;\">\n",
       "      <th></th>\n",
       "      <th>Moving Traffic Violation</th>\n",
       "      <th>Road Traffic Collision</th>\n",
       "      <th>Suspicion of Alcohol</th>\n",
       "      <th>Apr</th>\n",
       "      <th>Aug</th>\n",
       "      <th>Dec</th>\n",
       "      <th>Feb</th>\n",
       "      <th>Jan</th>\n",
       "      <th>Jul</th>\n",
       "      <th>Jun</th>\n",
       "      <th>...</th>\n",
       "      <th>12am-4am</th>\n",
       "      <th>12pm-4pm</th>\n",
       "      <th>4am-8am</th>\n",
       "      <th>4pm-8pm</th>\n",
       "      <th>8am-12pm</th>\n",
       "      <th>8pm-12pm</th>\n",
       "      <th>Intoxicated</th>\n",
       "      <th>Not Intoxicated</th>\n",
       "      <th>Female</th>\n",
       "      <th>Male</th>\n",
       "    </tr>\n",
       "  </thead>\n",
       "  <tbody>\n",
       "    <tr>\n",
       "      <th>0</th>\n",
       "      <td>Yes</td>\n",
       "      <td>No</td>\n",
       "      <td>No</td>\n",
       "      <td>No</td>\n",
       "      <td>No</td>\n",
       "      <td>No</td>\n",
       "      <td>No</td>\n",
       "      <td>Yes</td>\n",
       "      <td>No</td>\n",
       "      <td>No</td>\n",
       "      <td>...</td>\n",
       "      <td>Yes</td>\n",
       "      <td>No</td>\n",
       "      <td>No</td>\n",
       "      <td>No</td>\n",
       "      <td>No</td>\n",
       "      <td>No</td>\n",
       "      <td>Yes</td>\n",
       "      <td>No</td>\n",
       "      <td>No</td>\n",
       "      <td>Yes</td>\n",
       "    </tr>\n",
       "    <tr>\n",
       "      <th>1</th>\n",
       "      <td>No</td>\n",
       "      <td>Yes</td>\n",
       "      <td>No</td>\n",
       "      <td>No</td>\n",
       "      <td>No</td>\n",
       "      <td>No</td>\n",
       "      <td>No</td>\n",
       "      <td>Yes</td>\n",
       "      <td>No</td>\n",
       "      <td>No</td>\n",
       "      <td>...</td>\n",
       "      <td>Yes</td>\n",
       "      <td>No</td>\n",
       "      <td>No</td>\n",
       "      <td>No</td>\n",
       "      <td>No</td>\n",
       "      <td>No</td>\n",
       "      <td>No</td>\n",
       "      <td>Yes</td>\n",
       "      <td>No</td>\n",
       "      <td>Yes</td>\n",
       "    </tr>\n",
       "    <tr>\n",
       "      <th>2</th>\n",
       "      <td>No</td>\n",
       "      <td>Yes</td>\n",
       "      <td>No</td>\n",
       "      <td>No</td>\n",
       "      <td>No</td>\n",
       "      <td>No</td>\n",
       "      <td>No</td>\n",
       "      <td>Yes</td>\n",
       "      <td>No</td>\n",
       "      <td>No</td>\n",
       "      <td>...</td>\n",
       "      <td>Yes</td>\n",
       "      <td>No</td>\n",
       "      <td>No</td>\n",
       "      <td>No</td>\n",
       "      <td>No</td>\n",
       "      <td>No</td>\n",
       "      <td>Yes</td>\n",
       "      <td>No</td>\n",
       "      <td>No</td>\n",
       "      <td>Yes</td>\n",
       "    </tr>\n",
       "    <tr>\n",
       "      <th>3</th>\n",
       "      <td>Yes</td>\n",
       "      <td>No</td>\n",
       "      <td>No</td>\n",
       "      <td>No</td>\n",
       "      <td>No</td>\n",
       "      <td>No</td>\n",
       "      <td>No</td>\n",
       "      <td>Yes</td>\n",
       "      <td>No</td>\n",
       "      <td>No</td>\n",
       "      <td>...</td>\n",
       "      <td>Yes</td>\n",
       "      <td>No</td>\n",
       "      <td>No</td>\n",
       "      <td>No</td>\n",
       "      <td>No</td>\n",
       "      <td>No</td>\n",
       "      <td>No</td>\n",
       "      <td>Yes</td>\n",
       "      <td>Yes</td>\n",
       "      <td>No</td>\n",
       "    </tr>\n",
       "    <tr>\n",
       "      <th>4</th>\n",
       "      <td>No</td>\n",
       "      <td>No</td>\n",
       "      <td>Yes</td>\n",
       "      <td>No</td>\n",
       "      <td>No</td>\n",
       "      <td>No</td>\n",
       "      <td>No</td>\n",
       "      <td>Yes</td>\n",
       "      <td>No</td>\n",
       "      <td>No</td>\n",
       "      <td>...</td>\n",
       "      <td>Yes</td>\n",
       "      <td>No</td>\n",
       "      <td>No</td>\n",
       "      <td>No</td>\n",
       "      <td>No</td>\n",
       "      <td>No</td>\n",
       "      <td>No</td>\n",
       "      <td>Yes</td>\n",
       "      <td>No</td>\n",
       "      <td>Yes</td>\n",
       "    </tr>\n",
       "    <tr>\n",
       "      <th>...</th>\n",
       "      <td>...</td>\n",
       "      <td>...</td>\n",
       "      <td>...</td>\n",
       "      <td>...</td>\n",
       "      <td>...</td>\n",
       "      <td>...</td>\n",
       "      <td>...</td>\n",
       "      <td>...</td>\n",
       "      <td>...</td>\n",
       "      <td>...</td>\n",
       "      <td>...</td>\n",
       "      <td>...</td>\n",
       "      <td>...</td>\n",
       "      <td>...</td>\n",
       "      <td>...</td>\n",
       "      <td>...</td>\n",
       "      <td>...</td>\n",
       "      <td>...</td>\n",
       "      <td>...</td>\n",
       "      <td>...</td>\n",
       "      <td>...</td>\n",
       "    </tr>\n",
       "    <tr>\n",
       "      <th>43254</th>\n",
       "      <td>Yes</td>\n",
       "      <td>No</td>\n",
       "      <td>No</td>\n",
       "      <td>No</td>\n",
       "      <td>No</td>\n",
       "      <td>Yes</td>\n",
       "      <td>No</td>\n",
       "      <td>No</td>\n",
       "      <td>No</td>\n",
       "      <td>No</td>\n",
       "      <td>...</td>\n",
       "      <td>No</td>\n",
       "      <td>No</td>\n",
       "      <td>No</td>\n",
       "      <td>No</td>\n",
       "      <td>No</td>\n",
       "      <td>Yes</td>\n",
       "      <td>No</td>\n",
       "      <td>Yes</td>\n",
       "      <td>Yes</td>\n",
       "      <td>No</td>\n",
       "    </tr>\n",
       "    <tr>\n",
       "      <th>43255</th>\n",
       "      <td>Yes</td>\n",
       "      <td>No</td>\n",
       "      <td>No</td>\n",
       "      <td>No</td>\n",
       "      <td>No</td>\n",
       "      <td>Yes</td>\n",
       "      <td>No</td>\n",
       "      <td>No</td>\n",
       "      <td>No</td>\n",
       "      <td>No</td>\n",
       "      <td>...</td>\n",
       "      <td>No</td>\n",
       "      <td>No</td>\n",
       "      <td>No</td>\n",
       "      <td>No</td>\n",
       "      <td>No</td>\n",
       "      <td>Yes</td>\n",
       "      <td>No</td>\n",
       "      <td>Yes</td>\n",
       "      <td>No</td>\n",
       "      <td>Yes</td>\n",
       "    </tr>\n",
       "    <tr>\n",
       "      <th>43256</th>\n",
       "      <td>Yes</td>\n",
       "      <td>No</td>\n",
       "      <td>No</td>\n",
       "      <td>No</td>\n",
       "      <td>No</td>\n",
       "      <td>Yes</td>\n",
       "      <td>No</td>\n",
       "      <td>No</td>\n",
       "      <td>No</td>\n",
       "      <td>No</td>\n",
       "      <td>...</td>\n",
       "      <td>No</td>\n",
       "      <td>No</td>\n",
       "      <td>No</td>\n",
       "      <td>No</td>\n",
       "      <td>Yes</td>\n",
       "      <td>No</td>\n",
       "      <td>No</td>\n",
       "      <td>Yes</td>\n",
       "      <td>No</td>\n",
       "      <td>Yes</td>\n",
       "    </tr>\n",
       "    <tr>\n",
       "      <th>43257</th>\n",
       "      <td>No</td>\n",
       "      <td>Yes</td>\n",
       "      <td>No</td>\n",
       "      <td>No</td>\n",
       "      <td>No</td>\n",
       "      <td>Yes</td>\n",
       "      <td>No</td>\n",
       "      <td>No</td>\n",
       "      <td>No</td>\n",
       "      <td>No</td>\n",
       "      <td>...</td>\n",
       "      <td>No</td>\n",
       "      <td>No</td>\n",
       "      <td>No</td>\n",
       "      <td>No</td>\n",
       "      <td>Yes</td>\n",
       "      <td>No</td>\n",
       "      <td>No</td>\n",
       "      <td>Yes</td>\n",
       "      <td>Yes</td>\n",
       "      <td>No</td>\n",
       "    </tr>\n",
       "    <tr>\n",
       "      <th>43258</th>\n",
       "      <td>No</td>\n",
       "      <td>Yes</td>\n",
       "      <td>No</td>\n",
       "      <td>No</td>\n",
       "      <td>No</td>\n",
       "      <td>Yes</td>\n",
       "      <td>No</td>\n",
       "      <td>No</td>\n",
       "      <td>No</td>\n",
       "      <td>No</td>\n",
       "      <td>...</td>\n",
       "      <td>No</td>\n",
       "      <td>No</td>\n",
       "      <td>No</td>\n",
       "      <td>Yes</td>\n",
       "      <td>No</td>\n",
       "      <td>No</td>\n",
       "      <td>No</td>\n",
       "      <td>Yes</td>\n",
       "      <td>No</td>\n",
       "      <td>Yes</td>\n",
       "    </tr>\n",
       "  </tbody>\n",
       "</table>\n",
       "<p>43259 rows × 27 columns</p>\n",
       "</div>"
      ],
      "text/plain": [
       "      Moving Traffic Violation Road Traffic Collision Suspicion of Alcohol  \\\n",
       "0                          Yes                     No                   No   \n",
       "1                           No                    Yes                   No   \n",
       "2                           No                    Yes                   No   \n",
       "3                          Yes                     No                   No   \n",
       "4                           No                     No                  Yes   \n",
       "...                        ...                    ...                  ...   \n",
       "43254                      Yes                     No                   No   \n",
       "43255                      Yes                     No                   No   \n",
       "43256                      Yes                     No                   No   \n",
       "43257                       No                    Yes                   No   \n",
       "43258                       No                    Yes                   No   \n",
       "\n",
       "      Apr Aug  Dec Feb  Jan Jul Jun  ... 12am-4am 12pm-4pm 4am-8am 4pm-8pm  \\\n",
       "0      No  No   No  No  Yes  No  No  ...      Yes       No      No      No   \n",
       "1      No  No   No  No  Yes  No  No  ...      Yes       No      No      No   \n",
       "2      No  No   No  No  Yes  No  No  ...      Yes       No      No      No   \n",
       "3      No  No   No  No  Yes  No  No  ...      Yes       No      No      No   \n",
       "4      No  No   No  No  Yes  No  No  ...      Yes       No      No      No   \n",
       "...    ..  ..  ...  ..  ...  ..  ..  ...      ...      ...     ...     ...   \n",
       "43254  No  No  Yes  No   No  No  No  ...       No       No      No      No   \n",
       "43255  No  No  Yes  No   No  No  No  ...       No       No      No      No   \n",
       "43256  No  No  Yes  No   No  No  No  ...       No       No      No      No   \n",
       "43257  No  No  Yes  No   No  No  No  ...       No       No      No      No   \n",
       "43258  No  No  Yes  No   No  No  No  ...       No       No      No     Yes   \n",
       "\n",
       "      8am-12pm 8pm-12pm Intoxicated Not Intoxicated Female Male  \n",
       "0           No       No         Yes              No     No  Yes  \n",
       "1           No       No          No             Yes     No  Yes  \n",
       "2           No       No         Yes              No     No  Yes  \n",
       "3           No       No          No             Yes    Yes   No  \n",
       "4           No       No          No             Yes     No  Yes  \n",
       "...        ...      ...         ...             ...    ...  ...  \n",
       "43254       No      Yes          No             Yes    Yes   No  \n",
       "43255       No      Yes          No             Yes     No  Yes  \n",
       "43256      Yes       No          No             Yes     No  Yes  \n",
       "43257      Yes       No          No             Yes    Yes   No  \n",
       "43258       No       No          No             Yes     No  Yes  \n",
       "\n",
       "[43259 rows x 27 columns]"
      ]
     },
     "execution_count": 44,
     "metadata": {},
     "output_type": "execute_result"
    }
   ],
   "source": [
    "table"
   ]
  },
  {
   "cell_type": "code",
   "execution_count": 45,
   "id": "aa368888-b2c5-4594-b0a4-93795f4cb766",
   "metadata": {},
   "outputs": [
    {
     "data": {
      "text/html": [
       "<div>\n",
       "<style scoped>\n",
       "    .dataframe tbody tr th:only-of-type {\n",
       "        vertical-align: middle;\n",
       "    }\n",
       "\n",
       "    .dataframe tbody tr th {\n",
       "        vertical-align: top;\n",
       "    }\n",
       "\n",
       "    .dataframe thead th {\n",
       "        text-align: right;\n",
       "    }\n",
       "</style>\n",
       "<table border=\"1\" class=\"dataframe\">\n",
       "  <thead>\n",
       "    <tr style=\"text-align: right;\">\n",
       "      <th></th>\n",
       "      <th>Moving Traffic Violation</th>\n",
       "      <th>Road Traffic Collision</th>\n",
       "      <th>Suspicion of Alcohol</th>\n",
       "      <th>Apr</th>\n",
       "      <th>Aug</th>\n",
       "      <th>Dec</th>\n",
       "      <th>Feb</th>\n",
       "      <th>Jan</th>\n",
       "      <th>Jul</th>\n",
       "      <th>Jun</th>\n",
       "      <th>...</th>\n",
       "      <th>12am-4am</th>\n",
       "      <th>12pm-4pm</th>\n",
       "      <th>4am-8am</th>\n",
       "      <th>4pm-8pm</th>\n",
       "      <th>8am-12pm</th>\n",
       "      <th>8pm-12pm</th>\n",
       "      <th>Intoxicated</th>\n",
       "      <th>Not Intoxicated</th>\n",
       "      <th>Female</th>\n",
       "      <th>Male</th>\n",
       "    </tr>\n",
       "  </thead>\n",
       "  <tbody>\n",
       "    <tr>\n",
       "      <th>43254</th>\n",
       "      <td>Yes</td>\n",
       "      <td>No</td>\n",
       "      <td>No</td>\n",
       "      <td>No</td>\n",
       "      <td>No</td>\n",
       "      <td>Yes</td>\n",
       "      <td>No</td>\n",
       "      <td>No</td>\n",
       "      <td>No</td>\n",
       "      <td>No</td>\n",
       "      <td>...</td>\n",
       "      <td>No</td>\n",
       "      <td>No</td>\n",
       "      <td>No</td>\n",
       "      <td>No</td>\n",
       "      <td>No</td>\n",
       "      <td>Yes</td>\n",
       "      <td>No</td>\n",
       "      <td>Yes</td>\n",
       "      <td>Yes</td>\n",
       "      <td>No</td>\n",
       "    </tr>\n",
       "    <tr>\n",
       "      <th>43255</th>\n",
       "      <td>Yes</td>\n",
       "      <td>No</td>\n",
       "      <td>No</td>\n",
       "      <td>No</td>\n",
       "      <td>No</td>\n",
       "      <td>Yes</td>\n",
       "      <td>No</td>\n",
       "      <td>No</td>\n",
       "      <td>No</td>\n",
       "      <td>No</td>\n",
       "      <td>...</td>\n",
       "      <td>No</td>\n",
       "      <td>No</td>\n",
       "      <td>No</td>\n",
       "      <td>No</td>\n",
       "      <td>No</td>\n",
       "      <td>Yes</td>\n",
       "      <td>No</td>\n",
       "      <td>Yes</td>\n",
       "      <td>No</td>\n",
       "      <td>Yes</td>\n",
       "    </tr>\n",
       "    <tr>\n",
       "      <th>43256</th>\n",
       "      <td>Yes</td>\n",
       "      <td>No</td>\n",
       "      <td>No</td>\n",
       "      <td>No</td>\n",
       "      <td>No</td>\n",
       "      <td>Yes</td>\n",
       "      <td>No</td>\n",
       "      <td>No</td>\n",
       "      <td>No</td>\n",
       "      <td>No</td>\n",
       "      <td>...</td>\n",
       "      <td>No</td>\n",
       "      <td>No</td>\n",
       "      <td>No</td>\n",
       "      <td>No</td>\n",
       "      <td>Yes</td>\n",
       "      <td>No</td>\n",
       "      <td>No</td>\n",
       "      <td>Yes</td>\n",
       "      <td>No</td>\n",
       "      <td>Yes</td>\n",
       "    </tr>\n",
       "    <tr>\n",
       "      <th>43257</th>\n",
       "      <td>No</td>\n",
       "      <td>Yes</td>\n",
       "      <td>No</td>\n",
       "      <td>No</td>\n",
       "      <td>No</td>\n",
       "      <td>Yes</td>\n",
       "      <td>No</td>\n",
       "      <td>No</td>\n",
       "      <td>No</td>\n",
       "      <td>No</td>\n",
       "      <td>...</td>\n",
       "      <td>No</td>\n",
       "      <td>No</td>\n",
       "      <td>No</td>\n",
       "      <td>No</td>\n",
       "      <td>Yes</td>\n",
       "      <td>No</td>\n",
       "      <td>No</td>\n",
       "      <td>Yes</td>\n",
       "      <td>Yes</td>\n",
       "      <td>No</td>\n",
       "    </tr>\n",
       "    <tr>\n",
       "      <th>43258</th>\n",
       "      <td>No</td>\n",
       "      <td>Yes</td>\n",
       "      <td>No</td>\n",
       "      <td>No</td>\n",
       "      <td>No</td>\n",
       "      <td>Yes</td>\n",
       "      <td>No</td>\n",
       "      <td>No</td>\n",
       "      <td>No</td>\n",
       "      <td>No</td>\n",
       "      <td>...</td>\n",
       "      <td>No</td>\n",
       "      <td>No</td>\n",
       "      <td>No</td>\n",
       "      <td>Yes</td>\n",
       "      <td>No</td>\n",
       "      <td>No</td>\n",
       "      <td>No</td>\n",
       "      <td>Yes</td>\n",
       "      <td>No</td>\n",
       "      <td>Yes</td>\n",
       "    </tr>\n",
       "  </tbody>\n",
       "</table>\n",
       "<p>5 rows × 27 columns</p>\n",
       "</div>"
      ],
      "text/plain": [
       "      Moving Traffic Violation Road Traffic Collision Suspicion of Alcohol  \\\n",
       "43254                      Yes                     No                   No   \n",
       "43255                      Yes                     No                   No   \n",
       "43256                      Yes                     No                   No   \n",
       "43257                       No                    Yes                   No   \n",
       "43258                       No                    Yes                   No   \n",
       "\n",
       "      Apr Aug  Dec Feb Jan Jul Jun  ... 12am-4am 12pm-4pm 4am-8am 4pm-8pm  \\\n",
       "43254  No  No  Yes  No  No  No  No  ...       No       No      No      No   \n",
       "43255  No  No  Yes  No  No  No  No  ...       No       No      No      No   \n",
       "43256  No  No  Yes  No  No  No  No  ...       No       No      No      No   \n",
       "43257  No  No  Yes  No  No  No  No  ...       No       No      No      No   \n",
       "43258  No  No  Yes  No  No  No  No  ...       No       No      No     Yes   \n",
       "\n",
       "      8am-12pm 8pm-12pm Intoxicated Not Intoxicated Female Male  \n",
       "43254       No      Yes          No             Yes    Yes   No  \n",
       "43255       No      Yes          No             Yes     No  Yes  \n",
       "43256      Yes       No          No             Yes     No  Yes  \n",
       "43257      Yes       No          No             Yes    Yes   No  \n",
       "43258       No       No          No             Yes     No  Yes  \n",
       "\n",
       "[5 rows x 27 columns]"
      ]
     },
     "execution_count": 45,
     "metadata": {},
     "output_type": "execute_result"
    }
   ],
   "source": [
    "table.tail()"
   ]
  },
  {
   "cell_type": "code",
   "execution_count": 46,
   "id": "7012c4ed-6e6d-465e-a853-dcead48f2a3d",
   "metadata": {},
   "outputs": [
    {
     "data": {
      "text/html": [
       "<div>\n",
       "<style scoped>\n",
       "    .dataframe tbody tr th:only-of-type {\n",
       "        vertical-align: middle;\n",
       "    }\n",
       "\n",
       "    .dataframe tbody tr th {\n",
       "        vertical-align: top;\n",
       "    }\n",
       "\n",
       "    .dataframe thead th {\n",
       "        text-align: right;\n",
       "    }\n",
       "</style>\n",
       "<table border=\"1\" class=\"dataframe\">\n",
       "  <thead>\n",
       "    <tr style=\"text-align: right;\">\n",
       "      <th></th>\n",
       "      <th>Moving Traffic Violation</th>\n",
       "      <th>Road Traffic Collision</th>\n",
       "      <th>Suspicion of Alcohol</th>\n",
       "      <th>Apr</th>\n",
       "      <th>Aug</th>\n",
       "      <th>Dec</th>\n",
       "      <th>Feb</th>\n",
       "      <th>Jan</th>\n",
       "      <th>Jul</th>\n",
       "      <th>Jun</th>\n",
       "      <th>...</th>\n",
       "      <th>12am-4am</th>\n",
       "      <th>12pm-4pm</th>\n",
       "      <th>4am-8am</th>\n",
       "      <th>4pm-8pm</th>\n",
       "      <th>8am-12pm</th>\n",
       "      <th>8pm-12pm</th>\n",
       "      <th>Intoxicated</th>\n",
       "      <th>Not Intoxicated</th>\n",
       "      <th>Female</th>\n",
       "      <th>Male</th>\n",
       "    </tr>\n",
       "  </thead>\n",
       "  <tbody>\n",
       "    <tr>\n",
       "      <th>count</th>\n",
       "      <td>43259</td>\n",
       "      <td>43259</td>\n",
       "      <td>43259</td>\n",
       "      <td>43259</td>\n",
       "      <td>43259</td>\n",
       "      <td>43259</td>\n",
       "      <td>43259</td>\n",
       "      <td>43259</td>\n",
       "      <td>43259</td>\n",
       "      <td>43259</td>\n",
       "      <td>...</td>\n",
       "      <td>43259</td>\n",
       "      <td>43259</td>\n",
       "      <td>43259</td>\n",
       "      <td>43259</td>\n",
       "      <td>43259</td>\n",
       "      <td>43259</td>\n",
       "      <td>43259</td>\n",
       "      <td>43259</td>\n",
       "      <td>43259</td>\n",
       "      <td>43259</td>\n",
       "    </tr>\n",
       "    <tr>\n",
       "      <th>unique</th>\n",
       "      <td>2</td>\n",
       "      <td>2</td>\n",
       "      <td>2</td>\n",
       "      <td>2</td>\n",
       "      <td>2</td>\n",
       "      <td>2</td>\n",
       "      <td>2</td>\n",
       "      <td>2</td>\n",
       "      <td>2</td>\n",
       "      <td>2</td>\n",
       "      <td>...</td>\n",
       "      <td>2</td>\n",
       "      <td>2</td>\n",
       "      <td>2</td>\n",
       "      <td>2</td>\n",
       "      <td>2</td>\n",
       "      <td>2</td>\n",
       "      <td>2</td>\n",
       "      <td>2</td>\n",
       "      <td>2</td>\n",
       "      <td>2</td>\n",
       "    </tr>\n",
       "    <tr>\n",
       "      <th>top</th>\n",
       "      <td>No</td>\n",
       "      <td>No</td>\n",
       "      <td>No</td>\n",
       "      <td>No</td>\n",
       "      <td>No</td>\n",
       "      <td>No</td>\n",
       "      <td>No</td>\n",
       "      <td>No</td>\n",
       "      <td>No</td>\n",
       "      <td>No</td>\n",
       "      <td>...</td>\n",
       "      <td>No</td>\n",
       "      <td>No</td>\n",
       "      <td>No</td>\n",
       "      <td>No</td>\n",
       "      <td>No</td>\n",
       "      <td>No</td>\n",
       "      <td>No</td>\n",
       "      <td>Yes</td>\n",
       "      <td>No</td>\n",
       "      <td>Yes</td>\n",
       "    </tr>\n",
       "    <tr>\n",
       "      <th>freq</th>\n",
       "      <td>25635</td>\n",
       "      <td>26988</td>\n",
       "      <td>33895</td>\n",
       "      <td>41031</td>\n",
       "      <td>40086</td>\n",
       "      <td>36007</td>\n",
       "      <td>40125</td>\n",
       "      <td>40161</td>\n",
       "      <td>40309</td>\n",
       "      <td>35667</td>\n",
       "      <td>...</td>\n",
       "      <td>34484</td>\n",
       "      <td>37336</td>\n",
       "      <td>39727</td>\n",
       "      <td>35637</td>\n",
       "      <td>36557</td>\n",
       "      <td>32554</td>\n",
       "      <td>38328</td>\n",
       "      <td>38328</td>\n",
       "      <td>34430</td>\n",
       "      <td>34430</td>\n",
       "    </tr>\n",
       "  </tbody>\n",
       "</table>\n",
       "<p>4 rows × 27 columns</p>\n",
       "</div>"
      ],
      "text/plain": [
       "       Moving Traffic Violation Road Traffic Collision Suspicion of Alcohol  \\\n",
       "count                     43259                  43259                43259   \n",
       "unique                        2                      2                    2   \n",
       "top                          No                     No                   No   \n",
       "freq                      25635                  26988                33895   \n",
       "\n",
       "          Apr    Aug    Dec    Feb    Jan    Jul    Jun  ... 12am-4am  \\\n",
       "count   43259  43259  43259  43259  43259  43259  43259  ...    43259   \n",
       "unique      2      2      2      2      2      2      2  ...        2   \n",
       "top        No     No     No     No     No     No     No  ...       No   \n",
       "freq    41031  40086  36007  40125  40161  40309  35667  ...    34484   \n",
       "\n",
       "       12pm-4pm 4am-8am 4pm-8pm 8am-12pm 8pm-12pm Intoxicated Not Intoxicated  \\\n",
       "count     43259   43259   43259    43259    43259       43259           43259   \n",
       "unique        2       2       2        2        2           2               2   \n",
       "top          No      No      No       No       No          No             Yes   \n",
       "freq      37336   39727   35637    36557    32554       38328           38328   \n",
       "\n",
       "       Female   Male  \n",
       "count   43259  43259  \n",
       "unique      2      2  \n",
       "top        No    Yes  \n",
       "freq    34430  34430  \n",
       "\n",
       "[4 rows x 27 columns]"
      ]
     },
     "execution_count": 46,
     "metadata": {},
     "output_type": "execute_result"
    }
   ],
   "source": [
    "table.describe()"
   ]
  },
  {
   "cell_type": "code",
   "execution_count": 47,
   "id": "4bcf1ccb-0712-4101-9238-99f684748391",
   "metadata": {},
   "outputs": [
    {
     "data": {
      "text/plain": [
       "Moving Traffic Violation    object\n",
       "Road Traffic Collision      object\n",
       "Suspicion of Alcohol        object\n",
       "Apr                         object\n",
       "Aug                         object\n",
       "Dec                         object\n",
       "Feb                         object\n",
       "Jan                         object\n",
       "Jul                         object\n",
       "Jun                         object\n",
       "Mar                         object\n",
       "May                         object\n",
       "Nov                         object\n",
       "Oct                         object\n",
       "Sep                         object\n",
       "Weekday                     object\n",
       "Weekend                     object\n",
       "12am-4am                    object\n",
       "12pm-4pm                    object\n",
       "4am-8am                     object\n",
       "4pm-8pm                     object\n",
       "8am-12pm                    object\n",
       "8pm-12pm                    object\n",
       "Intoxicated                 object\n",
       "Not Intoxicated             object\n",
       "Female                      object\n",
       "Male                        object\n",
       "dtype: object"
      ]
     },
     "execution_count": 47,
     "metadata": {},
     "output_type": "execute_result"
    }
   ],
   "source": [
    "table.dtypes"
   ]
  },
  {
   "cell_type": "code",
   "execution_count": 48,
   "id": "97f1d77f-d1e8-42fa-b0fe-f8a7813e54e5",
   "metadata": {},
   "outputs": [
    {
     "data": {
      "image/png": "[encoded data removed]",
      "text/plain": [
       "<Figure size 432x288 with 1 Axes>"
      ]
     },
     "metadata": {
      "needs_background": "light"
     },
     "output_type": "display_data"
    }
   ],
   "source": [
    "#plot and explore the data set \n",
    "yes= (table == 'Yes').sum()\n",
    "no = (table == \"No\").sum()\n",
    "event = pd.concat([yes,no],axis=1, keys = [\"yes\",\"no\"])\n",
    "ax = event.plot.bar(stacked = True)\n",
    "plt.title('Details of Motor Accident Event')\n",
    "plt.show()"
   ]
  },
  {
   "cell_type": "markdown",
   "id": "3521bb1a-1196-49dc-ab9f-c8950ab09080",
   "metadata": {},
   "source": [
    "Using UTILS to create list of list from our Table"
   ]
  },
  {
   "cell_type": "code",
   "execution_count": 49,
   "id": "a68c7a81-ef9a-496f-8761-83e79686ca0e",
   "metadata": {},
   "outputs": [
    {
     "data": {
      "text/plain": [
       "<function utils.extract(rules, filter='All', min_element=1)>"
      ]
     },
     "execution_count": 49,
     "metadata": {},
     "output_type": "execute_result"
    }
   ],
   "source": [
    "utils.extract"
   ]
  },
  {
   "cell_type": "code",
   "execution_count": 50,
   "id": "bcc222e7-5d4b-45b5-adee-bc4434008eed",
   "metadata": {},
   "outputs": [],
   "source": [
    "event = utils.data_prepare(table)"
   ]
  },
  {
   "cell_type": "code",
   "execution_count": 101,
   "id": "bb0cbeb7-e8ae-4c30-b9a8-2cb96277d4c3",
   "metadata": {},
   "outputs": [],
   "source": [
    "#Generating association rules\n",
    "Rules = list(apriori(event, min_support = 0.2, min_confidence = 0.2))"
   ]
  },
  {
   "cell_type": "code",
   "execution_count": 102,
   "id": "10361140-5508-4093-9979-38958b5c3239",
   "metadata": {},
   "outputs": [
    {
     "data": {
      "text/plain": [
       "91"
      ]
     },
     "execution_count": 102,
     "metadata": {},
     "output_type": "execute_result"
    }
   ],
   "source": [
    "# Extract the created rules\n",
    "associationRules = utils.extract(Rules)\n",
    "rules_df = pd.DataFrame(associationRules,columns = ['LHS','RHS','Support','Confidence','Lift'])\n",
    "len(rules_df)"
   ]
  },
  {
   "cell_type": "markdown",
   "id": "e6a2afd0-ed88-480a-a70f-ee5147ceff97",
   "metadata": {
    "tags": []
   },
   "source": [
    "## Exploring all dataset"
   ]
  },
  {
   "cell_type": "code",
   "execution_count": 115,
   "id": "00e3e945-651f-4c71-9705-336079124b1f",
   "metadata": {},
   "outputs": [
    {
     "data": {
      "text/html": [
       "<div>\n",
       "<style scoped>\n",
       "    .dataframe tbody tr th:only-of-type {\n",
       "        vertical-align: middle;\n",
       "    }\n",
       "\n",
       "    .dataframe tbody tr th {\n",
       "        vertical-align: top;\n",
       "    }\n",
       "\n",
       "    .dataframe thead th {\n",
       "        text-align: right;\n",
       "    }\n",
       "</style>\n",
       "<table border=\"1\" class=\"dataframe\">\n",
       "  <thead>\n",
       "    <tr style=\"text-align: right;\">\n",
       "      <th></th>\n",
       "      <th>LHS</th>\n",
       "      <th>RHS</th>\n",
       "      <th>Support</th>\n",
       "      <th>Confidence</th>\n",
       "      <th>Lift</th>\n",
       "    </tr>\n",
       "  </thead>\n",
       "  <tbody>\n",
       "    <tr>\n",
       "      <th>1</th>\n",
       "      <td>[]</td>\n",
       "      <td>[Not Intoxicated]</td>\n",
       "      <td>0.886012</td>\n",
       "      <td>0.886012</td>\n",
       "      <td>1.000000</td>\n",
       "    </tr>\n",
       "    <tr>\n",
       "      <th>0</th>\n",
       "      <td>[]</td>\n",
       "      <td>[Male]</td>\n",
       "      <td>0.795904</td>\n",
       "      <td>0.795904</td>\n",
       "      <td>1.000000</td>\n",
       "    </tr>\n",
       "    <tr>\n",
       "      <th>26</th>\n",
       "      <td>[]</td>\n",
       "      <td>[Not Intoxicated, Male]</td>\n",
       "      <td>0.699485</td>\n",
       "      <td>0.699485</td>\n",
       "      <td>1.000000</td>\n",
       "    </tr>\n",
       "    <tr>\n",
       "      <th>27</th>\n",
       "      <td>[Male]</td>\n",
       "      <td>[Not Intoxicated]</td>\n",
       "      <td>0.699485</td>\n",
       "      <td>0.878856</td>\n",
       "      <td>0.991923</td>\n",
       "    </tr>\n",
       "    <tr>\n",
       "      <th>28</th>\n",
       "      <td>[Not Intoxicated]</td>\n",
       "      <td>[Male]</td>\n",
       "      <td>0.699485</td>\n",
       "      <td>0.789475</td>\n",
       "      <td>0.991923</td>\n",
       "    </tr>\n",
       "    <tr>\n",
       "      <th>2</th>\n",
       "      <td>[]</td>\n",
       "      <td>[Weekday]</td>\n",
       "      <td>0.591831</td>\n",
       "      <td>0.591831</td>\n",
       "      <td>1.000000</td>\n",
       "    </tr>\n",
       "    <tr>\n",
       "      <th>39</th>\n",
       "      <td>[]</td>\n",
       "      <td>[Not Intoxicated, Weekday]</td>\n",
       "      <td>0.533831</td>\n",
       "      <td>0.533831</td>\n",
       "      <td>1.000000</td>\n",
       "    </tr>\n",
       "    <tr>\n",
       "      <th>40</th>\n",
       "      <td>[Not Intoxicated]</td>\n",
       "      <td>[Weekday]</td>\n",
       "      <td>0.533831</td>\n",
       "      <td>0.602510</td>\n",
       "      <td>1.018045</td>\n",
       "    </tr>\n",
       "    <tr>\n",
       "      <th>41</th>\n",
       "      <td>[Weekday]</td>\n",
       "      <td>[Not Intoxicated]</td>\n",
       "      <td>0.533831</td>\n",
       "      <td>0.902000</td>\n",
       "      <td>1.018045</td>\n",
       "    </tr>\n",
       "    <tr>\n",
       "      <th>31</th>\n",
       "      <td>[]</td>\n",
       "      <td>[Weekday, Male]</td>\n",
       "      <td>0.466400</td>\n",
       "      <td>0.466400</td>\n",
       "      <td>1.000000</td>\n",
       "    </tr>\n",
       "  </tbody>\n",
       "</table>\n",
       "</div>"
      ],
      "text/plain": [
       "                  LHS                         RHS   Support  Confidence  \\\n",
       "1                  []           [Not Intoxicated]  0.886012    0.886012   \n",
       "0                  []                      [Male]  0.795904    0.795904   \n",
       "26                 []     [Not Intoxicated, Male]  0.699485    0.699485   \n",
       "27             [Male]           [Not Intoxicated]  0.699485    0.878856   \n",
       "28  [Not Intoxicated]                      [Male]  0.699485    0.789475   \n",
       "2                  []                   [Weekday]  0.591831    0.591831   \n",
       "39                 []  [Not Intoxicated, Weekday]  0.533831    0.533831   \n",
       "40  [Not Intoxicated]                   [Weekday]  0.533831    0.602510   \n",
       "41          [Weekday]           [Not Intoxicated]  0.533831    0.902000   \n",
       "31                 []             [Weekday, Male]  0.466400    0.466400   \n",
       "\n",
       "        Lift  \n",
       "1   1.000000  \n",
       "0   1.000000  \n",
       "26  1.000000  \n",
       "27  0.991923  \n",
       "28  0.991923  \n",
       "2   1.000000  \n",
       "39  1.000000  \n",
       "40  1.018045  \n",
       "41  1.018045  \n",
       "31  1.000000  "
      ]
     },
     "execution_count": 115,
     "metadata": {},
     "output_type": "execute_result"
    }
   ],
   "source": [
    "rules_df.nlargest(10,'Support')"
   ]
  },
  {
   "cell_type": "code",
   "execution_count": 104,
   "id": "7de5f8b8-cf02-4c1b-843f-f3e0be023c47",
   "metadata": {},
   "outputs": [
    {
     "data": {
      "text/html": [
       "<div>\n",
       "<style scoped>\n",
       "    .dataframe tbody tr th:only-of-type {\n",
       "        vertical-align: middle;\n",
       "    }\n",
       "\n",
       "    .dataframe tbody tr th {\n",
       "        vertical-align: top;\n",
       "    }\n",
       "\n",
       "    .dataframe thead th {\n",
       "        text-align: right;\n",
       "    }\n",
       "</style>\n",
       "<table border=\"1\" class=\"dataframe\">\n",
       "  <thead>\n",
       "    <tr style=\"text-align: right;\">\n",
       "      <th></th>\n",
       "      <th>LHS</th>\n",
       "      <th>RHS</th>\n",
       "      <th>Support</th>\n",
       "      <th>Confidence</th>\n",
       "      <th>Lift</th>\n",
       "    </tr>\n",
       "  </thead>\n",
       "  <tbody>\n",
       "    <tr>\n",
       "      <th>88</th>\n",
       "      <td>[Not Intoxicated, Road Traffic Collision]</td>\n",
       "      <td>[Weekday]</td>\n",
       "      <td>0.229316</td>\n",
       "      <td>0.687123</td>\n",
       "      <td>1.161014</td>\n",
       "    </tr>\n",
       "    <tr>\n",
       "      <th>87</th>\n",
       "      <td>[Weekday]</td>\n",
       "      <td>[Not Intoxicated, Road Traffic Collision]</td>\n",
       "      <td>0.229316</td>\n",
       "      <td>0.387470</td>\n",
       "      <td>1.161014</td>\n",
       "    </tr>\n",
       "    <tr>\n",
       "      <th>86</th>\n",
       "      <td>[Road Traffic Collision]</td>\n",
       "      <td>[Not Intoxicated, Weekday]</td>\n",
       "      <td>0.229316</td>\n",
       "      <td>0.609674</td>\n",
       "      <td>1.142072</td>\n",
       "    </tr>\n",
       "    <tr>\n",
       "      <th>89</th>\n",
       "      <td>[Not Intoxicated, Weekday]</td>\n",
       "      <td>[Road Traffic Collision]</td>\n",
       "      <td>0.229316</td>\n",
       "      <td>0.429567</td>\n",
       "      <td>1.142072</td>\n",
       "    </tr>\n",
       "    <tr>\n",
       "      <th>47</th>\n",
       "      <td>[Road Traffic Collision]</td>\n",
       "      <td>[Weekday]</td>\n",
       "      <td>0.251138</td>\n",
       "      <td>0.667691</td>\n",
       "      <td>1.128179</td>\n",
       "    </tr>\n",
       "    <tr>\n",
       "      <th>48</th>\n",
       "      <td>[Weekday]</td>\n",
       "      <td>[Road Traffic Collision]</td>\n",
       "      <td>0.251138</td>\n",
       "      <td>0.424342</td>\n",
       "      <td>1.128179</td>\n",
       "    </tr>\n",
       "    <tr>\n",
       "      <th>51</th>\n",
       "      <td>[Moving Traffic Violation]</td>\n",
       "      <td>[Not Intoxicated, Male]</td>\n",
       "      <td>0.302897</td>\n",
       "      <td>0.743475</td>\n",
       "      <td>1.062890</td>\n",
       "    </tr>\n",
       "    <tr>\n",
       "      <th>54</th>\n",
       "      <td>[Not Intoxicated, Male]</td>\n",
       "      <td>[Moving Traffic Violation]</td>\n",
       "      <td>0.302897</td>\n",
       "      <td>0.433028</td>\n",
       "      <td>1.062890</td>\n",
       "    </tr>\n",
       "    <tr>\n",
       "      <th>79</th>\n",
       "      <td>[Not Intoxicated]</td>\n",
       "      <td>[Moving Traffic Violation, Weekday]</td>\n",
       "      <td>0.212025</td>\n",
       "      <td>0.239303</td>\n",
       "      <td>1.058271</td>\n",
       "    </tr>\n",
       "    <tr>\n",
       "      <th>82</th>\n",
       "      <td>[Moving Traffic Violation, Weekday]</td>\n",
       "      <td>[Not Intoxicated]</td>\n",
       "      <td>0.212025</td>\n",
       "      <td>0.937641</td>\n",
       "      <td>1.058271</td>\n",
       "    </tr>\n",
       "  </tbody>\n",
       "</table>\n",
       "</div>"
      ],
      "text/plain": [
       "                                          LHS  \\\n",
       "88  [Not Intoxicated, Road Traffic Collision]   \n",
       "87                                  [Weekday]   \n",
       "86                   [Road Traffic Collision]   \n",
       "89                 [Not Intoxicated, Weekday]   \n",
       "47                   [Road Traffic Collision]   \n",
       "48                                  [Weekday]   \n",
       "51                 [Moving Traffic Violation]   \n",
       "54                    [Not Intoxicated, Male]   \n",
       "79                          [Not Intoxicated]   \n",
       "82        [Moving Traffic Violation, Weekday]   \n",
       "\n",
       "                                          RHS   Support  Confidence      Lift  \n",
       "88                                  [Weekday]  0.229316    0.687123  1.161014  \n",
       "87  [Not Intoxicated, Road Traffic Collision]  0.229316    0.387470  1.161014  \n",
       "86                 [Not Intoxicated, Weekday]  0.229316    0.609674  1.142072  \n",
       "89                   [Road Traffic Collision]  0.229316    0.429567  1.142072  \n",
       "47                                  [Weekday]  0.251138    0.667691  1.128179  \n",
       "48                   [Road Traffic Collision]  0.251138    0.424342  1.128179  \n",
       "51                    [Not Intoxicated, Male]  0.302897    0.743475  1.062890  \n",
       "54                 [Moving Traffic Violation]  0.302897    0.433028  1.062890  \n",
       "79        [Moving Traffic Violation, Weekday]  0.212025    0.239303  1.058271  \n",
       "82                          [Not Intoxicated]  0.212025    0.937641  1.058271  "
      ]
     },
     "execution_count": 104,
     "metadata": {},
     "output_type": "execute_result"
    }
   ],
   "source": [
    "#Looking at top 10 rules with highest lift \n",
    "rules_df.nlargest(10, \"Lift\")"
   ]
  },
  {
   "cell_type": "code",
   "execution_count": 55,
   "id": "db116e9c-069f-4772-89f9-b0a8923da738",
   "metadata": {},
   "outputs": [
    {
     "data": {
      "text/html": [
       "<div>\n",
       "<style scoped>\n",
       "    .dataframe tbody tr th:only-of-type {\n",
       "        vertical-align: middle;\n",
       "    }\n",
       "\n",
       "    .dataframe tbody tr th {\n",
       "        vertical-align: top;\n",
       "    }\n",
       "\n",
       "    .dataframe thead th {\n",
       "        text-align: right;\n",
       "    }\n",
       "</style>\n",
       "<table border=\"1\" class=\"dataframe\">\n",
       "  <thead>\n",
       "    <tr style=\"text-align: right;\">\n",
       "      <th></th>\n",
       "      <th>LHS</th>\n",
       "      <th>RHS</th>\n",
       "      <th>Support</th>\n",
       "      <th>Confidence</th>\n",
       "      <th>Lift</th>\n",
       "    </tr>\n",
       "  </thead>\n",
       "  <tbody>\n",
       "    <tr>\n",
       "      <th>82</th>\n",
       "      <td>[Moving Traffic Violation, Weekday]</td>\n",
       "      <td>[Not Intoxicated]</td>\n",
       "      <td>0.212025</td>\n",
       "      <td>0.937641</td>\n",
       "      <td>1.058271</td>\n",
       "    </tr>\n",
       "    <tr>\n",
       "      <th>32</th>\n",
       "      <td>[Moving Traffic Violation]</td>\n",
       "      <td>[Not Intoxicated]</td>\n",
       "      <td>0.378233</td>\n",
       "      <td>0.928393</td>\n",
       "      <td>1.047833</td>\n",
       "    </tr>\n",
       "    <tr>\n",
       "      <th>53</th>\n",
       "      <td>[Moving Traffic Violation, Male]</td>\n",
       "      <td>[Not Intoxicated]</td>\n",
       "      <td>0.302897</td>\n",
       "      <td>0.924700</td>\n",
       "      <td>1.043665</td>\n",
       "    </tr>\n",
       "    <tr>\n",
       "      <th>90</th>\n",
       "      <td>[Weekday, Road Traffic Collision]</td>\n",
       "      <td>[Not Intoxicated]</td>\n",
       "      <td>0.229316</td>\n",
       "      <td>0.913108</td>\n",
       "      <td>1.030581</td>\n",
       "    </tr>\n",
       "    <tr>\n",
       "      <th>42</th>\n",
       "      <td>[Weekday]</td>\n",
       "      <td>[Not Intoxicated]</td>\n",
       "      <td>0.533831</td>\n",
       "      <td>0.902000</td>\n",
       "      <td>1.018045</td>\n",
       "    </tr>\n",
       "    <tr>\n",
       "      <th>68</th>\n",
       "      <td>[Weekday, Male]</td>\n",
       "      <td>[Not Intoxicated]</td>\n",
       "      <td>0.417277</td>\n",
       "      <td>0.894677</td>\n",
       "      <td>1.009779</td>\n",
       "    </tr>\n",
       "    <tr>\n",
       "      <th>14</th>\n",
       "      <td>[8pm-12pm]</td>\n",
       "      <td>[Not Intoxicated]</td>\n",
       "      <td>0.221179</td>\n",
       "      <td>0.893788</td>\n",
       "      <td>1.008776</td>\n",
       "    </tr>\n",
       "    <tr>\n",
       "      <th>39</th>\n",
       "      <td>[Road Traffic Collision]</td>\n",
       "      <td>[Not Intoxicated]</td>\n",
       "      <td>0.333734</td>\n",
       "      <td>0.887284</td>\n",
       "      <td>1.001436</td>\n",
       "    </tr>\n",
       "    <tr>\n",
       "      <th>5</th>\n",
       "      <td>[]</td>\n",
       "      <td>[Not Intoxicated]</td>\n",
       "      <td>0.886012</td>\n",
       "      <td>0.886012</td>\n",
       "      <td>1.000000</td>\n",
       "    </tr>\n",
       "    <tr>\n",
       "      <th>20</th>\n",
       "      <td>[Male]</td>\n",
       "      <td>[Not Intoxicated]</td>\n",
       "      <td>0.699485</td>\n",
       "      <td>0.878856</td>\n",
       "      <td>0.991923</td>\n",
       "    </tr>\n",
       "  </tbody>\n",
       "</table>\n",
       "</div>"
      ],
      "text/plain": [
       "                                    LHS                RHS   Support  \\\n",
       "82  [Moving Traffic Violation, Weekday]  [Not Intoxicated]  0.212025   \n",
       "32           [Moving Traffic Violation]  [Not Intoxicated]  0.378233   \n",
       "53     [Moving Traffic Violation, Male]  [Not Intoxicated]  0.302897   \n",
       "90    [Weekday, Road Traffic Collision]  [Not Intoxicated]  0.229316   \n",
       "42                            [Weekday]  [Not Intoxicated]  0.533831   \n",
       "68                      [Weekday, Male]  [Not Intoxicated]  0.417277   \n",
       "14                           [8pm-12pm]  [Not Intoxicated]  0.221179   \n",
       "39             [Road Traffic Collision]  [Not Intoxicated]  0.333734   \n",
       "5                                    []  [Not Intoxicated]  0.886012   \n",
       "20                               [Male]  [Not Intoxicated]  0.699485   \n",
       "\n",
       "    Confidence      Lift  \n",
       "82    0.937641  1.058271  \n",
       "32    0.928393  1.047833  \n",
       "53    0.924700  1.043665  \n",
       "90    0.913108  1.030581  \n",
       "42    0.902000  1.018045  \n",
       "68    0.894677  1.009779  \n",
       "14    0.893788  1.008776  \n",
       "39    0.887284  1.001436  \n",
       "5     0.886012  1.000000  \n",
       "20    0.878856  0.991923  "
      ]
     },
     "execution_count": 55,
     "metadata": {},
     "output_type": "execute_result"
    }
   ],
   "source": [
    "rules_df.nlargest(10, \"Confidence\")"
   ]
  },
  {
   "cell_type": "markdown",
   "id": "b61e1d10-a379-4dca-a1c7-59d4bad091f3",
   "metadata": {},
   "source": [
    "We can see that the top rules that have most support are those with an empty \n",
    "itemset on the LHS. However, these aren’t particularly useful as rules as they \n",
    "don’t provide any association. We can use a lambda function to filter out those \n",
    "rules which have an empty list in the LHS column of the Data FrameRemoving columns with empty LHS in max support \n",
    "#use lambda ftn"
   ]
  },
  {
   "cell_type": "code",
   "execution_count": 56,
   "id": "f1b93029-884a-4593-99f9-09349cfb075f",
   "metadata": {},
   "outputs": [
    {
     "data": {
      "text/html": [
       "<div>\n",
       "<style scoped>\n",
       "    .dataframe tbody tr th:only-of-type {\n",
       "        vertical-align: middle;\n",
       "    }\n",
       "\n",
       "    .dataframe tbody tr th {\n",
       "        vertical-align: top;\n",
       "    }\n",
       "\n",
       "    .dataframe thead th {\n",
       "        text-align: right;\n",
       "    }\n",
       "</style>\n",
       "<table border=\"1\" class=\"dataframe\">\n",
       "  <thead>\n",
       "    <tr style=\"text-align: right;\">\n",
       "      <th></th>\n",
       "      <th>LHS</th>\n",
       "      <th>RHS</th>\n",
       "      <th>Support</th>\n",
       "      <th>Confidence</th>\n",
       "      <th>Lift</th>\n",
       "    </tr>\n",
       "  </thead>\n",
       "  <tbody>\n",
       "    <tr>\n",
       "      <th>20</th>\n",
       "      <td>[Male]</td>\n",
       "      <td>[Not Intoxicated]</td>\n",
       "      <td>0.699485</td>\n",
       "      <td>0.878856</td>\n",
       "      <td>0.991923</td>\n",
       "    </tr>\n",
       "    <tr>\n",
       "      <th>21</th>\n",
       "      <td>[Not Intoxicated]</td>\n",
       "      <td>[Male]</td>\n",
       "      <td>0.699485</td>\n",
       "      <td>0.789475</td>\n",
       "      <td>0.991923</td>\n",
       "    </tr>\n",
       "    <tr>\n",
       "      <th>41</th>\n",
       "      <td>[Not Intoxicated]</td>\n",
       "      <td>[Weekday]</td>\n",
       "      <td>0.533831</td>\n",
       "      <td>0.602510</td>\n",
       "      <td>1.018045</td>\n",
       "    </tr>\n",
       "    <tr>\n",
       "      <th>42</th>\n",
       "      <td>[Weekday]</td>\n",
       "      <td>[Not Intoxicated]</td>\n",
       "      <td>0.533831</td>\n",
       "      <td>0.902000</td>\n",
       "      <td>1.018045</td>\n",
       "    </tr>\n",
       "    <tr>\n",
       "      <th>26</th>\n",
       "      <td>[Male]</td>\n",
       "      <td>[Weekday]</td>\n",
       "      <td>0.466400</td>\n",
       "      <td>0.586001</td>\n",
       "      <td>0.990149</td>\n",
       "    </tr>\n",
       "    <tr>\n",
       "      <th>27</th>\n",
       "      <td>[Weekday]</td>\n",
       "      <td>[Male]</td>\n",
       "      <td>0.466400</td>\n",
       "      <td>0.788063</td>\n",
       "      <td>0.990149</td>\n",
       "    </tr>\n",
       "    <tr>\n",
       "      <th>64</th>\n",
       "      <td>[Male]</td>\n",
       "      <td>[Not Intoxicated, Weekday]</td>\n",
       "      <td>0.417277</td>\n",
       "      <td>0.524281</td>\n",
       "      <td>0.982111</td>\n",
       "    </tr>\n",
       "    <tr>\n",
       "      <th>65</th>\n",
       "      <td>[Not Intoxicated]</td>\n",
       "      <td>[Weekday, Male]</td>\n",
       "      <td>0.417277</td>\n",
       "      <td>0.470961</td>\n",
       "      <td>1.009779</td>\n",
       "    </tr>\n",
       "    <tr>\n",
       "      <th>66</th>\n",
       "      <td>[Weekday]</td>\n",
       "      <td>[Not Intoxicated, Male]</td>\n",
       "      <td>0.417277</td>\n",
       "      <td>0.705062</td>\n",
       "      <td>1.007974</td>\n",
       "    </tr>\n",
       "    <tr>\n",
       "      <th>67</th>\n",
       "      <td>[Not Intoxicated, Male]</td>\n",
       "      <td>[Weekday]</td>\n",
       "      <td>0.417277</td>\n",
       "      <td>0.596550</td>\n",
       "      <td>1.007974</td>\n",
       "    </tr>\n",
       "  </tbody>\n",
       "</table>\n",
       "</div>"
      ],
      "text/plain": [
       "                        LHS                         RHS   Support  Confidence  \\\n",
       "20                   [Male]           [Not Intoxicated]  0.699485    0.878856   \n",
       "21        [Not Intoxicated]                      [Male]  0.699485    0.789475   \n",
       "41        [Not Intoxicated]                   [Weekday]  0.533831    0.602510   \n",
       "42                [Weekday]           [Not Intoxicated]  0.533831    0.902000   \n",
       "26                   [Male]                   [Weekday]  0.466400    0.586001   \n",
       "27                [Weekday]                      [Male]  0.466400    0.788063   \n",
       "64                   [Male]  [Not Intoxicated, Weekday]  0.417277    0.524281   \n",
       "65        [Not Intoxicated]             [Weekday, Male]  0.417277    0.470961   \n",
       "66                [Weekday]     [Not Intoxicated, Male]  0.417277    0.705062   \n",
       "67  [Not Intoxicated, Male]                   [Weekday]  0.417277    0.596550   \n",
       "\n",
       "        Lift  \n",
       "20  0.991923  \n",
       "21  0.991923  \n",
       "41  1.018045  \n",
       "42  1.018045  \n",
       "26  0.990149  \n",
       "27  0.990149  \n",
       "64  0.982111  \n",
       "65  1.009779  \n",
       "66  1.007974  \n",
       "67  1.007974  "
      ]
     },
     "execution_count": 56,
     "metadata": {},
     "output_type": "execute_result"
    }
   ],
   "source": [
    "rules_df[rules_df['LHS'].apply(lambda x: len(x) > 0)].nlargest(10, \"Support\")"
   ]
  },
  {
   "cell_type": "code",
   "execution_count": 108,
   "id": "dba9ad0d-6222-472f-8935-0a688cdd4eac",
   "metadata": {},
   "outputs": [
    {
     "data": {
      "text/plain": [
       "137"
      ]
     },
     "execution_count": 108,
     "metadata": {},
     "output_type": "execute_result"
    }
   ],
   "source": [
    "#decreasin the number of itemset - itemset of 3\n",
    "#create association rules on the main dataset\n",
    "Rules = list(apriori(event, min_support = 0.1, min_confidence = 0.4, max_length = 3))\n",
    "associationRules = utils.extract(Rules)\n",
    "rules_df = pd.DataFrame(associationRules,columns = ['LHS','RHS','Support','Confidence','Lift'])\n",
    "len(rules_df)"
   ]
  },
  {
   "cell_type": "code",
   "execution_count": 109,
   "id": "328a6119-7771-4544-81ff-a90a1e326439",
   "metadata": {},
   "outputs": [
    {
     "data": {
      "text/html": [
       "<div>\n",
       "<style scoped>\n",
       "    .dataframe tbody tr th:only-of-type {\n",
       "        vertical-align: middle;\n",
       "    }\n",
       "\n",
       "    .dataframe tbody tr th {\n",
       "        vertical-align: top;\n",
       "    }\n",
       "\n",
       "    .dataframe thead th {\n",
       "        text-align: right;\n",
       "    }\n",
       "</style>\n",
       "<table border=\"1\" class=\"dataframe\">\n",
       "  <thead>\n",
       "    <tr style=\"text-align: right;\">\n",
       "      <th></th>\n",
       "      <th>LHS</th>\n",
       "      <th>RHS</th>\n",
       "      <th>Support</th>\n",
       "      <th>Confidence</th>\n",
       "      <th>Lift</th>\n",
       "    </tr>\n",
       "  </thead>\n",
       "  <tbody>\n",
       "    <tr>\n",
       "      <th>90</th>\n",
       "      <td>[Jun]</td>\n",
       "      <td>[Not Intoxicated, Weekend]</td>\n",
       "      <td>0.110081</td>\n",
       "      <td>0.627239</td>\n",
       "      <td>1.781013</td>\n",
       "    </tr>\n",
       "    <tr>\n",
       "      <th>26</th>\n",
       "      <td>[Jun]</td>\n",
       "      <td>[Weekend]</td>\n",
       "      <td>0.122841</td>\n",
       "      <td>0.699947</td>\n",
       "      <td>1.714845</td>\n",
       "    </tr>\n",
       "    <tr>\n",
       "      <th>91</th>\n",
       "      <td>[Not Intoxicated, Jun]</td>\n",
       "      <td>[Weekend]</td>\n",
       "      <td>0.110081</td>\n",
       "      <td>0.688250</td>\n",
       "      <td>1.686187</td>\n",
       "    </tr>\n",
       "    <tr>\n",
       "      <th>81</th>\n",
       "      <td>[Dec]</td>\n",
       "      <td>[Not Intoxicated, Moving Traffic Violation]</td>\n",
       "      <td>0.102938</td>\n",
       "      <td>0.614038</td>\n",
       "      <td>1.623435</td>\n",
       "    </tr>\n",
       "    <tr>\n",
       "      <th>83</th>\n",
       "      <td>[Not Intoxicated, Dec]</td>\n",
       "      <td>[Moving Traffic Violation]</td>\n",
       "      <td>0.102938</td>\n",
       "      <td>0.649125</td>\n",
       "      <td>1.593311</td>\n",
       "    </tr>\n",
       "    <tr>\n",
       "      <th>20</th>\n",
       "      <td>[Dec]</td>\n",
       "      <td>[Moving Traffic Violation]</td>\n",
       "      <td>0.105019</td>\n",
       "      <td>0.626448</td>\n",
       "      <td>1.537648</td>\n",
       "    </tr>\n",
       "    <tr>\n",
       "      <th>74</th>\n",
       "      <td>[Not Intoxicated, 8pm-12pm]</td>\n",
       "      <td>[Moving Traffic Violation]</td>\n",
       "      <td>0.114774</td>\n",
       "      <td>0.518917</td>\n",
       "      <td>1.273709</td>\n",
       "    </tr>\n",
       "    <tr>\n",
       "      <th>7</th>\n",
       "      <td>[12am-4am]</td>\n",
       "      <td>[Weekend]</td>\n",
       "      <td>0.104025</td>\n",
       "      <td>0.512821</td>\n",
       "      <td>1.256391</td>\n",
       "    </tr>\n",
       "    <tr>\n",
       "      <th>72</th>\n",
       "      <td>[8pm-12pm]</td>\n",
       "      <td>[Not Intoxicated, Moving Traffic Violation]</td>\n",
       "      <td>0.114774</td>\n",
       "      <td>0.463802</td>\n",
       "      <td>1.226232</td>\n",
       "    </tr>\n",
       "    <tr>\n",
       "      <th>16</th>\n",
       "      <td>[8pm-12pm]</td>\n",
       "      <td>[Moving Traffic Violation]</td>\n",
       "      <td>0.121963</td>\n",
       "      <td>0.492854</td>\n",
       "      <td>1.209735</td>\n",
       "    </tr>\n",
       "  </tbody>\n",
       "</table>\n",
       "</div>"
      ],
      "text/plain": [
       "                            LHS                                          RHS  \\\n",
       "90                        [Jun]                   [Not Intoxicated, Weekend]   \n",
       "26                        [Jun]                                    [Weekend]   \n",
       "91       [Not Intoxicated, Jun]                                    [Weekend]   \n",
       "81                        [Dec]  [Not Intoxicated, Moving Traffic Violation]   \n",
       "83       [Not Intoxicated, Dec]                   [Moving Traffic Violation]   \n",
       "20                        [Dec]                   [Moving Traffic Violation]   \n",
       "74  [Not Intoxicated, 8pm-12pm]                   [Moving Traffic Violation]   \n",
       "7                    [12am-4am]                                    [Weekend]   \n",
       "72                   [8pm-12pm]  [Not Intoxicated, Moving Traffic Violation]   \n",
       "16                   [8pm-12pm]                   [Moving Traffic Violation]   \n",
       "\n",
       "     Support  Confidence      Lift  \n",
       "90  0.110081    0.627239  1.781013  \n",
       "26  0.122841    0.699947  1.714845  \n",
       "91  0.110081    0.688250  1.686187  \n",
       "81  0.102938    0.614038  1.623435  \n",
       "83  0.102938    0.649125  1.593311  \n",
       "20  0.105019    0.626448  1.537648  \n",
       "74  0.114774    0.518917  1.273709  \n",
       "7   0.104025    0.512821  1.256391  \n",
       "72  0.114774    0.463802  1.226232  \n",
       "16  0.121963    0.492854  1.209735  "
      ]
     },
     "execution_count": 109,
     "metadata": {},
     "output_type": "execute_result"
    }
   ],
   "source": [
    "rules_df.nlargest(10,'Lift')"
   ]
  },
  {
   "cell_type": "code",
   "execution_count": 59,
   "id": "89a8bc60-3bc7-4767-868d-2cec602e5cb8",
   "metadata": {},
   "outputs": [
    {
     "data": {
      "text/html": [
       "<div>\n",
       "<style scoped>\n",
       "    .dataframe tbody tr th:only-of-type {\n",
       "        vertical-align: middle;\n",
       "    }\n",
       "\n",
       "    .dataframe tbody tr th {\n",
       "        vertical-align: top;\n",
       "    }\n",
       "\n",
       "    .dataframe thead th {\n",
       "        text-align: right;\n",
       "    }\n",
       "</style>\n",
       "<table border=\"1\" class=\"dataframe\">\n",
       "  <thead>\n",
       "    <tr style=\"text-align: right;\">\n",
       "      <th></th>\n",
       "      <th>LHS</th>\n",
       "      <th>RHS</th>\n",
       "      <th>Support</th>\n",
       "      <th>Confidence</th>\n",
       "      <th>Lift</th>\n",
       "    </tr>\n",
       "  </thead>\n",
       "  <tbody>\n",
       "    <tr>\n",
       "      <th>1</th>\n",
       "      <td>[]</td>\n",
       "      <td>[Not Intoxicated]</td>\n",
       "      <td>0.886012</td>\n",
       "      <td>0.886012</td>\n",
       "      <td>1.000000</td>\n",
       "    </tr>\n",
       "    <tr>\n",
       "      <th>0</th>\n",
       "      <td>[]</td>\n",
       "      <td>[Male]</td>\n",
       "      <td>0.795904</td>\n",
       "      <td>0.795904</td>\n",
       "      <td>1.000000</td>\n",
       "    </tr>\n",
       "    <tr>\n",
       "      <th>3</th>\n",
       "      <td>[]</td>\n",
       "      <td>[Not Intoxicated, Male]</td>\n",
       "      <td>0.699485</td>\n",
       "      <td>0.699485</td>\n",
       "      <td>1.000000</td>\n",
       "    </tr>\n",
       "    <tr>\n",
       "      <th>4</th>\n",
       "      <td>[Male]</td>\n",
       "      <td>[Not Intoxicated]</td>\n",
       "      <td>0.699485</td>\n",
       "      <td>0.878856</td>\n",
       "      <td>0.991923</td>\n",
       "    </tr>\n",
       "    <tr>\n",
       "      <th>5</th>\n",
       "      <td>[Not Intoxicated]</td>\n",
       "      <td>[Male]</td>\n",
       "      <td>0.699485</td>\n",
       "      <td>0.789475</td>\n",
       "      <td>0.991923</td>\n",
       "    </tr>\n",
       "    <tr>\n",
       "      <th>2</th>\n",
       "      <td>[]</td>\n",
       "      <td>[Weekday]</td>\n",
       "      <td>0.591831</td>\n",
       "      <td>0.591831</td>\n",
       "      <td>1.000000</td>\n",
       "    </tr>\n",
       "    <tr>\n",
       "      <th>6</th>\n",
       "      <td>[]</td>\n",
       "      <td>[Not Intoxicated, Weekday]</td>\n",
       "      <td>0.533831</td>\n",
       "      <td>0.533831</td>\n",
       "      <td>1.000000</td>\n",
       "    </tr>\n",
       "    <tr>\n",
       "      <th>7</th>\n",
       "      <td>[Not Intoxicated]</td>\n",
       "      <td>[Weekday]</td>\n",
       "      <td>0.533831</td>\n",
       "      <td>0.602510</td>\n",
       "      <td>1.018045</td>\n",
       "    </tr>\n",
       "    <tr>\n",
       "      <th>8</th>\n",
       "      <td>[Weekday]</td>\n",
       "      <td>[Not Intoxicated]</td>\n",
       "      <td>0.533831</td>\n",
       "      <td>0.902000</td>\n",
       "      <td>1.018045</td>\n",
       "    </tr>\n",
       "  </tbody>\n",
       "</table>\n",
       "</div>"
      ],
      "text/plain": [
       "                 LHS                         RHS   Support  Confidence  \\\n",
       "1                 []           [Not Intoxicated]  0.886012    0.886012   \n",
       "0                 []                      [Male]  0.795904    0.795904   \n",
       "3                 []     [Not Intoxicated, Male]  0.699485    0.699485   \n",
       "4             [Male]           [Not Intoxicated]  0.699485    0.878856   \n",
       "5  [Not Intoxicated]                      [Male]  0.699485    0.789475   \n",
       "2                 []                   [Weekday]  0.591831    0.591831   \n",
       "6                 []  [Not Intoxicated, Weekday]  0.533831    0.533831   \n",
       "7  [Not Intoxicated]                   [Weekday]  0.533831    0.602510   \n",
       "8          [Weekday]           [Not Intoxicated]  0.533831    0.902000   \n",
       "\n",
       "       Lift  \n",
       "1  1.000000  \n",
       "0  1.000000  \n",
       "3  1.000000  \n",
       "4  0.991923  \n",
       "5  0.991923  \n",
       "2  1.000000  \n",
       "6  1.000000  \n",
       "7  1.018045  \n",
       "8  1.018045  "
      ]
     },
     "execution_count": 59,
     "metadata": {},
     "output_type": "execute_result"
    }
   ],
   "source": [
    "rules_df.nlargest(10,'Support')"
   ]
  },
  {
   "cell_type": "code",
   "execution_count": 60,
   "id": "2d40843a-e141-4941-805a-196077c2a08a",
   "metadata": {},
   "outputs": [
    {
     "data": {
      "text/html": [
       "<div>\n",
       "<style scoped>\n",
       "    .dataframe tbody tr th:only-of-type {\n",
       "        vertical-align: middle;\n",
       "    }\n",
       "\n",
       "    .dataframe tbody tr th {\n",
       "        vertical-align: top;\n",
       "    }\n",
       "\n",
       "    .dataframe thead th {\n",
       "        text-align: right;\n",
       "    }\n",
       "</style>\n",
       "<table border=\"1\" class=\"dataframe\">\n",
       "  <thead>\n",
       "    <tr style=\"text-align: right;\">\n",
       "      <th></th>\n",
       "      <th>LHS</th>\n",
       "      <th>RHS</th>\n",
       "      <th>Support</th>\n",
       "      <th>Confidence</th>\n",
       "      <th>Lift</th>\n",
       "    </tr>\n",
       "  </thead>\n",
       "  <tbody>\n",
       "    <tr>\n",
       "      <th>8</th>\n",
       "      <td>[Weekday]</td>\n",
       "      <td>[Not Intoxicated]</td>\n",
       "      <td>0.533831</td>\n",
       "      <td>0.902000</td>\n",
       "      <td>1.018045</td>\n",
       "    </tr>\n",
       "    <tr>\n",
       "      <th>1</th>\n",
       "      <td>[]</td>\n",
       "      <td>[Not Intoxicated]</td>\n",
       "      <td>0.886012</td>\n",
       "      <td>0.886012</td>\n",
       "      <td>1.000000</td>\n",
       "    </tr>\n",
       "    <tr>\n",
       "      <th>4</th>\n",
       "      <td>[Male]</td>\n",
       "      <td>[Not Intoxicated]</td>\n",
       "      <td>0.699485</td>\n",
       "      <td>0.878856</td>\n",
       "      <td>0.991923</td>\n",
       "    </tr>\n",
       "    <tr>\n",
       "      <th>0</th>\n",
       "      <td>[]</td>\n",
       "      <td>[Male]</td>\n",
       "      <td>0.795904</td>\n",
       "      <td>0.795904</td>\n",
       "      <td>1.000000</td>\n",
       "    </tr>\n",
       "    <tr>\n",
       "      <th>5</th>\n",
       "      <td>[Not Intoxicated]</td>\n",
       "      <td>[Male]</td>\n",
       "      <td>0.699485</td>\n",
       "      <td>0.789475</td>\n",
       "      <td>0.991923</td>\n",
       "    </tr>\n",
       "    <tr>\n",
       "      <th>3</th>\n",
       "      <td>[]</td>\n",
       "      <td>[Not Intoxicated, Male]</td>\n",
       "      <td>0.699485</td>\n",
       "      <td>0.699485</td>\n",
       "      <td>1.000000</td>\n",
       "    </tr>\n",
       "    <tr>\n",
       "      <th>7</th>\n",
       "      <td>[Not Intoxicated]</td>\n",
       "      <td>[Weekday]</td>\n",
       "      <td>0.533831</td>\n",
       "      <td>0.602510</td>\n",
       "      <td>1.018045</td>\n",
       "    </tr>\n",
       "    <tr>\n",
       "      <th>2</th>\n",
       "      <td>[]</td>\n",
       "      <td>[Weekday]</td>\n",
       "      <td>0.591831</td>\n",
       "      <td>0.591831</td>\n",
       "      <td>1.000000</td>\n",
       "    </tr>\n",
       "    <tr>\n",
       "      <th>6</th>\n",
       "      <td>[]</td>\n",
       "      <td>[Not Intoxicated, Weekday]</td>\n",
       "      <td>0.533831</td>\n",
       "      <td>0.533831</td>\n",
       "      <td>1.000000</td>\n",
       "    </tr>\n",
       "  </tbody>\n",
       "</table>\n",
       "</div>"
      ],
      "text/plain": [
       "                 LHS                         RHS   Support  Confidence  \\\n",
       "8          [Weekday]           [Not Intoxicated]  0.533831    0.902000   \n",
       "1                 []           [Not Intoxicated]  0.886012    0.886012   \n",
       "4             [Male]           [Not Intoxicated]  0.699485    0.878856   \n",
       "0                 []                      [Male]  0.795904    0.795904   \n",
       "5  [Not Intoxicated]                      [Male]  0.699485    0.789475   \n",
       "3                 []     [Not Intoxicated, Male]  0.699485    0.699485   \n",
       "7  [Not Intoxicated]                   [Weekday]  0.533831    0.602510   \n",
       "2                 []                   [Weekday]  0.591831    0.591831   \n",
       "6                 []  [Not Intoxicated, Weekday]  0.533831    0.533831   \n",
       "\n",
       "       Lift  \n",
       "8  1.018045  \n",
       "1  1.000000  \n",
       "4  0.991923  \n",
       "0  1.000000  \n",
       "5  0.991923  \n",
       "3  1.000000  \n",
       "7  1.018045  \n",
       "2  1.000000  \n",
       "6  1.000000  "
      ]
     },
     "execution_count": 60,
     "metadata": {},
     "output_type": "execute_result"
    }
   ],
   "source": [
    "rules_df.nlargest(10,'Confidence')"
   ]
  },
  {
   "cell_type": "markdown",
   "id": "bfbfce4e-321a-4cc9-b62f-16b417b21e54",
   "metadata": {
    "tags": []
   },
   "source": [
    "## Creating Motor Traffic Violations df to explore"
   ]
  },
  {
   "cell_type": "code",
   "execution_count": 129,
   "id": "8c668570-96c3-4a0b-bcc6-52b3703407ca",
   "metadata": {},
   "outputs": [],
   "source": [
    "Rules = list(apriori(event, min_support = 0.1, min_confidence = 0.45,max_length=3))\n",
    "associationRules = utils.extract(Rules)\n",
    "rules_df = pd.DataFrame(associationRules,columns=['LHS','RHS','Support','Confidence','Lift'])\n",
    "mt= rules_df[rules_df['RHS'].apply(lambda x: 'Moving Traffic Violation' in x)].sort_values(by=['Lift'],ascending=False)"
   ]
  },
  {
   "cell_type": "code",
   "execution_count": 130,
   "id": "2c8e2e99-b76d-4b6b-9b63-3d8048d2ef6e",
   "metadata": {},
   "outputs": [
    {
     "data": {
      "text/html": [
       "<div>\n",
       "<style scoped>\n",
       "    .dataframe tbody tr th:only-of-type {\n",
       "        vertical-align: middle;\n",
       "    }\n",
       "\n",
       "    .dataframe tbody tr th {\n",
       "        vertical-align: top;\n",
       "    }\n",
       "\n",
       "    .dataframe thead th {\n",
       "        text-align: right;\n",
       "    }\n",
       "</style>\n",
       "<table border=\"1\" class=\"dataframe\">\n",
       "  <thead>\n",
       "    <tr style=\"text-align: right;\">\n",
       "      <th></th>\n",
       "      <th>LHS</th>\n",
       "      <th>RHS</th>\n",
       "      <th>Support</th>\n",
       "      <th>Confidence</th>\n",
       "      <th>Lift</th>\n",
       "    </tr>\n",
       "  </thead>\n",
       "  <tbody>\n",
       "    <tr>\n",
       "      <th>113</th>\n",
       "      <td>[Not Intoxicated, Weekend]</td>\n",
       "      <td>[Moving Traffic Violation]</td>\n",
       "      <td>0.166208</td>\n",
       "      <td>0.471940</td>\n",
       "      <td>1.158400</td>\n",
       "    </tr>\n",
       "    <tr>\n",
       "      <th>14</th>\n",
       "      <td>[8pm-12pm]</td>\n",
       "      <td>[Moving Traffic Violation]</td>\n",
       "      <td>0.121963</td>\n",
       "      <td>0.492854</td>\n",
       "      <td>1.209735</td>\n",
       "    </tr>\n",
       "    <tr>\n",
       "      <th>66</th>\n",
       "      <td>[Not Intoxicated, 8pm-12pm]</td>\n",
       "      <td>[Moving Traffic Violation]</td>\n",
       "      <td>0.114774</td>\n",
       "      <td>0.518917</td>\n",
       "      <td>1.273709</td>\n",
       "    </tr>\n",
       "    <tr>\n",
       "      <th>64</th>\n",
       "      <td>[8pm-12pm]</td>\n",
       "      <td>[Not Intoxicated, Moving Traffic Violation]</td>\n",
       "      <td>0.114774</td>\n",
       "      <td>0.463802</td>\n",
       "      <td>1.226232</td>\n",
       "    </tr>\n",
       "    <tr>\n",
       "      <th>18</th>\n",
       "      <td>[Dec]</td>\n",
       "      <td>[Moving Traffic Violation]</td>\n",
       "      <td>0.105019</td>\n",
       "      <td>0.626448</td>\n",
       "      <td>1.537648</td>\n",
       "    </tr>\n",
       "    <tr>\n",
       "      <th>73</th>\n",
       "      <td>[Dec]</td>\n",
       "      <td>[Not Intoxicated, Moving Traffic Violation]</td>\n",
       "      <td>0.102938</td>\n",
       "      <td>0.614038</td>\n",
       "      <td>1.623435</td>\n",
       "    </tr>\n",
       "    <tr>\n",
       "      <th>75</th>\n",
       "      <td>[Not Intoxicated, Dec]</td>\n",
       "      <td>[Moving Traffic Violation]</td>\n",
       "      <td>0.102938</td>\n",
       "      <td>0.649125</td>\n",
       "      <td>1.593311</td>\n",
       "    </tr>\n",
       "  </tbody>\n",
       "</table>\n",
       "</div>"
      ],
      "text/plain": [
       "                             LHS                                          RHS  \\\n",
       "113   [Not Intoxicated, Weekend]                   [Moving Traffic Violation]   \n",
       "14                    [8pm-12pm]                   [Moving Traffic Violation]   \n",
       "66   [Not Intoxicated, 8pm-12pm]                   [Moving Traffic Violation]   \n",
       "64                    [8pm-12pm]  [Not Intoxicated, Moving Traffic Violation]   \n",
       "18                         [Dec]                   [Moving Traffic Violation]   \n",
       "73                         [Dec]  [Not Intoxicated, Moving Traffic Violation]   \n",
       "75        [Not Intoxicated, Dec]                   [Moving Traffic Violation]   \n",
       "\n",
       "      Support  Confidence      Lift  \n",
       "113  0.166208    0.471940  1.158400  \n",
       "14   0.121963    0.492854  1.209735  \n",
       "66   0.114774    0.518917  1.273709  \n",
       "64   0.114774    0.463802  1.226232  \n",
       "18   0.105019    0.626448  1.537648  \n",
       "73   0.102938    0.614038  1.623435  \n",
       "75   0.102938    0.649125  1.593311  "
      ]
     },
     "execution_count": 130,
     "metadata": {},
     "output_type": "execute_result"
    }
   ],
   "source": [
    "mt.nlargest(10,'Support')"
   ]
  },
  {
   "cell_type": "code",
   "execution_count": 116,
   "id": "30e75725-69e5-4987-9af0-3bf31e3b7fa6",
   "metadata": {},
   "outputs": [
    {
     "data": {
      "text/html": [
       "<div>\n",
       "<style scoped>\n",
       "    .dataframe tbody tr th:only-of-type {\n",
       "        vertical-align: middle;\n",
       "    }\n",
       "\n",
       "    .dataframe tbody tr th {\n",
       "        vertical-align: top;\n",
       "    }\n",
       "\n",
       "    .dataframe thead th {\n",
       "        text-align: right;\n",
       "    }\n",
       "</style>\n",
       "<table border=\"1\" class=\"dataframe\">\n",
       "  <thead>\n",
       "    <tr style=\"text-align: right;\">\n",
       "      <th></th>\n",
       "      <th>LHS</th>\n",
       "      <th>RHS</th>\n",
       "      <th>Support</th>\n",
       "      <th>Confidence</th>\n",
       "      <th>Lift</th>\n",
       "    </tr>\n",
       "  </thead>\n",
       "  <tbody>\n",
       "    <tr>\n",
       "      <th>75</th>\n",
       "      <td>[Not Intoxicated, Dec]</td>\n",
       "      <td>[Moving Traffic Violation]</td>\n",
       "      <td>0.102938</td>\n",
       "      <td>0.649125</td>\n",
       "      <td>1.593311</td>\n",
       "    </tr>\n",
       "    <tr>\n",
       "      <th>18</th>\n",
       "      <td>[Dec]</td>\n",
       "      <td>[Moving Traffic Violation]</td>\n",
       "      <td>0.105019</td>\n",
       "      <td>0.626448</td>\n",
       "      <td>1.537648</td>\n",
       "    </tr>\n",
       "    <tr>\n",
       "      <th>73</th>\n",
       "      <td>[Dec]</td>\n",
       "      <td>[Not Intoxicated, Moving Traffic Violation]</td>\n",
       "      <td>0.102938</td>\n",
       "      <td>0.614038</td>\n",
       "      <td>1.623435</td>\n",
       "    </tr>\n",
       "    <tr>\n",
       "      <th>66</th>\n",
       "      <td>[Not Intoxicated, 8pm-12pm]</td>\n",
       "      <td>[Moving Traffic Violation]</td>\n",
       "      <td>0.114774</td>\n",
       "      <td>0.518917</td>\n",
       "      <td>1.273709</td>\n",
       "    </tr>\n",
       "    <tr>\n",
       "      <th>14</th>\n",
       "      <td>[8pm-12pm]</td>\n",
       "      <td>[Moving Traffic Violation]</td>\n",
       "      <td>0.121963</td>\n",
       "      <td>0.492854</td>\n",
       "      <td>1.209735</td>\n",
       "    </tr>\n",
       "    <tr>\n",
       "      <th>113</th>\n",
       "      <td>[Not Intoxicated, Weekend]</td>\n",
       "      <td>[Moving Traffic Violation]</td>\n",
       "      <td>0.166208</td>\n",
       "      <td>0.471940</td>\n",
       "      <td>1.158400</td>\n",
       "    </tr>\n",
       "    <tr>\n",
       "      <th>64</th>\n",
       "      <td>[8pm-12pm]</td>\n",
       "      <td>[Not Intoxicated, Moving Traffic Violation]</td>\n",
       "      <td>0.114774</td>\n",
       "      <td>0.463802</td>\n",
       "      <td>1.226232</td>\n",
       "    </tr>\n",
       "  </tbody>\n",
       "</table>\n",
       "</div>"
      ],
      "text/plain": [
       "                             LHS                                          RHS  \\\n",
       "75        [Not Intoxicated, Dec]                   [Moving Traffic Violation]   \n",
       "18                         [Dec]                   [Moving Traffic Violation]   \n",
       "73                         [Dec]  [Not Intoxicated, Moving Traffic Violation]   \n",
       "66   [Not Intoxicated, 8pm-12pm]                   [Moving Traffic Violation]   \n",
       "14                    [8pm-12pm]                   [Moving Traffic Violation]   \n",
       "113   [Not Intoxicated, Weekend]                   [Moving Traffic Violation]   \n",
       "64                    [8pm-12pm]  [Not Intoxicated, Moving Traffic Violation]   \n",
       "\n",
       "      Support  Confidence      Lift  \n",
       "75   0.102938    0.649125  1.593311  \n",
       "18   0.105019    0.626448  1.537648  \n",
       "73   0.102938    0.614038  1.623435  \n",
       "66   0.114774    0.518917  1.273709  \n",
       "14   0.121963    0.492854  1.209735  \n",
       "113  0.166208    0.471940  1.158400  \n",
       "64   0.114774    0.463802  1.226232  "
      ]
     },
     "execution_count": 116,
     "metadata": {},
     "output_type": "execute_result"
    }
   ],
   "source": [
    "mt.nlargest(10,'Confidence')"
   ]
  },
  {
   "cell_type": "markdown",
   "id": "fa66d1d5-0336-49c9-9fee-8dcf8fc79be9",
   "metadata": {},
   "source": [
    "Rules = list(apriori(event, min_support = 0.1, min_confidence = 0.45))\n",
    "associationRules = utils.extract(Rules,'Moving Traffic Violation',2)\n",
    "utils.inspect(associationRules)"
   ]
  },
  {
   "cell_type": "code",
   "execution_count": 117,
   "id": "75fbefb3-998a-41d8-a797-94740717967d",
   "metadata": {},
   "outputs": [
    {
     "data": {
      "text/html": [
       "<div>\n",
       "<style scoped>\n",
       "    .dataframe tbody tr th:only-of-type {\n",
       "        vertical-align: middle;\n",
       "    }\n",
       "\n",
       "    .dataframe tbody tr th {\n",
       "        vertical-align: top;\n",
       "    }\n",
       "\n",
       "    .dataframe thead th {\n",
       "        text-align: right;\n",
       "    }\n",
       "</style>\n",
       "<table border=\"1\" class=\"dataframe\">\n",
       "  <thead>\n",
       "    <tr style=\"text-align: right;\">\n",
       "      <th></th>\n",
       "      <th>LHS</th>\n",
       "      <th>RHS</th>\n",
       "      <th>Support</th>\n",
       "      <th>Confidence</th>\n",
       "      <th>Lift</th>\n",
       "    </tr>\n",
       "  </thead>\n",
       "  <tbody>\n",
       "    <tr>\n",
       "      <th>73</th>\n",
       "      <td>[Dec]</td>\n",
       "      <td>[Not Intoxicated, Moving Traffic Violation]</td>\n",
       "      <td>0.102938</td>\n",
       "      <td>0.614038</td>\n",
       "      <td>1.623435</td>\n",
       "    </tr>\n",
       "    <tr>\n",
       "      <th>75</th>\n",
       "      <td>[Not Intoxicated, Dec]</td>\n",
       "      <td>[Moving Traffic Violation]</td>\n",
       "      <td>0.102938</td>\n",
       "      <td>0.649125</td>\n",
       "      <td>1.593311</td>\n",
       "    </tr>\n",
       "    <tr>\n",
       "      <th>18</th>\n",
       "      <td>[Dec]</td>\n",
       "      <td>[Moving Traffic Violation]</td>\n",
       "      <td>0.105019</td>\n",
       "      <td>0.626448</td>\n",
       "      <td>1.537648</td>\n",
       "    </tr>\n",
       "    <tr>\n",
       "      <th>66</th>\n",
       "      <td>[Not Intoxicated, 8pm-12pm]</td>\n",
       "      <td>[Moving Traffic Violation]</td>\n",
       "      <td>0.114774</td>\n",
       "      <td>0.518917</td>\n",
       "      <td>1.273709</td>\n",
       "    </tr>\n",
       "    <tr>\n",
       "      <th>64</th>\n",
       "      <td>[8pm-12pm]</td>\n",
       "      <td>[Not Intoxicated, Moving Traffic Violation]</td>\n",
       "      <td>0.114774</td>\n",
       "      <td>0.463802</td>\n",
       "      <td>1.226232</td>\n",
       "    </tr>\n",
       "    <tr>\n",
       "      <th>14</th>\n",
       "      <td>[8pm-12pm]</td>\n",
       "      <td>[Moving Traffic Violation]</td>\n",
       "      <td>0.121963</td>\n",
       "      <td>0.492854</td>\n",
       "      <td>1.209735</td>\n",
       "    </tr>\n",
       "    <tr>\n",
       "      <th>113</th>\n",
       "      <td>[Not Intoxicated, Weekend]</td>\n",
       "      <td>[Moving Traffic Violation]</td>\n",
       "      <td>0.166208</td>\n",
       "      <td>0.471940</td>\n",
       "      <td>1.158400</td>\n",
       "    </tr>\n",
       "  </tbody>\n",
       "</table>\n",
       "</div>"
      ],
      "text/plain": [
       "                             LHS                                          RHS  \\\n",
       "73                         [Dec]  [Not Intoxicated, Moving Traffic Violation]   \n",
       "75        [Not Intoxicated, Dec]                   [Moving Traffic Violation]   \n",
       "18                         [Dec]                   [Moving Traffic Violation]   \n",
       "66   [Not Intoxicated, 8pm-12pm]                   [Moving Traffic Violation]   \n",
       "64                    [8pm-12pm]  [Not Intoxicated, Moving Traffic Violation]   \n",
       "14                    [8pm-12pm]                   [Moving Traffic Violation]   \n",
       "113   [Not Intoxicated, Weekend]                   [Moving Traffic Violation]   \n",
       "\n",
       "      Support  Confidence      Lift  \n",
       "73   0.102938    0.614038  1.623435  \n",
       "75   0.102938    0.649125  1.593311  \n",
       "18   0.105019    0.626448  1.537648  \n",
       "66   0.114774    0.518917  1.273709  \n",
       "64   0.114774    0.463802  1.226232  \n",
       "14   0.121963    0.492854  1.209735  \n",
       "113  0.166208    0.471940  1.158400  "
      ]
     },
     "execution_count": 117,
     "metadata": {},
     "output_type": "execute_result"
    }
   ],
   "source": [
    "mt.nlargest(10,'Lift')"
   ]
  },
  {
   "cell_type": "markdown",
   "id": "d29d6ec9-6bc5-44d8-9f2f-d00f87ad8d22",
   "metadata": {},
   "source": [
    "!pip install plotly==5.10.0"
   ]
  },
  {
   "cell_type": "code",
   "execution_count": 63,
   "id": "63f4e512-d8b7-47b9-b0e3-f3c25e12a6b4",
   "metadata": {},
   "outputs": [],
   "source": [
    "import plotly.express as px"
   ]
  },
  {
   "cell_type": "code",
   "execution_count": 119,
   "id": "04827ba6-aa78-44f4-8914-caa80e9b6d2f",
   "metadata": {},
   "outputs": [
    {
     "data": {
      "application/vnd.plotly.v1+json": {
       "config": {
        "plotlyServerURL": "https://plot.ly"
       },
       "data": [
        {
         "customdata": [
          [
           [],
           [
            "Male"
           ]
          ],
          [
           [],
           [
            "Not Intoxicated"
           ]
          ],
          [
           [],
           [
            "Weekday"
           ]
          ],
          [
           [
            "12am-4am"
           ],
           [
            "Male"
           ]
          ],
          [
           [
            "12am-4am"
           ],
           [
            "Not Intoxicated"
           ]
          ],
          [
           [
            "12am-4am"
           ],
           [
            "Weekend"
           ]
          ],
          [
           [
            "12pm-4pm"
           ],
           [
            "Male"
           ]
          ],
          [
           [
            "12pm-4pm"
           ],
           [
            "Not Intoxicated"
           ]
          ],
          [
           [
            "4pm-8pm"
           ],
           [
            "Male"
           ]
          ],
          [
           [
            "4pm-8pm"
           ],
           [
            "Not Intoxicated"
           ]
          ],
          [
           [
            "4pm-8pm"
           ],
           [
            "Weekday"
           ]
          ],
          [
           [
            "8am-12pm"
           ],
           [
            "Male"
           ]
          ],
          [
           [
            "8am-12pm"
           ],
           [
            "Not Intoxicated"
           ]
          ],
          [
           [
            "8pm-12pm"
           ],
           [
            "Male"
           ]
          ],
          [
           [
            "8pm-12pm"
           ],
           [
            "Moving Traffic Violation"
           ]
          ],
          [
           [
            "8pm-12pm"
           ],
           [
            "Not Intoxicated"
           ]
          ],
          [
           [
            "8pm-12pm"
           ],
           [
            "Weekday"
           ]
          ],
          [
           [
            "Dec"
           ],
           [
            "Male"
           ]
          ],
          [
           [
            "Dec"
           ],
           [
            "Moving Traffic Violation"
           ]
          ],
          [
           [
            "Dec"
           ],
           [
            "Not Intoxicated"
           ]
          ],
          [
           [
            "Female"
           ],
           [
            "Not Intoxicated"
           ]
          ],
          [
           [
            "Female"
           ],
           [
            "Weekday"
           ]
          ],
          [
           [
            "Jun"
           ],
           [
            "Male"
           ]
          ],
          [
           [
            "Jun"
           ],
           [
            "Not Intoxicated"
           ]
          ],
          [
           [
            "Jun"
           ],
           [
            "Weekend"
           ]
          ],
          [
           [
            "Moving Traffic Violation"
           ],
           [
            "Male"
           ]
          ],
          [
           [],
           [
            "Not Intoxicated",
            "Male"
           ]
          ],
          [
           [
            "Male"
           ],
           [
            "Not Intoxicated"
           ]
          ],
          [
           [
            "Not Intoxicated"
           ],
           [
            "Male"
           ]
          ],
          [
           [
            "Road Traffic Collision"
           ],
           [
            "Male"
           ]
          ],
          [
           [
            "Suspicion of Alcohol"
           ],
           [
            "Male"
           ]
          ],
          [
           [],
           [
            "Weekday",
            "Male"
           ]
          ],
          [
           [
            "Male"
           ],
           [
            "Weekday"
           ]
          ],
          [
           [
            "Weekday"
           ],
           [
            "Male"
           ]
          ],
          [
           [
            "Weekend"
           ],
           [
            "Male"
           ]
          ],
          [
           [
            "Moving Traffic Violation"
           ],
           [
            "Not Intoxicated"
           ]
          ],
          [
           [
            "Moving Traffic Violation"
           ],
           [
            "Weekday"
           ]
          ],
          [
           [
            "Road Traffic Collision"
           ],
           [
            "Not Intoxicated"
           ]
          ],
          [
           [
            "Suspicion of Alcohol"
           ],
           [
            "Not Intoxicated"
           ]
          ],
          [
           [],
           [
            "Not Intoxicated",
            "Weekday"
           ]
          ],
          [
           [
            "Not Intoxicated"
           ],
           [
            "Weekday"
           ]
          ],
          [
           [
            "Weekday"
           ],
           [
            "Not Intoxicated"
           ]
          ],
          [
           [
            "Weekend"
           ],
           [
            "Not Intoxicated"
           ]
          ],
          [
           [
            "Road Traffic Collision"
           ],
           [
            "Weekday"
           ]
          ],
          [
           [
            "Suspicion of Alcohol"
           ],
           [
            "Weekday"
           ]
          ],
          [
           [
            "Suspicion of Alcohol"
           ],
           [
            "Weekend"
           ]
          ],
          [
           [
            "12am-4am"
           ],
           [
            "Not Intoxicated",
            "Male"
           ]
          ],
          [
           [
            "12am-4am",
            "Male"
           ],
           [
            "Not Intoxicated"
           ]
          ],
          [
           [
            "Not Intoxicated",
            "12am-4am"
           ],
           [
            "Male"
           ]
          ],
          [
           [
            "4pm-8pm"
           ],
           [
            "Not Intoxicated",
            "Male"
           ]
          ],
          [
           [
            "4pm-8pm",
            "Male"
           ],
           [
            "Not Intoxicated"
           ]
          ],
          [
           [
            "Not Intoxicated",
            "4pm-8pm"
           ],
           [
            "Male"
           ]
          ],
          [
           [
            "4pm-8pm"
           ],
           [
            "Not Intoxicated",
            "Weekday"
           ]
          ],
          [
           [
            "Not Intoxicated",
            "4pm-8pm"
           ],
           [
            "Weekday"
           ]
          ],
          [
           [
            "4pm-8pm",
            "Weekday"
           ],
           [
            "Not Intoxicated"
           ]
          ],
          [
           [
            "8am-12pm"
           ],
           [
            "Not Intoxicated",
            "Male"
           ]
          ],
          [
           [
            "8am-12pm",
            "Male"
           ],
           [
            "Not Intoxicated"
           ]
          ],
          [
           [
            "Not Intoxicated",
            "8am-12pm"
           ],
           [
            "Male"
           ]
          ],
          [
           [
            "8pm-12pm"
           ],
           [
            "Not Intoxicated",
            "Male"
           ]
          ],
          [
           [
            "Male",
            "8pm-12pm"
           ],
           [
            "Not Intoxicated"
           ]
          ],
          [
           [
            "Not Intoxicated",
            "8pm-12pm"
           ],
           [
            "Male"
           ]
          ],
          [
           [
            "8pm-12pm"
           ],
           [
            "Weekday",
            "Male"
           ]
          ],
          [
           [
            "Male",
            "8pm-12pm"
           ],
           [
            "Weekday"
           ]
          ],
          [
           [
            "Weekday",
            "8pm-12pm"
           ],
           [
            "Male"
           ]
          ],
          [
           [
            "8pm-12pm"
           ],
           [
            "Not Intoxicated",
            "Moving Traffic Violation"
           ]
          ],
          [
           [
            "Moving Traffic Violation",
            "8pm-12pm"
           ],
           [
            "Not Intoxicated"
           ]
          ],
          [
           [
            "Not Intoxicated",
            "8pm-12pm"
           ],
           [
            "Moving Traffic Violation"
           ]
          ],
          [
           [
            "8pm-12pm"
           ],
           [
            "Not Intoxicated",
            "Weekday"
           ]
          ],
          [
           [
            "Not Intoxicated",
            "8pm-12pm"
           ],
           [
            "Weekday"
           ]
          ],
          [
           [
            "Weekday",
            "8pm-12pm"
           ],
           [
            "Not Intoxicated"
           ]
          ],
          [
           [
            "Dec"
           ],
           [
            "Not Intoxicated",
            "Male"
           ]
          ],
          [
           [
            "Male",
            "Dec"
           ],
           [
            "Not Intoxicated"
           ]
          ],
          [
           [
            "Not Intoxicated",
            "Dec"
           ],
           [
            "Male"
           ]
          ],
          [
           [
            "Dec"
           ],
           [
            "Not Intoxicated",
            "Moving Traffic Violation"
           ]
          ],
          [
           [
            "Moving Traffic Violation",
            "Dec"
           ],
           [
            "Not Intoxicated"
           ]
          ],
          [
           [
            "Not Intoxicated",
            "Dec"
           ],
           [
            "Moving Traffic Violation"
           ]
          ],
          [
           [
            "Female"
           ],
           [
            "Not Intoxicated",
            "Weekday"
           ]
          ],
          [
           [
            "Not Intoxicated",
            "Female"
           ],
           [
            "Weekday"
           ]
          ],
          [
           [
            "Female",
            "Weekday"
           ],
           [
            "Not Intoxicated"
           ]
          ],
          [
           [
            "Jun"
           ],
           [
            "Not Intoxicated",
            "Male"
           ]
          ],
          [
           [
            "Jun",
            "Male"
           ],
           [
            "Not Intoxicated"
           ]
          ],
          [
           [
            "Not Intoxicated",
            "Jun"
           ],
           [
            "Male"
           ]
          ],
          [
           [
            "Jun"
           ],
           [
            "Not Intoxicated",
            "Weekend"
           ]
          ],
          [
           [
            "Not Intoxicated",
            "Jun"
           ],
           [
            "Weekend"
           ]
          ],
          [
           [
            "Weekend",
            "Jun"
           ],
           [
            "Not Intoxicated"
           ]
          ],
          [
           [
            "Moving Traffic Violation"
           ],
           [
            "Not Intoxicated",
            "Male"
           ]
          ],
          [
           [
            "Moving Traffic Violation",
            "Male"
           ],
           [
            "Not Intoxicated"
           ]
          ],
          [
           [
            "Not Intoxicated",
            "Moving Traffic Violation"
           ],
           [
            "Male"
           ]
          ],
          [
           [
            "Moving Traffic Violation",
            "Male"
           ],
           [
            "Weekday"
           ]
          ],
          [
           [
            "Moving Traffic Violation",
            "Weekday"
           ],
           [
            "Male"
           ]
          ],
          [
           [
            "Moving Traffic Violation",
            "Weekend"
           ],
           [
            "Male"
           ]
          ],
          [
           [
            "Road Traffic Collision"
           ],
           [
            "Not Intoxicated",
            "Male"
           ]
          ],
          [
           [
            "Road Traffic Collision",
            "Male"
           ],
           [
            "Not Intoxicated"
           ]
          ],
          [
           [
            "Not Intoxicated",
            "Road Traffic Collision"
           ],
           [
            "Male"
           ]
          ],
          [
           [
            "Suspicion of Alcohol"
           ],
           [
            "Not Intoxicated",
            "Male"
           ]
          ],
          [
           [
            "Suspicion of Alcohol",
            "Male"
           ],
           [
            "Not Intoxicated"
           ]
          ],
          [
           [
            "Not Intoxicated",
            "Suspicion of Alcohol"
           ],
           [
            "Male"
           ]
          ],
          [
           [
            "Male"
           ],
           [
            "Not Intoxicated",
            "Weekday"
           ]
          ],
          [
           [
            "Not Intoxicated"
           ],
           [
            "Weekday",
            "Male"
           ]
          ],
          [
           [
            "Weekday"
           ],
           [
            "Not Intoxicated",
            "Male"
           ]
          ],
          [
           [
            "Not Intoxicated",
            "Male"
           ],
           [
            "Weekday"
           ]
          ],
          [
           [
            "Weekday",
            "Male"
           ],
           [
            "Not Intoxicated"
           ]
          ],
          [
           [
            "Not Intoxicated",
            "Weekday"
           ],
           [
            "Male"
           ]
          ],
          [
           [
            "Weekend"
           ],
           [
            "Not Intoxicated",
            "Male"
           ]
          ],
          [
           [
            "Weekend",
            "Male"
           ],
           [
            "Not Intoxicated"
           ]
          ],
          [
           [
            "Not Intoxicated",
            "Weekend"
           ],
           [
            "Male"
           ]
          ],
          [
           [
            "Road Traffic Collision"
           ],
           [
            "Weekday",
            "Male"
           ]
          ],
          [
           [
            "Road Traffic Collision",
            "Male"
           ],
           [
            "Weekday"
           ]
          ],
          [
           [
            "Weekday",
            "Road Traffic Collision"
           ],
           [
            "Male"
           ]
          ],
          [
           [
            "Moving Traffic Violation"
           ],
           [
            "Not Intoxicated",
            "Weekday"
           ]
          ],
          [
           [
            "Not Intoxicated",
            "Moving Traffic Violation"
           ],
           [
            "Weekday"
           ]
          ],
          [
           [
            "Moving Traffic Violation",
            "Weekday"
           ],
           [
            "Not Intoxicated"
           ]
          ],
          [
           [
            "Moving Traffic Violation",
            "Weekend"
           ],
           [
            "Not Intoxicated"
           ]
          ],
          [
           [
            "Not Intoxicated",
            "Weekend"
           ],
           [
            "Moving Traffic Violation"
           ]
          ],
          [
           [
            "Road Traffic Collision"
           ],
           [
            "Not Intoxicated",
            "Weekday"
           ]
          ],
          [
           [
            "Not Intoxicated",
            "Road Traffic Collision"
           ],
           [
            "Weekday"
           ]
          ],
          [
           [
            "Weekday",
            "Road Traffic Collision"
           ],
           [
            "Not Intoxicated"
           ]
          ],
          [
           [
            "Weekend",
            "Road Traffic Collision"
           ],
           [
            "Not Intoxicated"
           ]
          ]
         ],
         "hovertemplate": "Support=%{x}<br>Confidence=%{y}<br>LHS=%{customdata[0]}<br>RHS=%{customdata[1]}<br>Lift=%{marker.color}<extra></extra>",
         "legendgroup": "",
         "marker": {
          "color": [
           1,
           1,
           1,
           1.0486743936456397,
           0.8986776398767633,
           1.2563913781561176,
           0.949272194832228,
           1.0632925825066013,
           0.9696065236962907,
           1.039065320176065,
           1.095117167173886,
           0.9506674846953319,
           1.0626377833674385,
           1.0218130485088237,
           1.2097346130907642,
           1.0087761665063453,
           1.0319551605558606,
           0.9596503429342316,
           1.5376480190228488,
           1.067644429025143,
           1.031498300143176,
           1.0384147662889027,
           0.9928007935650502,
           1.0286022006763649,
           1.7148451498771253,
           1.0101940802610017,
           1,
           0.9919227855950014,
           0.9919227855950015,
           0.9668614029800546,
           1.0383957327628828,
           1,
           0.990149173059404,
           0.990149173059404,
           1.014283336429356,
           1.0478333627281748,
           0.9378335323184401,
           1.0014356076243125,
           0.9074782190969095,
           1,
           1.018044542927084,
           1.018044542927084,
           0.9738360770221894,
           1.128179215494518,
           0.8942778525318782,
           1.153293221922119,
           0.9504761070827366,
           0.899038742141333,
           1.0490957668739684,
           1.003662992624794,
           1.0267630911225578,
           0.9581266664489472,
           1.1241475960499379,
           1.101405564579251,
           1.045031855866727,
           1.011957238684281,
           1.0558722784343764,
           0.9446148620066991,
           1.0307183480053312,
           1.0005675856355025,
           1.013498384342425,
           1.0663328334199444,
           1.0332893818078228,
           1.0231341569609762,
           1.2262320658346388,
           1.0621229277269784,
           1.2737085903590724,
           1.02403256106793,
           1.0334411093249143,
           1.0102287390212825,
           1.0256942831867413,
           1.0601877423777335,
           0.9529479130766866,
           1.6234353080769865,
           1.106293284931993,
           1.5933110610498007,
           1.0697626845769226,
           1.0558098477810356,
           1.048777519942902,
           1.0272128887203558,
           1.0263044475616874,
           0.9905830157747942,
           1.7810134897494574,
           1.6861865440699364,
           1.0114121325214045,
           1.0628896090263364,
           1.0436652148000978,
           1.0061756566142945,
           0.9368919026868985,
           1.0091797971853793,
           1.011459282638678,
           0.9620156012443563,
           0.9869513789990819,
           0.9528772371454721,
           0.9476375141684027,
           0.9052264114059966,
           1.035819067617604,
           0.9821105215762518,
           1.0097794193501692,
           1.0079738781705971,
           1.0079738781705971,
           1.0097794193501692,
           0.9821105215762518,
           0.9884381701917865,
           0.966647393238872,
           1.0067960782097034,
           1.0825170099218084,
           1.1085904545296328,
           0.9500736296821323,
           0.9748901494222605,
           0.9471750298049707,
           1.0582705377564872,
           1.034814178065212,
           1.158399665640776,
           1.1420721661956488,
           1.1610135764820662,
           1.03058124139856,
           0.9428748224710989
          ],
          "coloraxis": "coloraxis",
          "symbol": "circle"
         },
         "mode": "markers",
         "name": "",
         "orientation": "v",
         "showlegend": false,
         "type": "scatter",
         "x": [
          0.7959037425737997,
          0.886012159319448,
          0.5918306017244966,
          0.1693058091957743,
          0.16151552278138653,
          0.10402459603781872,
          0.1034466816153864,
          0.12899049908689522,
          0.1359717053098777,
          0.16220902008830532,
          0.11419588987262766,
          0.11722416144617305,
          0.14586560022191913,
          0.20125291846783327,
          0.12196305971011813,
          0.2211794077532999,
          0.15113617975450194,
          0.1280427194341062,
          0.10501860884440233,
          0.15857971751543032,
          0.1865276589842576,
          0.1254305462447121,
          0.138676344806861,
          0.15994359555237062,
          0.12284148963221526,
          0.3275618946346425,
          0.6994845003351904,
          0.6994845003351904,
          0.6994845003351904,
          0.28944265933100627,
          0.1788991886081509,
          0.4664000554797846,
          0.4664000554797846,
          0.4664000554797846,
          0.3295036870940151,
          0.3782334311935089,
          0.22612635520932062,
          0.33373402066621977,
          0.17404470745971937,
          0.5338311102891884,
          0.5338311102891884,
          0.5338311102891884,
          0.3521810490302596,
          0.2511384914121917,
          0.11456575510298435,
          0.10189787096326776,
          0.13486210961880765,
          0.13486210961880765,
          0.13486210961880765,
          0.1236968029774151,
          0.1236968029774151,
          0.1236968029774151,
          0.1057352227282184,
          0.1057352227282184,
          0.1057352227282184,
          0.10966504080075823,
          0.10966504080075823,
          0.10966504080075823,
          0.17841374049330774,
          0.17841374049330774,
          0.17841374049330774,
          0.1230726554011882,
          0.1230726554011882,
          0.1230726554011882,
          0.11477380429505998,
          0.11477380429505998,
          0.11477380429505998,
          0.13527820800295892,
          0.13527820800295892,
          0.13527820800295892,
          0.12027554959661574,
          0.12027554959661574,
          0.12027554959661574,
          0.10293811692364595,
          0.10293811692364595,
          0.10293811692364595,
          0.11655378071615155,
          0.11655378071615155,
          0.11655378071615155,
          0.12610092697473357,
          0.12610092697473357,
          0.12610092697473357,
          0.1100811391849095,
          0.1100811391849095,
          0.1100811391849095,
          0.3028965070852308,
          0.3028965070852308,
          0.3028965070852308,
          0.18162694468203147,
          0.18162694468203147,
          0.14593494995261103,
          0.2531034004484616,
          0.2531034004484616,
          0.2531034004484616,
          0.14348459280149795,
          0.14348459280149795,
          0.14348459280149795,
          0.4172773295730368,
          0.4172773295730368,
          0.4172773295730368,
          0.4172773295730368,
          0.4172773295730368,
          0.4172773295730368,
          0.2822071707621535,
          0.2822071707621535,
          0.2822071707621535,
          0.1899026792112624,
          0.1899026792112624,
          0.1899026792112624,
          0.21202524330197184,
          0.21202524330197184,
          0.21202524330197184,
          0.16620818789153702,
          0.16620818789153702,
          0.22931644282114705,
          0.22931644282114705,
          0.22931644282114705,
          0.1044175778450727
         ],
         "xaxis": "x",
         "y": [
          0.7959037425737997,
          0.886012159319448,
          0.5918306017244966,
          0.8346438746438747,
          0.7962393162393163,
          0.5128205128205129,
          0.7555292925882154,
          0.9420901570150262,
          0.7717134610338494,
          0.9206245080031488,
          0.6481238520073471,
          0.7566398090122352,
          0.9415099970158161,
          0.8132648295189163,
          0.49285380663241474,
          0.893787949556282,
          0.6107426436244745,
          0.7637892995035852,
          0.6264478764478765,
          0.945945945945946,
          0.9139200362441953,
          0.6145656359723638,
          0.7901738672286618,
          0.9113540569020022,
          0.6999473129610116,
          0.8040172492056287,
          0.6994845003351904,
          0.878855649143189,
          0.7894750573992904,
          0.7695286091819802,
          0.8264630499786416,
          0.4664000554797846,
          0.5860005808887598,
          0.7880634325443325,
          0.8072719034943648,
          0.9283931003177486,
          0.5550385837494326,
          0.8872841251306005,
          0.8040367364374199,
          0.5338311102891884,
          0.6025099144228763,
          0.9019998437622061,
          0.8628306054256103,
          0.6676909839591912,
          0.5292609995728321,
          0.4707390004271679,
          0.6648433048433049,
          0.7965592572364828,
          0.834979247173322,
          0.7020467069010758,
          0.9097245834750085,
          0.7625765996864757,
          0.6001049593282604,
          0.6518455180276471,
          0.9259109311740891,
          0.7078484034616532,
          0.9355156773811872,
          0.7518225039619651,
          0.720971508640822,
          0.8865150470939582,
          0.8066471571906354,
          0.497337692666978,
          0.611532276590857,
          0.8143163046803304,
          0.4638019617001401,
          0.9410538286580742,
          0.5189172240802675,
          0.5466604390471742,
          0.6116220735785953,
          0.8950749464668095,
          0.717457253171539,
          0.9393392309081062,
          0.7584548104956268,
          0.6140375068946498,
          0.9801893022232004,
          0.6491253644314868,
          0.5710726016536414,
          0.6248605775188995,
          0.9292296350903059,
          0.7185194942044256,
          0.9093182197032839,
          0.7884087295852,
          0.6272391991570074,
          0.6882497470732765,
          0.8961234474971772,
          0.7434748070812528,
          0.9247000705716301,
          0.8008189707859674,
          0.5544812985179957,
          0.8032099775097116,
          0.8050242285131344,
          0.6729150021510663,
          0.8744509224502834,
          0.7583985592574634,
          0.662857753096967,
          0.802041607442822,
          0.8244122725461548,
          0.5242811501597444,
          0.4709611772072636,
          0.7050621045230842,
          0.5965497868402789,
          0.8946768437747818,
          0.7816654397436452,
          0.6913971795888316,
          0.8564613441840886,
          0.8013127666557269,
          0.504885993485342,
          0.6560977557703058,
          0.7561671575846833,
          0.5204266908760781,
          0.5605671678278938,
          0.9376405643017787,
          0.9168579444019382,
          0.47193961273383656,
          0.6096736525106017,
          0.6871233635796911,
          0.9131075110456554,
          0.8353985574255595
         ],
         "yaxis": "y"
        }
       ],
       "layout": {
        "autosize": true,
        "coloraxis": {
         "colorbar": {
          "title": {
           "text": "Lift"
          }
         },
         "colorscale": [
          [
           0,
           "rgb(75, 41, 145)"
          ],
          [
           0.16666666666666666,
           "rgb(135, 44, 162)"
          ],
          [
           0.3333333333333333,
           "rgb(192, 54, 157)"
          ],
          [
           0.5,
           "rgb(234, 79, 136)"
          ],
          [
           0.6666666666666666,
           "rgb(250, 120, 118)"
          ],
          [
           0.8333333333333334,
           "rgb(246, 169, 122)"
          ],
          [
           1,
           "rgb(237, 217, 163)"
          ]
         ]
        },
        "legend": {
         "tracegroupgap": 0
        },
        "margin": {
         "t": 60
        },
        "template": {
         "data": {
          "bar": [
           {
            "error_x": {
             "color": "#2a3f5f"
            },
            "error_y": {
             "color": "#2a3f5f"
            },
            "marker": {
             "line": {
              "color": "#E5ECF6",
              "width": 0.5
             },
             "pattern": {
              "fillmode": "overlay",
              "size": 10,
              "solidity": 0.2
             }
            },
            "type": "bar"
           }
          ],
          "barpolar": [
           {
            "marker": {
             "line": {
              "color": "#E5ECF6",
              "width": 0.5
             },
             "pattern": {
              "fillmode": "overlay",
              "size": 10,
              "solidity": 0.2
             }
            },
            "type": "barpolar"
           }
          ],
          "carpet": [
           {
            "aaxis": {
             "endlinecolor": "#2a3f5f",
             "gridcolor": "white",
             "linecolor": "white",
             "minorgridcolor": "white",
             "startlinecolor": "#2a3f5f"
            },
            "baxis": {
             "endlinecolor": "#2a3f5f",
             "gridcolor": "white",
             "linecolor": "white",
             "minorgridcolor": "white",
             "startlinecolor": "#2a3f5f"
            },
            "type": "carpet"
           }
          ],
          "choropleth": [
           {
            "colorbar": {
             "outlinewidth": 0,
             "ticks": ""
            },
            "type": "choropleth"
           }
          ],
          "contour": [
           {
            "colorbar": {
             "outlinewidth": 0,
             "ticks": ""
            },
            "colorscale": [
             [
              0,
              "#0d0887"
             ],
             [
              0.1111111111111111,
              "#46039f"
             ],
             [
              0.2222222222222222,
              "#7201a8"
             ],
             [
              0.3333333333333333,
              "#9c179e"
             ],
             [
              0.4444444444444444,
              "#bd3786"
             ],
             [
              0.5555555555555556,
              "#d8576b"
             ],
             [
              0.6666666666666666,
              "#ed7953"
             ],
             [
              0.7777777777777778,
              "#fb9f3a"
             ],
             [
              0.8888888888888888,
              "#fdca26"
             ],
             [
              1,
              "#f0f921"
             ]
            ],
            "type": "contour"
           }
          ],
          "contourcarpet": [
           {
            "colorbar": {
             "outlinewidth": 0,
             "ticks": ""
            },
            "type": "contourcarpet"
           }
          ],
          "heatmap": [
           {
            "colorbar": {
             "outlinewidth": 0,
             "ticks": ""
            },
            "colorscale": [
             [
              0,
              "#0d0887"
             ],
             [
              0.1111111111111111,
              "#46039f"
             ],
             [
              0.2222222222222222,
              "#7201a8"
             ],
             [
              0.3333333333333333,
              "#9c179e"
             ],
             [
              0.4444444444444444,
              "#bd3786"
             ],
             [
              0.5555555555555556,
              "#d8576b"
             ],
             [
              0.6666666666666666,
              "#ed7953"
             ],
             [
              0.7777777777777778,
              "#fb9f3a"
             ],
             [
              0.8888888888888888,
              "#fdca26"
             ],
             [
              1,
              "#f0f921"
             ]
            ],
            "type": "heatmap"
           }
          ],
          "heatmapgl": [
           {
            "colorbar": {
             "outlinewidth": 0,
             "ticks": ""
            },
            "colorscale": [
             [
              0,
              "#0d0887"
             ],
             [
              0.1111111111111111,
              "#46039f"
             ],
             [
              0.2222222222222222,
              "#7201a8"
             ],
             [
              0.3333333333333333,
              "#9c179e"
             ],
             [
              0.4444444444444444,
              "#bd3786"
             ],
             [
              0.5555555555555556,
              "#d8576b"
             ],
             [
              0.6666666666666666,
              "#ed7953"
             ],
             [
              0.7777777777777778,
              "#fb9f3a"
             ],
             [
              0.8888888888888888,
              "#fdca26"
             ],
             [
              1,
              "#f0f921"
             ]
            ],
            "type": "heatmapgl"
           }
          ],
          "histogram": [
           {
            "marker": {
             "pattern": {
              "fillmode": "overlay",
              "size": 10,
              "solidity": 0.2
             }
            },
            "type": "histogram"
           }
          ],
          "histogram2d": [
           {
            "colorbar": {
             "outlinewidth": 0,
             "ticks": ""
            },
            "colorscale": [
             [
              0,
              "#0d0887"
             ],
             [
              0.1111111111111111,
              "#46039f"
             ],
             [
              0.2222222222222222,
              "#7201a8"
             ],
             [
              0.3333333333333333,
              "#9c179e"
             ],
             [
              0.4444444444444444,
              "#bd3786"
             ],
             [
              0.5555555555555556,
              "#d8576b"
             ],
             [
              0.6666666666666666,
              "#ed7953"
             ],
             [
              0.7777777777777778,
              "#fb9f3a"
             ],
             [
              0.8888888888888888,
              "#fdca26"
             ],
             [
              1,
              "#f0f921"
             ]
            ],
            "type": "histogram2d"
           }
          ],
          "histogram2dcontour": [
           {
            "colorbar": {
             "outlinewidth": 0,
             "ticks": ""
            },
            "colorscale": [
             [
              0,
              "#0d0887"
             ],
             [
              0.1111111111111111,
              "#46039f"
             ],
             [
              0.2222222222222222,
              "#7201a8"
             ],
             [
              0.3333333333333333,
              "#9c179e"
             ],
             [
              0.4444444444444444,
              "#bd3786"
             ],
             [
              0.5555555555555556,
              "#d8576b"
             ],
             [
              0.6666666666666666,
              "#ed7953"
             ],
             [
              0.7777777777777778,
              "#fb9f3a"
             ],
             [
              0.8888888888888888,
              "#fdca26"
             ],
             [
              1,
              "#f0f921"
             ]
            ],
            "type": "histogram2dcontour"
           }
          ],
          "mesh3d": [
           {
            "colorbar": {
             "outlinewidth": 0,
             "ticks": ""
            },
            "type": "mesh3d"
           }
          ],
          "parcoords": [
           {
            "line": {
             "colorbar": {
              "outlinewidth": 0,
              "ticks": ""
             }
            },
            "type": "parcoords"
           }
          ],
          "pie": [
           {
            "automargin": true,
            "type": "pie"
           }
          ],
          "scatter": [
           {
            "fillpattern": {
             "fillmode": "overlay",
             "size": 10,
             "solidity": 0.2
            },
            "type": "scatter"
           }
          ],
          "scatter3d": [
           {
            "line": {
             "colorbar": {
              "outlinewidth": 0,
              "ticks": ""
             }
            },
            "marker": {
             "colorbar": {
              "outlinewidth": 0,
              "ticks": ""
             }
            },
            "type": "scatter3d"
           }
          ],
          "scattercarpet": [
           {
            "marker": {
             "colorbar": {
              "outlinewidth": 0,
              "ticks": ""
             }
            },
            "type": "scattercarpet"
           }
          ],
          "scattergeo": [
           {
            "marker": {
             "colorbar": {
              "outlinewidth": 0,
              "ticks": ""
             }
            },
            "type": "scattergeo"
           }
          ],
          "scattergl": [
           {
            "marker": {
             "colorbar": {
              "outlinewidth": 0,
              "ticks": ""
             }
            },
            "type": "scattergl"
           }
          ],
          "scattermapbox": [
           {
            "marker": {
             "colorbar": {
              "outlinewidth": 0,
              "ticks": ""
             }
            },
            "type": "scattermapbox"
           }
          ],
          "scatterpolar": [
           {
            "marker": {
             "colorbar": {
              "outlinewidth": 0,
              "ticks": ""
             }
            },
            "type": "scatterpolar"
           }
          ],
          "scatterpolargl": [
           {
            "marker": {
             "colorbar": {
              "outlinewidth": 0,
              "ticks": ""
             }
            },
            "type": "scatterpolargl"
           }
          ],
          "scatterternary": [
           {
            "marker": {
             "colorbar": {
              "outlinewidth": 0,
              "ticks": ""
             }
            },
            "type": "scatterternary"
           }
          ],
          "surface": [
           {
            "colorbar": {
             "outlinewidth": 0,
             "ticks": ""
            },
            "colorscale": [
             [
              0,
              "#0d0887"
             ],
             [
              0.1111111111111111,
              "#46039f"
             ],
             [
              0.2222222222222222,
              "#7201a8"
             ],
             [
              0.3333333333333333,
              "#9c179e"
             ],
             [
              0.4444444444444444,
              "#bd3786"
             ],
             [
              0.5555555555555556,
              "#d8576b"
             ],
             [
              0.6666666666666666,
              "#ed7953"
             ],
             [
              0.7777777777777778,
              "#fb9f3a"
             ],
             [
              0.8888888888888888,
              "#fdca26"
             ],
             [
              1,
              "#f0f921"
             ]
            ],
            "type": "surface"
           }
          ],
          "table": [
           {
            "cells": {
             "fill": {
              "color": "#EBF0F8"
             },
             "line": {
              "color": "white"
             }
            },
            "header": {
             "fill": {
              "color": "#C8D4E3"
             },
             "line": {
              "color": "white"
             }
            },
            "type": "table"
           }
          ]
         },
         "layout": {
          "annotationdefaults": {
           "arrowcolor": "#2a3f5f",
           "arrowhead": 0,
           "arrowwidth": 1
          },
          "autotypenumbers": "strict",
          "coloraxis": {
           "colorbar": {
            "outlinewidth": 0,
            "ticks": ""
           }
          },
          "colorscale": {
           "diverging": [
            [
             0,
             "#8e0152"
            ],
            [
             0.1,
             "#c51b7d"
            ],
            [
             0.2,
             "#de77ae"
            ],
            [
             0.3,
             "#f1b6da"
            ],
            [
             0.4,
             "#fde0ef"
            ],
            [
             0.5,
             "#f7f7f7"
            ],
            [
             0.6,
             "#e6f5d0"
            ],
            [
             0.7,
             "#b8e186"
            ],
            [
             0.8,
             "#7fbc41"
            ],
            [
             0.9,
             "#4d9221"
            ],
            [
             1,
             "#276419"
            ]
           ],
           "sequential": [
            [
             0,
             "#0d0887"
            ],
            [
             0.1111111111111111,
             "#46039f"
            ],
            [
             0.2222222222222222,
             "#7201a8"
            ],
            [
             0.3333333333333333,
             "#9c179e"
            ],
            [
             0.4444444444444444,
             "#bd3786"
            ],
            [
             0.5555555555555556,
             "#d8576b"
            ],
            [
             0.6666666666666666,
             "#ed7953"
            ],
            [
             0.7777777777777778,
             "#fb9f3a"
            ],
            [
             0.8888888888888888,
             "#fdca26"
            ],
            [
             1,
             "#f0f921"
            ]
           ],
           "sequentialminus": [
            [
             0,
             "#0d0887"
            ],
            [
             0.1111111111111111,
             "#46039f"
            ],
            [
             0.2222222222222222,
             "#7201a8"
            ],
            [
             0.3333333333333333,
             "#9c179e"
            ],
            [
             0.4444444444444444,
             "#bd3786"
            ],
            [
             0.5555555555555556,
             "#d8576b"
            ],
            [
             0.6666666666666666,
             "#ed7953"
            ],
            [
             0.7777777777777778,
             "#fb9f3a"
            ],
            [
             0.8888888888888888,
             "#fdca26"
            ],
            [
             1,
             "#f0f921"
            ]
           ]
          },
          "colorway": [
           "#636efa",
           "#EF553B",
           "#00cc96",
           "#ab63fa",
           "#FFA15A",
           "#19d3f3",
           "#FF6692",
           "#B6E880",
           "#FF97FF",
           "#FECB52"
          ],
          "font": {
           "color": "#2a3f5f"
          },
          "geo": {
           "bgcolor": "white",
           "lakecolor": "white",
           "landcolor": "#E5ECF6",
           "showlakes": true,
           "showland": true,
           "subunitcolor": "white"
          },
          "hoverlabel": {
           "align": "left"
          },
          "hovermode": "closest",
          "mapbox": {
           "style": "light"
          },
          "paper_bgcolor": "white",
          "plot_bgcolor": "#E5ECF6",
          "polar": {
           "angularaxis": {
            "gridcolor": "white",
            "linecolor": "white",
            "ticks": ""
           },
           "bgcolor": "#E5ECF6",
           "radialaxis": {
            "gridcolor": "white",
            "linecolor": "white",
            "ticks": ""
           }
          },
          "scene": {
           "xaxis": {
            "backgroundcolor": "#E5ECF6",
            "gridcolor": "white",
            "gridwidth": 2,
            "linecolor": "white",
            "showbackground": true,
            "ticks": "",
            "zerolinecolor": "white"
           },
           "yaxis": {
            "backgroundcolor": "#E5ECF6",
            "gridcolor": "white",
            "gridwidth": 2,
            "linecolor": "white",
            "showbackground": true,
            "ticks": "",
            "zerolinecolor": "white"
           },
           "zaxis": {
            "backgroundcolor": "#E5ECF6",
            "gridcolor": "white",
            "gridwidth": 2,
            "linecolor": "white",
            "showbackground": true,
            "ticks": "",
            "zerolinecolor": "white"
           }
          },
          "shapedefaults": {
           "line": {
            "color": "#2a3f5f"
           }
          },
          "ternary": {
           "aaxis": {
            "gridcolor": "white",
            "linecolor": "white",
            "ticks": ""
           },
           "baxis": {
            "gridcolor": "white",
            "linecolor": "white",
            "ticks": ""
           },
           "bgcolor": "#E5ECF6",
           "caxis": {
            "gridcolor": "white",
            "linecolor": "white",
            "ticks": ""
           }
          },
          "title": {
           "x": 0.05
          },
          "xaxis": {
           "automargin": true,
           "gridcolor": "white",
           "linecolor": "white",
           "ticks": "",
           "title": {
            "standoff": 15
           },
           "zerolinecolor": "white",
           "zerolinewidth": 2
          },
          "yaxis": {
           "automargin": true,
           "gridcolor": "white",
           "linecolor": "white",
           "ticks": "",
           "title": {
            "standoff": 15
           },
           "zerolinecolor": "white",
           "zerolinewidth": 2
          }
         }
        },
        "xaxis": {
         "anchor": "y",
         "autorange": true,
         "domain": [
          0,
          1
         ],
         "range": [
          0.045167312817385306,
          0.9427427174653304
         ],
         "title": {
          "text": "Support"
         },
         "type": "linear"
        },
        "yaxis": {
         "anchor": "x",
         "autorange": true,
         "domain": [
          0,
          1
         ],
         "range": [
          0.4238192148617404,
          1.0201720490616002
         ],
         "title": {
          "text": "Confidence"
         },
         "type": "linear"
        }
       }
      },
      "image/png": "[encoded data removed]",
      "text/html": [
       "<div>                            <div id=\"2b9bb543-011a-449f-9990-0c5b5d5d0c6e\" class=\"plotly-graph-div\" style=\"height:525px; width:100%;\"></div>            <script type=\"text/javascript\">                require([\"plotly\"], function(Plotly) {                    window.PLOTLYENV=window.PLOTLYENV || {};                                    if (document.getElementById(\"2b9bb543-011a-449f-9990-0c5b5d5d0c6e\")) {                    Plotly.newPlot(                        \"2b9bb543-011a-449f-9990-0c5b5d5d0c6e\",                        [{\"customdata\":[[[],[\"Male\"]],[[],[\"Not Intoxicated\"]],[[],[\"Weekday\"]],[[\"12am-4am\"],[\"Male\"]],[[\"12am-4am\"],[\"Not Intoxicated\"]],[[\"12am-4am\"],[\"Weekend\"]],[[\"12pm-4pm\"],[\"Male\"]],[[\"12pm-4pm\"],[\"Not Intoxicated\"]],[[\"4pm-8pm\"],[\"Male\"]],[[\"4pm-8pm\"],[\"Not Intoxicated\"]],[[\"4pm-8pm\"],[\"Weekday\"]],[[\"8am-12pm\"],[\"Male\"]],[[\"8am-12pm\"],[\"Not Intoxicated\"]],[[\"8pm-12pm\"],[\"Male\"]],[[\"8pm-12pm\"],[\"Moving Traffic Violation\"]],[[\"8pm-12pm\"],[\"Not Intoxicated\"]],[[\"8pm-12pm\"],[\"Weekday\"]],[[\"Dec\"],[\"Male\"]],[[\"Dec\"],[\"Moving Traffic Violation\"]],[[\"Dec\"],[\"Not Intoxicated\"]],[[\"Female\"],[\"Not Intoxicated\"]],[[\"Female\"],[\"Weekday\"]],[[\"Jun\"],[\"Male\"]],[[\"Jun\"],[\"Not Intoxicated\"]],[[\"Jun\"],[\"Weekend\"]],[[\"Moving Traffic Violation\"],[\"Male\"]],[[],[\"Not Intoxicated\",\"Male\"]],[[\"Male\"],[\"Not Intoxicated\"]],[[\"Not Intoxicated\"],[\"Male\"]],[[\"Road Traffic Collision\"],[\"Male\"]],[[\"Suspicion of Alcohol\"],[\"Male\"]],[[],[\"Weekday\",\"Male\"]],[[\"Male\"],[\"Weekday\"]],[[\"Weekday\"],[\"Male\"]],[[\"Weekend\"],[\"Male\"]],[[\"Moving Traffic Violation\"],[\"Not Intoxicated\"]],[[\"Moving Traffic Violation\"],[\"Weekday\"]],[[\"Road Traffic Collision\"],[\"Not Intoxicated\"]],[[\"Suspicion of Alcohol\"],[\"Not Intoxicated\"]],[[],[\"Not Intoxicated\",\"Weekday\"]],[[\"Not Intoxicated\"],[\"Weekday\"]],[[\"Weekday\"],[\"Not Intoxicated\"]],[[\"Weekend\"],[\"Not Intoxicated\"]],[[\"Road Traffic Collision\"],[\"Weekday\"]],[[\"Suspicion of Alcohol\"],[\"Weekday\"]],[[\"Suspicion of Alcohol\"],[\"Weekend\"]],[[\"12am-4am\"],[\"Not Intoxicated\",\"Male\"]],[[\"12am-4am\",\"Male\"],[\"Not Intoxicated\"]],[[\"Not Intoxicated\",\"12am-4am\"],[\"Male\"]],[[\"4pm-8pm\"],[\"Not Intoxicated\",\"Male\"]],[[\"4pm-8pm\",\"Male\"],[\"Not Intoxicated\"]],[[\"Not Intoxicated\",\"4pm-8pm\"],[\"Male\"]],[[\"4pm-8pm\"],[\"Not Intoxicated\",\"Weekday\"]],[[\"Not Intoxicated\",\"4pm-8pm\"],[\"Weekday\"]],[[\"4pm-8pm\",\"Weekday\"],[\"Not Intoxicated\"]],[[\"8am-12pm\"],[\"Not Intoxicated\",\"Male\"]],[[\"8am-12pm\",\"Male\"],[\"Not Intoxicated\"]],[[\"Not Intoxicated\",\"8am-12pm\"],[\"Male\"]],[[\"8pm-12pm\"],[\"Not Intoxicated\",\"Male\"]],[[\"Male\",\"8pm-12pm\"],[\"Not Intoxicated\"]],[[\"Not Intoxicated\",\"8pm-12pm\"],[\"Male\"]],[[\"8pm-12pm\"],[\"Weekday\",\"Male\"]],[[\"Male\",\"8pm-12pm\"],[\"Weekday\"]],[[\"Weekday\",\"8pm-12pm\"],[\"Male\"]],[[\"8pm-12pm\"],[\"Not Intoxicated\",\"Moving Traffic Violation\"]],[[\"Moving Traffic Violation\",\"8pm-12pm\"],[\"Not Intoxicated\"]],[[\"Not Intoxicated\",\"8pm-12pm\"],[\"Moving Traffic Violation\"]],[[\"8pm-12pm\"],[\"Not Intoxicated\",\"Weekday\"]],[[\"Not Intoxicated\",\"8pm-12pm\"],[\"Weekday\"]],[[\"Weekday\",\"8pm-12pm\"],[\"Not Intoxicated\"]],[[\"Dec\"],[\"Not Intoxicated\",\"Male\"]],[[\"Male\",\"Dec\"],[\"Not Intoxicated\"]],[[\"Not Intoxicated\",\"Dec\"],[\"Male\"]],[[\"Dec\"],[\"Not Intoxicated\",\"Moving Traffic Violation\"]],[[\"Moving Traffic Violation\",\"Dec\"],[\"Not Intoxicated\"]],[[\"Not Intoxicated\",\"Dec\"],[\"Moving Traffic Violation\"]],[[\"Female\"],[\"Not Intoxicated\",\"Weekday\"]],[[\"Not Intoxicated\",\"Female\"],[\"Weekday\"]],[[\"Female\",\"Weekday\"],[\"Not Intoxicated\"]],[[\"Jun\"],[\"Not Intoxicated\",\"Male\"]],[[\"Jun\",\"Male\"],[\"Not Intoxicated\"]],[[\"Not Intoxicated\",\"Jun\"],[\"Male\"]],[[\"Jun\"],[\"Not Intoxicated\",\"Weekend\"]],[[\"Not Intoxicated\",\"Jun\"],[\"Weekend\"]],[[\"Weekend\",\"Jun\"],[\"Not Intoxicated\"]],[[\"Moving Traffic Violation\"],[\"Not Intoxicated\",\"Male\"]],[[\"Moving Traffic Violation\",\"Male\"],[\"Not Intoxicated\"]],[[\"Not Intoxicated\",\"Moving Traffic Violation\"],[\"Male\"]],[[\"Moving Traffic Violation\",\"Male\"],[\"Weekday\"]],[[\"Moving Traffic Violation\",\"Weekday\"],[\"Male\"]],[[\"Moving Traffic Violation\",\"Weekend\"],[\"Male\"]],[[\"Road Traffic Collision\"],[\"Not Intoxicated\",\"Male\"]],[[\"Road Traffic Collision\",\"Male\"],[\"Not Intoxicated\"]],[[\"Not Intoxicated\",\"Road Traffic Collision\"],[\"Male\"]],[[\"Suspicion of Alcohol\"],[\"Not Intoxicated\",\"Male\"]],[[\"Suspicion of Alcohol\",\"Male\"],[\"Not Intoxicated\"]],[[\"Not Intoxicated\",\"Suspicion of Alcohol\"],[\"Male\"]],[[\"Male\"],[\"Not Intoxicated\",\"Weekday\"]],[[\"Not Intoxicated\"],[\"Weekday\",\"Male\"]],[[\"Weekday\"],[\"Not Intoxicated\",\"Male\"]],[[\"Not Intoxicated\",\"Male\"],[\"Weekday\"]],[[\"Weekday\",\"Male\"],[\"Not Intoxicated\"]],[[\"Not Intoxicated\",\"Weekday\"],[\"Male\"]],[[\"Weekend\"],[\"Not Intoxicated\",\"Male\"]],[[\"Weekend\",\"Male\"],[\"Not Intoxicated\"]],[[\"Not Intoxicated\",\"Weekend\"],[\"Male\"]],[[\"Road Traffic Collision\"],[\"Weekday\",\"Male\"]],[[\"Road Traffic Collision\",\"Male\"],[\"Weekday\"]],[[\"Weekday\",\"Road Traffic Collision\"],[\"Male\"]],[[\"Moving Traffic Violation\"],[\"Not Intoxicated\",\"Weekday\"]],[[\"Not Intoxicated\",\"Moving Traffic Violation\"],[\"Weekday\"]],[[\"Moving Traffic Violation\",\"Weekday\"],[\"Not Intoxicated\"]],[[\"Moving Traffic Violation\",\"Weekend\"],[\"Not Intoxicated\"]],[[\"Not Intoxicated\",\"Weekend\"],[\"Moving Traffic Violation\"]],[[\"Road Traffic Collision\"],[\"Not Intoxicated\",\"Weekday\"]],[[\"Not Intoxicated\",\"Road Traffic Collision\"],[\"Weekday\"]],[[\"Weekday\",\"Road Traffic Collision\"],[\"Not Intoxicated\"]],[[\"Weekend\",\"Road Traffic Collision\"],[\"Not Intoxicated\"]]],\"hovertemplate\":\"Support=%{x}<br>Confidence=%{y}<br>LHS=%{customdata[0]}<br>RHS=%{customdata[1]}<br>Lift=%{marker.color}<extra></extra>\",\"legendgroup\":\"\",\"marker\":{\"color\":[1.0,1.0,1.0,1.0486743936456397,0.8986776398767633,1.2563913781561176,0.949272194832228,1.0632925825066013,0.9696065236962907,1.039065320176065,1.095117167173886,0.9506674846953319,1.0626377833674385,1.0218130485088237,1.2097346130907642,1.0087761665063453,1.0319551605558606,0.9596503429342316,1.5376480190228488,1.067644429025143,1.031498300143176,1.0384147662889027,0.9928007935650502,1.0286022006763649,1.7148451498771253,1.0101940802610017,1.0,0.9919227855950014,0.9919227855950015,0.9668614029800546,1.0383957327628828,1.0,0.990149173059404,0.990149173059404,1.014283336429356,1.0478333627281748,0.9378335323184401,1.0014356076243125,0.9074782190969095,1.0,1.018044542927084,1.018044542927084,0.9738360770221894,1.128179215494518,0.8942778525318782,1.153293221922119,0.9504761070827366,0.899038742141333,1.0490957668739684,1.003662992624794,1.0267630911225578,0.9581266664489472,1.1241475960499379,1.101405564579251,1.045031855866727,1.011957238684281,1.0558722784343764,0.9446148620066991,1.0307183480053312,1.0005675856355025,1.013498384342425,1.0663328334199444,1.0332893818078228,1.0231341569609762,1.2262320658346388,1.0621229277269784,1.2737085903590724,1.02403256106793,1.0334411093249143,1.0102287390212825,1.0256942831867413,1.0601877423777335,0.9529479130766866,1.6234353080769865,1.106293284931993,1.5933110610498007,1.0697626845769226,1.0558098477810356,1.048777519942902,1.0272128887203558,1.0263044475616874,0.9905830157747942,1.7810134897494574,1.6861865440699364,1.0114121325214045,1.0628896090263364,1.0436652148000978,1.0061756566142945,0.9368919026868985,1.0091797971853793,1.011459282638678,0.9620156012443563,0.9869513789990819,0.9528772371454721,0.9476375141684027,0.9052264114059966,1.035819067617604,0.9821105215762518,1.0097794193501692,1.0079738781705971,1.0079738781705971,1.0097794193501692,0.9821105215762518,0.9884381701917865,0.966647393238872,1.0067960782097034,1.0825170099218084,1.1085904545296328,0.9500736296821323,0.9748901494222605,0.9471750298049707,1.0582705377564872,1.034814178065212,1.158399665640776,1.1420721661956488,1.1610135764820662,1.03058124139856,0.9428748224710989],\"coloraxis\":\"coloraxis\",\"symbol\":\"circle\"},\"mode\":\"markers\",\"name\":\"\",\"orientation\":\"v\",\"showlegend\":false,\"x\":[0.7959037425737997,0.886012159319448,0.5918306017244966,0.1693058091957743,0.16151552278138653,0.10402459603781872,0.1034466816153864,0.12899049908689522,0.1359717053098777,0.16220902008830532,0.11419588987262766,0.11722416144617305,0.14586560022191913,0.20125291846783327,0.12196305971011813,0.2211794077532999,0.15113617975450194,0.1280427194341062,0.10501860884440233,0.15857971751543032,0.1865276589842576,0.1254305462447121,0.138676344806861,0.15994359555237062,0.12284148963221526,0.3275618946346425,0.6994845003351904,0.6994845003351904,0.6994845003351904,0.28944265933100627,0.1788991886081509,0.4664000554797846,0.4664000554797846,0.4664000554797846,0.3295036870940151,0.3782334311935089,0.22612635520932062,0.33373402066621977,0.17404470745971937,0.5338311102891884,0.5338311102891884,0.5338311102891884,0.3521810490302596,0.2511384914121917,0.11456575510298435,0.10189787096326776,0.13486210961880765,0.13486210961880765,0.13486210961880765,0.1236968029774151,0.1236968029774151,0.1236968029774151,0.1057352227282184,0.1057352227282184,0.1057352227282184,0.10966504080075823,0.10966504080075823,0.10966504080075823,0.17841374049330774,0.17841374049330774,0.17841374049330774,0.1230726554011882,0.1230726554011882,0.1230726554011882,0.11477380429505998,0.11477380429505998,0.11477380429505998,0.13527820800295892,0.13527820800295892,0.13527820800295892,0.12027554959661574,0.12027554959661574,0.12027554959661574,0.10293811692364595,0.10293811692364595,0.10293811692364595,0.11655378071615155,0.11655378071615155,0.11655378071615155,0.12610092697473357,0.12610092697473357,0.12610092697473357,0.1100811391849095,0.1100811391849095,0.1100811391849095,0.3028965070852308,0.3028965070852308,0.3028965070852308,0.18162694468203147,0.18162694468203147,0.14593494995261103,0.2531034004484616,0.2531034004484616,0.2531034004484616,0.14348459280149795,0.14348459280149795,0.14348459280149795,0.4172773295730368,0.4172773295730368,0.4172773295730368,0.4172773295730368,0.4172773295730368,0.4172773295730368,0.2822071707621535,0.2822071707621535,0.2822071707621535,0.1899026792112624,0.1899026792112624,0.1899026792112624,0.21202524330197184,0.21202524330197184,0.21202524330197184,0.16620818789153702,0.16620818789153702,0.22931644282114705,0.22931644282114705,0.22931644282114705,0.1044175778450727],\"xaxis\":\"x\",\"y\":[0.7959037425737997,0.886012159319448,0.5918306017244966,0.8346438746438747,0.7962393162393163,0.5128205128205129,0.7555292925882154,0.9420901570150262,0.7717134610338494,0.9206245080031488,0.6481238520073471,0.7566398090122352,0.9415099970158161,0.8132648295189163,0.49285380663241474,0.893787949556282,0.6107426436244745,0.7637892995035852,0.6264478764478765,0.945945945945946,0.9139200362441953,0.6145656359723638,0.7901738672286618,0.9113540569020022,0.6999473129610116,0.8040172492056287,0.6994845003351904,0.878855649143189,0.7894750573992904,0.7695286091819802,0.8264630499786416,0.4664000554797846,0.5860005808887598,0.7880634325443325,0.8072719034943648,0.9283931003177486,0.5550385837494326,0.8872841251306005,0.8040367364374199,0.5338311102891884,0.6025099144228763,0.9019998437622061,0.8628306054256103,0.6676909839591912,0.5292609995728321,0.4707390004271679,0.6648433048433049,0.7965592572364828,0.834979247173322,0.7020467069010758,0.9097245834750085,0.7625765996864757,0.6001049593282604,0.6518455180276471,0.9259109311740891,0.7078484034616532,0.9355156773811872,0.7518225039619651,0.720971508640822,0.8865150470939582,0.8066471571906354,0.497337692666978,0.611532276590857,0.8143163046803304,0.4638019617001401,0.9410538286580742,0.5189172240802675,0.5466604390471742,0.6116220735785953,0.8950749464668095,0.717457253171539,0.9393392309081062,0.7584548104956268,0.6140375068946498,0.9801893022232004,0.6491253644314868,0.5710726016536414,0.6248605775188995,0.9292296350903059,0.7185194942044256,0.9093182197032839,0.7884087295852,0.6272391991570074,0.6882497470732765,0.8961234474971772,0.7434748070812528,0.9247000705716301,0.8008189707859674,0.5544812985179957,0.8032099775097116,0.8050242285131344,0.6729150021510663,0.8744509224502834,0.7583985592574634,0.662857753096967,0.802041607442822,0.8244122725461548,0.5242811501597444,0.4709611772072636,0.7050621045230842,0.5965497868402789,0.8946768437747818,0.7816654397436452,0.6913971795888316,0.8564613441840886,0.8013127666557269,0.504885993485342,0.6560977557703058,0.7561671575846833,0.5204266908760781,0.5605671678278938,0.9376405643017787,0.9168579444019382,0.47193961273383656,0.6096736525106017,0.6871233635796911,0.9131075110456554,0.8353985574255595],\"yaxis\":\"y\",\"type\":\"scatter\"}],                        {\"template\":{\"data\":{\"histogram2dcontour\":[{\"type\":\"histogram2dcontour\",\"colorbar\":{\"outlinewidth\":0,\"ticks\":\"\"},\"colorscale\":[[0.0,\"#0d0887\"],[0.1111111111111111,\"#46039f\"],[0.2222222222222222,\"#7201a8\"],[0.3333333333333333,\"#9c179e\"],[0.4444444444444444,\"#bd3786\"],[0.5555555555555556,\"#d8576b\"],[0.6666666666666666,\"#ed7953\"],[0.7777777777777778,\"#fb9f3a\"],[0.8888888888888888,\"#fdca26\"],[1.0,\"#f0f921\"]]}],\"choropleth\":[{\"type\":\"choropleth\",\"colorbar\":{\"outlinewidth\":0,\"ticks\":\"\"}}],\"histogram2d\":[{\"type\":\"histogram2d\",\"colorbar\":{\"outlinewidth\":0,\"ticks\":\"\"},\"colorscale\":[[0.0,\"#0d0887\"],[0.1111111111111111,\"#46039f\"],[0.2222222222222222,\"#7201a8\"],[0.3333333333333333,\"#9c179e\"],[0.4444444444444444,\"#bd3786\"],[0.5555555555555556,\"#d8576b\"],[0.6666666666666666,\"#ed7953\"],[0.7777777777777778,\"#fb9f3a\"],[0.8888888888888888,\"#fdca26\"],[1.0,\"#f0f921\"]]}],\"heatmap\":[{\"type\":\"heatmap\",\"colorbar\":{\"outlinewidth\":0,\"ticks\":\"\"},\"colorscale\":[[0.0,\"#0d0887\"],[0.1111111111111111,\"#46039f\"],[0.2222222222222222,\"#7201a8\"],[0.3333333333333333,\"#9c179e\"],[0.4444444444444444,\"#bd3786\"],[0.5555555555555556,\"#d8576b\"],[0.6666666666666666,\"#ed7953\"],[0.7777777777777778,\"#fb9f3a\"],[0.8888888888888888,\"#fdca26\"],[1.0,\"#f0f921\"]]}],\"heatmapgl\":[{\"type\":\"heatmapgl\",\"colorbar\":{\"outlinewidth\":0,\"ticks\":\"\"},\"colorscale\":[[0.0,\"#0d0887\"],[0.1111111111111111,\"#46039f\"],[0.2222222222222222,\"#7201a8\"],[0.3333333333333333,\"#9c179e\"],[0.4444444444444444,\"#bd3786\"],[0.5555555555555556,\"#d8576b\"],[0.6666666666666666,\"#ed7953\"],[0.7777777777777778,\"#fb9f3a\"],[0.8888888888888888,\"#fdca26\"],[1.0,\"#f0f921\"]]}],\"contourcarpet\":[{\"type\":\"contourcarpet\",\"colorbar\":{\"outlinewidth\":0,\"ticks\":\"\"}}],\"contour\":[{\"type\":\"contour\",\"colorbar\":{\"outlinewidth\":0,\"ticks\":\"\"},\"colorscale\":[[0.0,\"#0d0887\"],[0.1111111111111111,\"#46039f\"],[0.2222222222222222,\"#7201a8\"],[0.3333333333333333,\"#9c179e\"],[0.4444444444444444,\"#bd3786\"],[0.5555555555555556,\"#d8576b\"],[0.6666666666666666,\"#ed7953\"],[0.7777777777777778,\"#fb9f3a\"],[0.8888888888888888,\"#fdca26\"],[1.0,\"#f0f921\"]]}],\"surface\":[{\"type\":\"surface\",\"colorbar\":{\"outlinewidth\":0,\"ticks\":\"\"},\"colorscale\":[[0.0,\"#0d0887\"],[0.1111111111111111,\"#46039f\"],[0.2222222222222222,\"#7201a8\"],[0.3333333333333333,\"#9c179e\"],[0.4444444444444444,\"#bd3786\"],[0.5555555555555556,\"#d8576b\"],[0.6666666666666666,\"#ed7953\"],[0.7777777777777778,\"#fb9f3a\"],[0.8888888888888888,\"#fdca26\"],[1.0,\"#f0f921\"]]}],\"mesh3d\":[{\"type\":\"mesh3d\",\"colorbar\":{\"outlinewidth\":0,\"ticks\":\"\"}}],\"scatter\":[{\"fillpattern\":{\"fillmode\":\"overlay\",\"size\":10,\"solidity\":0.2},\"type\":\"scatter\"}],\"parcoords\":[{\"type\":\"parcoords\",\"line\":{\"colorbar\":{\"outlinewidth\":0,\"ticks\":\"\"}}}],\"scatterpolargl\":[{\"type\":\"scatterpolargl\",\"marker\":{\"colorbar\":{\"outlinewidth\":0,\"ticks\":\"\"}}}],\"bar\":[{\"error_x\":{\"color\":\"#2a3f5f\"},\"error_y\":{\"color\":\"#2a3f5f\"},\"marker\":{\"line\":{\"color\":\"#E5ECF6\",\"width\":0.5},\"pattern\":{\"fillmode\":\"overlay\",\"size\":10,\"solidity\":0.2}},\"type\":\"bar\"}],\"scattergeo\":[{\"type\":\"scattergeo\",\"marker\":{\"colorbar\":{\"outlinewidth\":0,\"ticks\":\"\"}}}],\"scatterpolar\":[{\"type\":\"scatterpolar\",\"marker\":{\"colorbar\":{\"outlinewidth\":0,\"ticks\":\"\"}}}],\"histogram\":[{\"marker\":{\"pattern\":{\"fillmode\":\"overlay\",\"size\":10,\"solidity\":0.2}},\"type\":\"histogram\"}],\"scattergl\":[{\"type\":\"scattergl\",\"marker\":{\"colorbar\":{\"outlinewidth\":0,\"ticks\":\"\"}}}],\"scatter3d\":[{\"type\":\"scatter3d\",\"line\":{\"colorbar\":{\"outlinewidth\":0,\"ticks\":\"\"}},\"marker\":{\"colorbar\":{\"outlinewidth\":0,\"ticks\":\"\"}}}],\"scattermapbox\":[{\"type\":\"scattermapbox\",\"marker\":{\"colorbar\":{\"outlinewidth\":0,\"ticks\":\"\"}}}],\"scatterternary\":[{\"type\":\"scatterternary\",\"marker\":{\"colorbar\":{\"outlinewidth\":0,\"ticks\":\"\"}}}],\"scattercarpet\":[{\"type\":\"scattercarpet\",\"marker\":{\"colorbar\":{\"outlinewidth\":0,\"ticks\":\"\"}}}],\"carpet\":[{\"aaxis\":{\"endlinecolor\":\"#2a3f5f\",\"gridcolor\":\"white\",\"linecolor\":\"white\",\"minorgridcolor\":\"white\",\"startlinecolor\":\"#2a3f5f\"},\"baxis\":{\"endlinecolor\":\"#2a3f5f\",\"gridcolor\":\"white\",\"linecolor\":\"white\",\"minorgridcolor\":\"white\",\"startlinecolor\":\"#2a3f5f\"},\"type\":\"carpet\"}],\"table\":[{\"cells\":{\"fill\":{\"color\":\"#EBF0F8\"},\"line\":{\"color\":\"white\"}},\"header\":{\"fill\":{\"color\":\"#C8D4E3\"},\"line\":{\"color\":\"white\"}},\"type\":\"table\"}],\"barpolar\":[{\"marker\":{\"line\":{\"color\":\"#E5ECF6\",\"width\":0.5},\"pattern\":{\"fillmode\":\"overlay\",\"size\":10,\"solidity\":0.2}},\"type\":\"barpolar\"}],\"pie\":[{\"automargin\":true,\"type\":\"pie\"}]},\"layout\":{\"autotypenumbers\":\"strict\",\"colorway\":[\"#636efa\",\"#EF553B\",\"#00cc96\",\"#ab63fa\",\"#FFA15A\",\"#19d3f3\",\"#FF6692\",\"#B6E880\",\"#FF97FF\",\"#FECB52\"],\"font\":{\"color\":\"#2a3f5f\"},\"hovermode\":\"closest\",\"hoverlabel\":{\"align\":\"left\"},\"paper_bgcolor\":\"white\",\"plot_bgcolor\":\"#E5ECF6\",\"polar\":{\"bgcolor\":\"#E5ECF6\",\"angularaxis\":{\"gridcolor\":\"white\",\"linecolor\":\"white\",\"ticks\":\"\"},\"radialaxis\":{\"gridcolor\":\"white\",\"linecolor\":\"white\",\"ticks\":\"\"}},\"ternary\":{\"bgcolor\":\"#E5ECF6\",\"aaxis\":{\"gridcolor\":\"white\",\"linecolor\":\"white\",\"ticks\":\"\"},\"baxis\":{\"gridcolor\":\"white\",\"linecolor\":\"white\",\"ticks\":\"\"},\"caxis\":{\"gridcolor\":\"white\",\"linecolor\":\"white\",\"ticks\":\"\"}},\"coloraxis\":{\"colorbar\":{\"outlinewidth\":0,\"ticks\":\"\"}},\"colorscale\":{\"sequential\":[[0.0,\"#0d0887\"],[0.1111111111111111,\"#46039f\"],[0.2222222222222222,\"#7201a8\"],[0.3333333333333333,\"#9c179e\"],[0.4444444444444444,\"#bd3786\"],[0.5555555555555556,\"#d8576b\"],[0.6666666666666666,\"#ed7953\"],[0.7777777777777778,\"#fb9f3a\"],[0.8888888888888888,\"#fdca26\"],[1.0,\"#f0f921\"]],\"sequentialminus\":[[0.0,\"#0d0887\"],[0.1111111111111111,\"#46039f\"],[0.2222222222222222,\"#7201a8\"],[0.3333333333333333,\"#9c179e\"],[0.4444444444444444,\"#bd3786\"],[0.5555555555555556,\"#d8576b\"],[0.6666666666666666,\"#ed7953\"],[0.7777777777777778,\"#fb9f3a\"],[0.8888888888888888,\"#fdca26\"],[1.0,\"#f0f921\"]],\"diverging\":[[0,\"#8e0152\"],[0.1,\"#c51b7d\"],[0.2,\"#de77ae\"],[0.3,\"#f1b6da\"],[0.4,\"#fde0ef\"],[0.5,\"#f7f7f7\"],[0.6,\"#e6f5d0\"],[0.7,\"#b8e186\"],[0.8,\"#7fbc41\"],[0.9,\"#4d9221\"],[1,\"#276419\"]]},\"xaxis\":{\"gridcolor\":\"white\",\"linecolor\":\"white\",\"ticks\":\"\",\"title\":{\"standoff\":15},\"zerolinecolor\":\"white\",\"automargin\":true,\"zerolinewidth\":2},\"yaxis\":{\"gridcolor\":\"white\",\"linecolor\":\"white\",\"ticks\":\"\",\"title\":{\"standoff\":15},\"zerolinecolor\":\"white\",\"automargin\":true,\"zerolinewidth\":2},\"scene\":{\"xaxis\":{\"backgroundcolor\":\"#E5ECF6\",\"gridcolor\":\"white\",\"linecolor\":\"white\",\"showbackground\":true,\"ticks\":\"\",\"zerolinecolor\":\"white\",\"gridwidth\":2},\"yaxis\":{\"backgroundcolor\":\"#E5ECF6\",\"gridcolor\":\"white\",\"linecolor\":\"white\",\"showbackground\":true,\"ticks\":\"\",\"zerolinecolor\":\"white\",\"gridwidth\":2},\"zaxis\":{\"backgroundcolor\":\"#E5ECF6\",\"gridcolor\":\"white\",\"linecolor\":\"white\",\"showbackground\":true,\"ticks\":\"\",\"zerolinecolor\":\"white\",\"gridwidth\":2}},\"shapedefaults\":{\"line\":{\"color\":\"#2a3f5f\"}},\"annotationdefaults\":{\"arrowcolor\":\"#2a3f5f\",\"arrowhead\":0,\"arrowwidth\":1},\"geo\":{\"bgcolor\":\"white\",\"landcolor\":\"#E5ECF6\",\"subunitcolor\":\"white\",\"showland\":true,\"showlakes\":true,\"lakecolor\":\"white\"},\"title\":{\"x\":0.05},\"mapbox\":{\"style\":\"light\"}}},\"xaxis\":{\"anchor\":\"y\",\"domain\":[0.0,1.0],\"title\":{\"text\":\"Support\"}},\"yaxis\":{\"anchor\":\"x\",\"domain\":[0.0,1.0],\"title\":{\"text\":\"Confidence\"}},\"coloraxis\":{\"colorbar\":{\"title\":{\"text\":\"Lift\"}},\"colorscale\":[[0.0,\"rgb(75, 41, 145)\"],[0.16666666666666666,\"rgb(135, 44, 162)\"],[0.3333333333333333,\"rgb(192, 54, 157)\"],[0.5,\"rgb(234, 79, 136)\"],[0.6666666666666666,\"rgb(250, 120, 118)\"],[0.8333333333333334,\"rgb(246, 169, 122)\"],[1.0,\"rgb(237, 217, 163)\"]]},\"legend\":{\"tracegroupgap\":0},\"margin\":{\"t\":60}},                        {\"responsive\": true}                    ).then(function(){\n",
       "                            \n",
       "var gd = document.getElementById('2b9bb543-011a-449f-9990-0c5b5d5d0c6e');\n",
       "var x = new MutationObserver(function (mutations, observer) {{\n",
       "        var display = window.getComputedStyle(gd).display;\n",
       "        if (!display || display === 'none') {{\n",
       "            console.log([gd, 'removed!']);\n",
       "            Plotly.purge(gd);\n",
       "            observer.disconnect();\n",
       "        }}\n",
       "}});\n",
       "\n",
       "// Listen for the removal of the full notebook cells\n",
       "var notebookContainer = gd.closest('#notebook-container');\n",
       "if (notebookContainer) {{\n",
       "    x.observe(notebookContainer, {childList: true});\n",
       "}}\n",
       "\n",
       "// Listen for the clearing of the current output cell\n",
       "var outputEl = gd.closest('.output');\n",
       "if (outputEl) {{\n",
       "    x.observe(outputEl, {childList: true});\n",
       "}}\n",
       "\n",
       "                        })                };                });            </script>        </div>"
      ]
     },
     "metadata": {},
     "output_type": "display_data"
    }
   ],
   "source": [
    "fig = px.scatter(rules_df, x=\"Support\", y=\"Confidence\", color=\"Lift\", \n",
    "                 hover_data =[\"LHS\",\"RHS\"], color_continuous_scale=\"agsunset\")\n",
    "fig.show()"
   ]
  },
  {
   "cell_type": "code",
   "execution_count": 120,
   "id": "1d95aa99-66f5-43ed-9619-f768fe7bffa6",
   "metadata": {},
   "outputs": [
    {
     "data": {
      "application/vnd.plotly.v1+json": {
       "config": {
        "plotlyServerURL": "https://plot.ly"
       },
       "data": [
        {
         "customdata": [
          [
           [
            "Dec"
           ],
           [
            "Not Intoxicated",
            "Moving Traffic Violation"
           ]
          ],
          [
           [
            "Not Intoxicated",
            "Dec"
           ],
           [
            "Moving Traffic Violation"
           ]
          ],
          [
           [
            "Dec"
           ],
           [
            "Moving Traffic Violation"
           ]
          ],
          [
           [
            "Not Intoxicated",
            "8pm-12pm"
           ],
           [
            "Moving Traffic Violation"
           ]
          ],
          [
           [
            "8pm-12pm"
           ],
           [
            "Not Intoxicated",
            "Moving Traffic Violation"
           ]
          ],
          [
           [
            "8pm-12pm"
           ],
           [
            "Moving Traffic Violation"
           ]
          ],
          [
           [
            "Not Intoxicated",
            "Weekend"
           ],
           [
            "Moving Traffic Violation"
           ]
          ]
         ],
         "hovertemplate": "Support=%{x}<br>Confidence=%{y}<br>LHS=%{customdata[0]}<br>RHS=%{customdata[1]}<br>Lift=%{marker.color}<extra></extra>",
         "legendgroup": "",
         "marker": {
          "color": [
           1.6234353080769865,
           1.5933110610498007,
           1.5376480190228488,
           1.2737085903590724,
           1.2262320658346388,
           1.2097346130907642,
           1.158399665640776
          ],
          "coloraxis": "coloraxis",
          "symbol": "circle"
         },
         "mode": "markers",
         "name": "",
         "orientation": "v",
         "showlegend": false,
         "type": "scatter",
         "x": [
          0.10293811692364595,
          0.10293811692364595,
          0.10501860884440233,
          0.11477380429505998,
          0.11477380429505998,
          0.12196305971011813,
          0.16620818789153702
         ],
         "xaxis": "x",
         "y": [
          0.6140375068946498,
          0.6491253644314868,
          0.6264478764478765,
          0.5189172240802675,
          0.4638019617001401,
          0.49285380663241474,
          0.47193961273383656
         ],
         "yaxis": "y"
        }
       ],
       "layout": {
        "autosize": true,
        "coloraxis": {
         "colorbar": {
          "title": {
           "text": "Lift"
          }
         },
         "colorscale": [
          [
           0,
           "rgb(75, 41, 145)"
          ],
          [
           0.16666666666666666,
           "rgb(135, 44, 162)"
          ],
          [
           0.3333333333333333,
           "rgb(192, 54, 157)"
          ],
          [
           0.5,
           "rgb(234, 79, 136)"
          ],
          [
           0.6666666666666666,
           "rgb(250, 120, 118)"
          ],
          [
           0.8333333333333334,
           "rgb(246, 169, 122)"
          ],
          [
           1,
           "rgb(237, 217, 163)"
          ]
         ]
        },
        "legend": {
         "tracegroupgap": 0
        },
        "margin": {
         "t": 60
        },
        "template": {
         "data": {
          "bar": [
           {
            "error_x": {
             "color": "#2a3f5f"
            },
            "error_y": {
             "color": "#2a3f5f"
            },
            "marker": {
             "line": {
              "color": "#E5ECF6",
              "width": 0.5
             },
             "pattern": {
              "fillmode": "overlay",
              "size": 10,
              "solidity": 0.2
             }
            },
            "type": "bar"
           }
          ],
          "barpolar": [
           {
            "marker": {
             "line": {
              "color": "#E5ECF6",
              "width": 0.5
             },
             "pattern": {
              "fillmode": "overlay",
              "size": 10,
              "solidity": 0.2
             }
            },
            "type": "barpolar"
           }
          ],
          "carpet": [
           {
            "aaxis": {
             "endlinecolor": "#2a3f5f",
             "gridcolor": "white",
             "linecolor": "white",
             "minorgridcolor": "white",
             "startlinecolor": "#2a3f5f"
            },
            "baxis": {
             "endlinecolor": "#2a3f5f",
             "gridcolor": "white",
             "linecolor": "white",
             "minorgridcolor": "white",
             "startlinecolor": "#2a3f5f"
            },
            "type": "carpet"
           }
          ],
          "choropleth": [
           {
            "colorbar": {
             "outlinewidth": 0,
             "ticks": ""
            },
            "type": "choropleth"
           }
          ],
          "contour": [
           {
            "colorbar": {
             "outlinewidth": 0,
             "ticks": ""
            },
            "colorscale": [
             [
              0,
              "#0d0887"
             ],
             [
              0.1111111111111111,
              "#46039f"
             ],
             [
              0.2222222222222222,
              "#7201a8"
             ],
             [
              0.3333333333333333,
              "#9c179e"
             ],
             [
              0.4444444444444444,
              "#bd3786"
             ],
             [
              0.5555555555555556,
              "#d8576b"
             ],
             [
              0.6666666666666666,
              "#ed7953"
             ],
             [
              0.7777777777777778,
              "#fb9f3a"
             ],
             [
              0.8888888888888888,
              "#fdca26"
             ],
             [
              1,
              "#f0f921"
             ]
            ],
            "type": "contour"
           }
          ],
          "contourcarpet": [
           {
            "colorbar": {
             "outlinewidth": 0,
             "ticks": ""
            },
            "type": "contourcarpet"
           }
          ],
          "heatmap": [
           {
            "colorbar": {
             "outlinewidth": 0,
             "ticks": ""
            },
            "colorscale": [
             [
              0,
              "#0d0887"
             ],
             [
              0.1111111111111111,
              "#46039f"
             ],
             [
              0.2222222222222222,
              "#7201a8"
             ],
             [
              0.3333333333333333,
              "#9c179e"
             ],
             [
              0.4444444444444444,
              "#bd3786"
             ],
             [
              0.5555555555555556,
              "#d8576b"
             ],
             [
              0.6666666666666666,
              "#ed7953"
             ],
             [
              0.7777777777777778,
              "#fb9f3a"
             ],
             [
              0.8888888888888888,
              "#fdca26"
             ],
             [
              1,
              "#f0f921"
             ]
            ],
            "type": "heatmap"
           }
          ],
          "heatmapgl": [
           {
            "colorbar": {
             "outlinewidth": 0,
             "ticks": ""
            },
            "colorscale": [
             [
              0,
              "#0d0887"
             ],
             [
              0.1111111111111111,
              "#46039f"
             ],
             [
              0.2222222222222222,
              "#7201a8"
             ],
             [
              0.3333333333333333,
              "#9c179e"
             ],
             [
              0.4444444444444444,
              "#bd3786"
             ],
             [
              0.5555555555555556,
              "#d8576b"
             ],
             [
              0.6666666666666666,
              "#ed7953"
             ],
             [
              0.7777777777777778,
              "#fb9f3a"
             ],
             [
              0.8888888888888888,
              "#fdca26"
             ],
             [
              1,
              "#f0f921"
             ]
            ],
            "type": "heatmapgl"
           }
          ],
          "histogram": [
           {
            "marker": {
             "pattern": {
              "fillmode": "overlay",
              "size": 10,
              "solidity": 0.2
             }
            },
            "type": "histogram"
           }
          ],
          "histogram2d": [
           {
            "colorbar": {
             "outlinewidth": 0,
             "ticks": ""
            },
            "colorscale": [
             [
              0,
              "#0d0887"
             ],
             [
              0.1111111111111111,
              "#46039f"
             ],
             [
              0.2222222222222222,
              "#7201a8"
             ],
             [
              0.3333333333333333,
              "#9c179e"
             ],
             [
              0.4444444444444444,
              "#bd3786"
             ],
             [
              0.5555555555555556,
              "#d8576b"
             ],
             [
              0.6666666666666666,
              "#ed7953"
             ],
             [
              0.7777777777777778,
              "#fb9f3a"
             ],
             [
              0.8888888888888888,
              "#fdca26"
             ],
             [
              1,
              "#f0f921"
             ]
            ],
            "type": "histogram2d"
           }
          ],
          "histogram2dcontour": [
           {
            "colorbar": {
             "outlinewidth": 0,
             "ticks": ""
            },
            "colorscale": [
             [
              0,
              "#0d0887"
             ],
             [
              0.1111111111111111,
              "#46039f"
             ],
             [
              0.2222222222222222,
              "#7201a8"
             ],
             [
              0.3333333333333333,
              "#9c179e"
             ],
             [
              0.4444444444444444,
              "#bd3786"
             ],
             [
              0.5555555555555556,
              "#d8576b"
             ],
             [
              0.6666666666666666,
              "#ed7953"
             ],
             [
              0.7777777777777778,
              "#fb9f3a"
             ],
             [
              0.8888888888888888,
              "#fdca26"
             ],
             [
              1,
              "#f0f921"
             ]
            ],
            "type": "histogram2dcontour"
           }
          ],
          "mesh3d": [
           {
            "colorbar": {
             "outlinewidth": 0,
             "ticks": ""
            },
            "type": "mesh3d"
           }
          ],
          "parcoords": [
           {
            "line": {
             "colorbar": {
              "outlinewidth": 0,
              "ticks": ""
             }
            },
            "type": "parcoords"
           }
          ],
          "pie": [
           {
            "automargin": true,
            "type": "pie"
           }
          ],
          "scatter": [
           {
            "fillpattern": {
             "fillmode": "overlay",
             "size": 10,
             "solidity": 0.2
            },
            "type": "scatter"
           }
          ],
          "scatter3d": [
           {
            "line": {
             "colorbar": {
              "outlinewidth": 0,
              "ticks": ""
             }
            },
            "marker": {
             "colorbar": {
              "outlinewidth": 0,
              "ticks": ""
             }
            },
            "type": "scatter3d"
           }
          ],
          "scattercarpet": [
           {
            "marker": {
             "colorbar": {
              "outlinewidth": 0,
              "ticks": ""
             }
            },
            "type": "scattercarpet"
           }
          ],
          "scattergeo": [
           {
            "marker": {
             "colorbar": {
              "outlinewidth": 0,
              "ticks": ""
             }
            },
            "type": "scattergeo"
           }
          ],
          "scattergl": [
           {
            "marker": {
             "colorbar": {
              "outlinewidth": 0,
              "ticks": ""
             }
            },
            "type": "scattergl"
           }
          ],
          "scattermapbox": [
           {
            "marker": {
             "colorbar": {
              "outlinewidth": 0,
              "ticks": ""
             }
            },
            "type": "scattermapbox"
           }
          ],
          "scatterpolar": [
           {
            "marker": {
             "colorbar": {
              "outlinewidth": 0,
              "ticks": ""
             }
            },
            "type": "scatterpolar"
           }
          ],
          "scatterpolargl": [
           {
            "marker": {
             "colorbar": {
              "outlinewidth": 0,
              "ticks": ""
             }
            },
            "type": "scatterpolargl"
           }
          ],
          "scatterternary": [
           {
            "marker": {
             "colorbar": {
              "outlinewidth": 0,
              "ticks": ""
             }
            },
            "type": "scatterternary"
           }
          ],
          "surface": [
           {
            "colorbar": {
             "outlinewidth": 0,
             "ticks": ""
            },
            "colorscale": [
             [
              0,
              "#0d0887"
             ],
             [
              0.1111111111111111,
              "#46039f"
             ],
             [
              0.2222222222222222,
              "#7201a8"
             ],
             [
              0.3333333333333333,
              "#9c179e"
             ],
             [
              0.4444444444444444,
              "#bd3786"
             ],
             [
              0.5555555555555556,
              "#d8576b"
             ],
             [
              0.6666666666666666,
              "#ed7953"
             ],
             [
              0.7777777777777778,
              "#fb9f3a"
             ],
             [
              0.8888888888888888,
              "#fdca26"
             ],
             [
              1,
              "#f0f921"
             ]
            ],
            "type": "surface"
           }
          ],
          "table": [
           {
            "cells": {
             "fill": {
              "color": "#EBF0F8"
             },
             "line": {
              "color": "white"
             }
            },
            "header": {
             "fill": {
              "color": "#C8D4E3"
             },
             "line": {
              "color": "white"
             }
            },
            "type": "table"
           }
          ]
         },
         "layout": {
          "annotationdefaults": {
           "arrowcolor": "#2a3f5f",
           "arrowhead": 0,
           "arrowwidth": 1
          },
          "autotypenumbers": "strict",
          "coloraxis": {
           "colorbar": {
            "outlinewidth": 0,
            "ticks": ""
           }
          },
          "colorscale": {
           "diverging": [
            [
             0,
             "#8e0152"
            ],
            [
             0.1,
             "#c51b7d"
            ],
            [
             0.2,
             "#de77ae"
            ],
            [
             0.3,
             "#f1b6da"
            ],
            [
             0.4,
             "#fde0ef"
            ],
            [
             0.5,
             "#f7f7f7"
            ],
            [
             0.6,
             "#e6f5d0"
            ],
            [
             0.7,
             "#b8e186"
            ],
            [
             0.8,
             "#7fbc41"
            ],
            [
             0.9,
             "#4d9221"
            ],
            [
             1,
             "#276419"
            ]
           ],
           "sequential": [
            [
             0,
             "#0d0887"
            ],
            [
             0.1111111111111111,
             "#46039f"
            ],
            [
             0.2222222222222222,
             "#7201a8"
            ],
            [
             0.3333333333333333,
             "#9c179e"
            ],
            [
             0.4444444444444444,
             "#bd3786"
            ],
            [
             0.5555555555555556,
             "#d8576b"
            ],
            [
             0.6666666666666666,
             "#ed7953"
            ],
            [
             0.7777777777777778,
             "#fb9f3a"
            ],
            [
             0.8888888888888888,
             "#fdca26"
            ],
            [
             1,
             "#f0f921"
            ]
           ],
           "sequentialminus": [
            [
             0,
             "#0d0887"
            ],
            [
             0.1111111111111111,
             "#46039f"
            ],
            [
             0.2222222222222222,
             "#7201a8"
            ],
            [
             0.3333333333333333,
             "#9c179e"
            ],
            [
             0.4444444444444444,
             "#bd3786"
            ],
            [
             0.5555555555555556,
             "#d8576b"
            ],
            [
             0.6666666666666666,
             "#ed7953"
            ],
            [
             0.7777777777777778,
             "#fb9f3a"
            ],
            [
             0.8888888888888888,
             "#fdca26"
            ],
            [
             1,
             "#f0f921"
            ]
           ]
          },
          "colorway": [
           "#636efa",
           "#EF553B",
           "#00cc96",
           "#ab63fa",
           "#FFA15A",
           "#19d3f3",
           "#FF6692",
           "#B6E880",
           "#FF97FF",
           "#FECB52"
          ],
          "font": {
           "color": "#2a3f5f"
          },
          "geo": {
           "bgcolor": "white",
           "lakecolor": "white",
           "landcolor": "#E5ECF6",
           "showlakes": true,
           "showland": true,
           "subunitcolor": "white"
          },
          "hoverlabel": {
           "align": "left"
          },
          "hovermode": "closest",
          "mapbox": {
           "style": "light"
          },
          "paper_bgcolor": "white",
          "plot_bgcolor": "#E5ECF6",
          "polar": {
           "angularaxis": {
            "gridcolor": "white",
            "linecolor": "white",
            "ticks": ""
           },
           "bgcolor": "#E5ECF6",
           "radialaxis": {
            "gridcolor": "white",
            "linecolor": "white",
            "ticks": ""
           }
          },
          "scene": {
           "xaxis": {
            "backgroundcolor": "#E5ECF6",
            "gridcolor": "white",
            "gridwidth": 2,
            "linecolor": "white",
            "showbackground": true,
            "ticks": "",
            "zerolinecolor": "white"
           },
           "yaxis": {
            "backgroundcolor": "#E5ECF6",
            "gridcolor": "white",
            "gridwidth": 2,
            "linecolor": "white",
            "showbackground": true,
            "ticks": "",
            "zerolinecolor": "white"
           },
           "zaxis": {
            "backgroundcolor": "#E5ECF6",
            "gridcolor": "white",
            "gridwidth": 2,
            "linecolor": "white",
            "showbackground": true,
            "ticks": "",
            "zerolinecolor": "white"
           }
          },
          "shapedefaults": {
           "line": {
            "color": "#2a3f5f"
           }
          },
          "ternary": {
           "aaxis": {
            "gridcolor": "white",
            "linecolor": "white",
            "ticks": ""
           },
           "baxis": {
            "gridcolor": "white",
            "linecolor": "white",
            "ticks": ""
           },
           "bgcolor": "#E5ECF6",
           "caxis": {
            "gridcolor": "white",
            "linecolor": "white",
            "ticks": ""
           }
          },
          "title": {
           "x": 0.05
          },
          "xaxis": {
           "automargin": true,
           "gridcolor": "white",
           "linecolor": "white",
           "ticks": "",
           "title": {
            "standoff": 15
           },
           "zerolinecolor": "white",
           "zerolinewidth": 2
          },
          "yaxis": {
           "automargin": true,
           "gridcolor": "white",
           "linecolor": "white",
           "ticks": "",
           "title": {
            "standoff": 15
           },
           "zerolinecolor": "white",
           "zerolinewidth": 2
          }
         }
        },
        "xaxis": {
         "anchor": "y",
         "autorange": true,
         "domain": [
          0,
          1
         ],
         "range": [
          0.09836053621476387,
          0.1707857686004191
         ],
         "title": {
          "text": "Support"
         },
         "type": "linear"
        },
        "yaxis": {
         "anchor": "x",
         "autorange": true,
         "domain": [
          0,
          1
         ],
         "range": [
          0.4494527743495503,
          0.6634745517820767
         ],
         "title": {
          "text": "Confidence"
         },
         "type": "linear"
        }
       }
      },
      "image/png": "[encoded data removed]",
      "text/html": [
       "<div>                            <div id=\"6bb9b86b-e37d-4301-86dc-4a376f405353\" class=\"plotly-graph-div\" style=\"height:525px; width:100%;\"></div>            <script type=\"text/javascript\">                require([\"plotly\"], function(Plotly) {                    window.PLOTLYENV=window.PLOTLYENV || {};                                    if (document.getElementById(\"6bb9b86b-e37d-4301-86dc-4a376f405353\")) {                    Plotly.newPlot(                        \"6bb9b86b-e37d-4301-86dc-4a376f405353\",                        [{\"customdata\":[[[\"Dec\"],[\"Not Intoxicated\",\"Moving Traffic Violation\"]],[[\"Not Intoxicated\",\"Dec\"],[\"Moving Traffic Violation\"]],[[\"Dec\"],[\"Moving Traffic Violation\"]],[[\"Not Intoxicated\",\"8pm-12pm\"],[\"Moving Traffic Violation\"]],[[\"8pm-12pm\"],[\"Not Intoxicated\",\"Moving Traffic Violation\"]],[[\"8pm-12pm\"],[\"Moving Traffic Violation\"]],[[\"Not Intoxicated\",\"Weekend\"],[\"Moving Traffic Violation\"]]],\"hovertemplate\":\"Support=%{x}<br>Confidence=%{y}<br>LHS=%{customdata[0]}<br>RHS=%{customdata[1]}<br>Lift=%{marker.color}<extra></extra>\",\"legendgroup\":\"\",\"marker\":{\"color\":[1.6234353080769865,1.5933110610498007,1.5376480190228488,1.2737085903590724,1.2262320658346388,1.2097346130907642,1.158399665640776],\"coloraxis\":\"coloraxis\",\"symbol\":\"circle\"},\"mode\":\"markers\",\"name\":\"\",\"orientation\":\"v\",\"showlegend\":false,\"x\":[0.10293811692364595,0.10293811692364595,0.10501860884440233,0.11477380429505998,0.11477380429505998,0.12196305971011813,0.16620818789153702],\"xaxis\":\"x\",\"y\":[0.6140375068946498,0.6491253644314868,0.6264478764478765,0.5189172240802675,0.4638019617001401,0.49285380663241474,0.47193961273383656],\"yaxis\":\"y\",\"type\":\"scatter\"}],                        {\"template\":{\"data\":{\"histogram2dcontour\":[{\"type\":\"histogram2dcontour\",\"colorbar\":{\"outlinewidth\":0,\"ticks\":\"\"},\"colorscale\":[[0.0,\"#0d0887\"],[0.1111111111111111,\"#46039f\"],[0.2222222222222222,\"#7201a8\"],[0.3333333333333333,\"#9c179e\"],[0.4444444444444444,\"#bd3786\"],[0.5555555555555556,\"#d8576b\"],[0.6666666666666666,\"#ed7953\"],[0.7777777777777778,\"#fb9f3a\"],[0.8888888888888888,\"#fdca26\"],[1.0,\"#f0f921\"]]}],\"choropleth\":[{\"type\":\"choropleth\",\"colorbar\":{\"outlinewidth\":0,\"ticks\":\"\"}}],\"histogram2d\":[{\"type\":\"histogram2d\",\"colorbar\":{\"outlinewidth\":0,\"ticks\":\"\"},\"colorscale\":[[0.0,\"#0d0887\"],[0.1111111111111111,\"#46039f\"],[0.2222222222222222,\"#7201a8\"],[0.3333333333333333,\"#9c179e\"],[0.4444444444444444,\"#bd3786\"],[0.5555555555555556,\"#d8576b\"],[0.6666666666666666,\"#ed7953\"],[0.7777777777777778,\"#fb9f3a\"],[0.8888888888888888,\"#fdca26\"],[1.0,\"#f0f921\"]]}],\"heatmap\":[{\"type\":\"heatmap\",\"colorbar\":{\"outlinewidth\":0,\"ticks\":\"\"},\"colorscale\":[[0.0,\"#0d0887\"],[0.1111111111111111,\"#46039f\"],[0.2222222222222222,\"#7201a8\"],[0.3333333333333333,\"#9c179e\"],[0.4444444444444444,\"#bd3786\"],[0.5555555555555556,\"#d8576b\"],[0.6666666666666666,\"#ed7953\"],[0.7777777777777778,\"#fb9f3a\"],[0.8888888888888888,\"#fdca26\"],[1.0,\"#f0f921\"]]}],\"heatmapgl\":[{\"type\":\"heatmapgl\",\"colorbar\":{\"outlinewidth\":0,\"ticks\":\"\"},\"colorscale\":[[0.0,\"#0d0887\"],[0.1111111111111111,\"#46039f\"],[0.2222222222222222,\"#7201a8\"],[0.3333333333333333,\"#9c179e\"],[0.4444444444444444,\"#bd3786\"],[0.5555555555555556,\"#d8576b\"],[0.6666666666666666,\"#ed7953\"],[0.7777777777777778,\"#fb9f3a\"],[0.8888888888888888,\"#fdca26\"],[1.0,\"#f0f921\"]]}],\"contourcarpet\":[{\"type\":\"contourcarpet\",\"colorbar\":{\"outlinewidth\":0,\"ticks\":\"\"}}],\"contour\":[{\"type\":\"contour\",\"colorbar\":{\"outlinewidth\":0,\"ticks\":\"\"},\"colorscale\":[[0.0,\"#0d0887\"],[0.1111111111111111,\"#46039f\"],[0.2222222222222222,\"#7201a8\"],[0.3333333333333333,\"#9c179e\"],[0.4444444444444444,\"#bd3786\"],[0.5555555555555556,\"#d8576b\"],[0.6666666666666666,\"#ed7953\"],[0.7777777777777778,\"#fb9f3a\"],[0.8888888888888888,\"#fdca26\"],[1.0,\"#f0f921\"]]}],\"surface\":[{\"type\":\"surface\",\"colorbar\":{\"outlinewidth\":0,\"ticks\":\"\"},\"colorscale\":[[0.0,\"#0d0887\"],[0.1111111111111111,\"#46039f\"],[0.2222222222222222,\"#7201a8\"],[0.3333333333333333,\"#9c179e\"],[0.4444444444444444,\"#bd3786\"],[0.5555555555555556,\"#d8576b\"],[0.6666666666666666,\"#ed7953\"],[0.7777777777777778,\"#fb9f3a\"],[0.8888888888888888,\"#fdca26\"],[1.0,\"#f0f921\"]]}],\"mesh3d\":[{\"type\":\"mesh3d\",\"colorbar\":{\"outlinewidth\":0,\"ticks\":\"\"}}],\"scatter\":[{\"fillpattern\":{\"fillmode\":\"overlay\",\"size\":10,\"solidity\":0.2},\"type\":\"scatter\"}],\"parcoords\":[{\"type\":\"parcoords\",\"line\":{\"colorbar\":{\"outlinewidth\":0,\"ticks\":\"\"}}}],\"scatterpolargl\":[{\"type\":\"scatterpolargl\",\"marker\":{\"colorbar\":{\"outlinewidth\":0,\"ticks\":\"\"}}}],\"bar\":[{\"error_x\":{\"color\":\"#2a3f5f\"},\"error_y\":{\"color\":\"#2a3f5f\"},\"marker\":{\"line\":{\"color\":\"#E5ECF6\",\"width\":0.5},\"pattern\":{\"fillmode\":\"overlay\",\"size\":10,\"solidity\":0.2}},\"type\":\"bar\"}],\"scattergeo\":[{\"type\":\"scattergeo\",\"marker\":{\"colorbar\":{\"outlinewidth\":0,\"ticks\":\"\"}}}],\"scatterpolar\":[{\"type\":\"scatterpolar\",\"marker\":{\"colorbar\":{\"outlinewidth\":0,\"ticks\":\"\"}}}],\"histogram\":[{\"marker\":{\"pattern\":{\"fillmode\":\"overlay\",\"size\":10,\"solidity\":0.2}},\"type\":\"histogram\"}],\"scattergl\":[{\"type\":\"scattergl\",\"marker\":{\"colorbar\":{\"outlinewidth\":0,\"ticks\":\"\"}}}],\"scatter3d\":[{\"type\":\"scatter3d\",\"line\":{\"colorbar\":{\"outlinewidth\":0,\"ticks\":\"\"}},\"marker\":{\"colorbar\":{\"outlinewidth\":0,\"ticks\":\"\"}}}],\"scattermapbox\":[{\"type\":\"scattermapbox\",\"marker\":{\"colorbar\":{\"outlinewidth\":0,\"ticks\":\"\"}}}],\"scatterternary\":[{\"type\":\"scatterternary\",\"marker\":{\"colorbar\":{\"outlinewidth\":0,\"ticks\":\"\"}}}],\"scattercarpet\":[{\"type\":\"scattercarpet\",\"marker\":{\"colorbar\":{\"outlinewidth\":0,\"ticks\":\"\"}}}],\"carpet\":[{\"aaxis\":{\"endlinecolor\":\"#2a3f5f\",\"gridcolor\":\"white\",\"linecolor\":\"white\",\"minorgridcolor\":\"white\",\"startlinecolor\":\"#2a3f5f\"},\"baxis\":{\"endlinecolor\":\"#2a3f5f\",\"gridcolor\":\"white\",\"linecolor\":\"white\",\"minorgridcolor\":\"white\",\"startlinecolor\":\"#2a3f5f\"},\"type\":\"carpet\"}],\"table\":[{\"cells\":{\"fill\":{\"color\":\"#EBF0F8\"},\"line\":{\"color\":\"white\"}},\"header\":{\"fill\":{\"color\":\"#C8D4E3\"},\"line\":{\"color\":\"white\"}},\"type\":\"table\"}],\"barpolar\":[{\"marker\":{\"line\":{\"color\":\"#E5ECF6\",\"width\":0.5},\"pattern\":{\"fillmode\":\"overlay\",\"size\":10,\"solidity\":0.2}},\"type\":\"barpolar\"}],\"pie\":[{\"automargin\":true,\"type\":\"pie\"}]},\"layout\":{\"autotypenumbers\":\"strict\",\"colorway\":[\"#636efa\",\"#EF553B\",\"#00cc96\",\"#ab63fa\",\"#FFA15A\",\"#19d3f3\",\"#FF6692\",\"#B6E880\",\"#FF97FF\",\"#FECB52\"],\"font\":{\"color\":\"#2a3f5f\"},\"hovermode\":\"closest\",\"hoverlabel\":{\"align\":\"left\"},\"paper_bgcolor\":\"white\",\"plot_bgcolor\":\"#E5ECF6\",\"polar\":{\"bgcolor\":\"#E5ECF6\",\"angularaxis\":{\"gridcolor\":\"white\",\"linecolor\":\"white\",\"ticks\":\"\"},\"radialaxis\":{\"gridcolor\":\"white\",\"linecolor\":\"white\",\"ticks\":\"\"}},\"ternary\":{\"bgcolor\":\"#E5ECF6\",\"aaxis\":{\"gridcolor\":\"white\",\"linecolor\":\"white\",\"ticks\":\"\"},\"baxis\":{\"gridcolor\":\"white\",\"linecolor\":\"white\",\"ticks\":\"\"},\"caxis\":{\"gridcolor\":\"white\",\"linecolor\":\"white\",\"ticks\":\"\"}},\"coloraxis\":{\"colorbar\":{\"outlinewidth\":0,\"ticks\":\"\"}},\"colorscale\":{\"sequential\":[[0.0,\"#0d0887\"],[0.1111111111111111,\"#46039f\"],[0.2222222222222222,\"#7201a8\"],[0.3333333333333333,\"#9c179e\"],[0.4444444444444444,\"#bd3786\"],[0.5555555555555556,\"#d8576b\"],[0.6666666666666666,\"#ed7953\"],[0.7777777777777778,\"#fb9f3a\"],[0.8888888888888888,\"#fdca26\"],[1.0,\"#f0f921\"]],\"sequentialminus\":[[0.0,\"#0d0887\"],[0.1111111111111111,\"#46039f\"],[0.2222222222222222,\"#7201a8\"],[0.3333333333333333,\"#9c179e\"],[0.4444444444444444,\"#bd3786\"],[0.5555555555555556,\"#d8576b\"],[0.6666666666666666,\"#ed7953\"],[0.7777777777777778,\"#fb9f3a\"],[0.8888888888888888,\"#fdca26\"],[1.0,\"#f0f921\"]],\"diverging\":[[0,\"#8e0152\"],[0.1,\"#c51b7d\"],[0.2,\"#de77ae\"],[0.3,\"#f1b6da\"],[0.4,\"#fde0ef\"],[0.5,\"#f7f7f7\"],[0.6,\"#e6f5d0\"],[0.7,\"#b8e186\"],[0.8,\"#7fbc41\"],[0.9,\"#4d9221\"],[1,\"#276419\"]]},\"xaxis\":{\"gridcolor\":\"white\",\"linecolor\":\"white\",\"ticks\":\"\",\"title\":{\"standoff\":15},\"zerolinecolor\":\"white\",\"automargin\":true,\"zerolinewidth\":2},\"yaxis\":{\"gridcolor\":\"white\",\"linecolor\":\"white\",\"ticks\":\"\",\"title\":{\"standoff\":15},\"zerolinecolor\":\"white\",\"automargin\":true,\"zerolinewidth\":2},\"scene\":{\"xaxis\":{\"backgroundcolor\":\"#E5ECF6\",\"gridcolor\":\"white\",\"linecolor\":\"white\",\"showbackground\":true,\"ticks\":\"\",\"zerolinecolor\":\"white\",\"gridwidth\":2},\"yaxis\":{\"backgroundcolor\":\"#E5ECF6\",\"gridcolor\":\"white\",\"linecolor\":\"white\",\"showbackground\":true,\"ticks\":\"\",\"zerolinecolor\":\"white\",\"gridwidth\":2},\"zaxis\":{\"backgroundcolor\":\"#E5ECF6\",\"gridcolor\":\"white\",\"linecolor\":\"white\",\"showbackground\":true,\"ticks\":\"\",\"zerolinecolor\":\"white\",\"gridwidth\":2}},\"shapedefaults\":{\"line\":{\"color\":\"#2a3f5f\"}},\"annotationdefaults\":{\"arrowcolor\":\"#2a3f5f\",\"arrowhead\":0,\"arrowwidth\":1},\"geo\":{\"bgcolor\":\"white\",\"landcolor\":\"#E5ECF6\",\"subunitcolor\":\"white\",\"showland\":true,\"showlakes\":true,\"lakecolor\":\"white\"},\"title\":{\"x\":0.05},\"mapbox\":{\"style\":\"light\"}}},\"xaxis\":{\"anchor\":\"y\",\"domain\":[0.0,1.0],\"title\":{\"text\":\"Support\"}},\"yaxis\":{\"anchor\":\"x\",\"domain\":[0.0,1.0],\"title\":{\"text\":\"Confidence\"}},\"coloraxis\":{\"colorbar\":{\"title\":{\"text\":\"Lift\"}},\"colorscale\":[[0.0,\"rgb(75, 41, 145)\"],[0.16666666666666666,\"rgb(135, 44, 162)\"],[0.3333333333333333,\"rgb(192, 54, 157)\"],[0.5,\"rgb(234, 79, 136)\"],[0.6666666666666666,\"rgb(250, 120, 118)\"],[0.8333333333333334,\"rgb(246, 169, 122)\"],[1.0,\"rgb(237, 217, 163)\"]]},\"legend\":{\"tracegroupgap\":0},\"margin\":{\"t\":60}},                        {\"responsive\": true}                    ).then(function(){\n",
       "                            \n",
       "var gd = document.getElementById('6bb9b86b-e37d-4301-86dc-4a376f405353');\n",
       "var x = new MutationObserver(function (mutations, observer) {{\n",
       "        var display = window.getComputedStyle(gd).display;\n",
       "        if (!display || display === 'none') {{\n",
       "            console.log([gd, 'removed!']);\n",
       "            Plotly.purge(gd);\n",
       "            observer.disconnect();\n",
       "        }}\n",
       "}});\n",
       "\n",
       "// Listen for the removal of the full notebook cells\n",
       "var notebookContainer = gd.closest('#notebook-container');\n",
       "if (notebookContainer) {{\n",
       "    x.observe(notebookContainer, {childList: true});\n",
       "}}\n",
       "\n",
       "// Listen for the clearing of the current output cell\n",
       "var outputEl = gd.closest('.output');\n",
       "if (outputEl) {{\n",
       "    x.observe(outputEl, {childList: true});\n",
       "}}\n",
       "\n",
       "                        })                };                });            </script>        </div>"
      ]
     },
     "metadata": {},
     "output_type": "display_data"
    }
   ],
   "source": [
    "fig = px.scatter(mt, x=\"Support\", y=\"Confidence\", color=\"Lift\", \n",
    "                 hover_data =[\"LHS\",\"RHS\"], color_continuous_scale=\"agsunset\")\n",
    "fig.show()"
   ]
  },
  {
   "cell_type": "markdown",
   "id": "dd2b7878-662c-468d-ae94-2e3b6431aa75",
   "metadata": {
    "tags": []
   },
   "source": [
    "## Plots for Checking type of accidents"
   ]
  },
  {
   "cell_type": "code",
   "execution_count": 121,
   "id": "2cd16e71-21dd-41c0-97ca-26f20cc2181b",
   "metadata": {},
   "outputs": [
    {
     "data": {
      "text/plain": [
       "Text(0.5, 1.0, '')"
      ]
     },
     "execution_count": 121,
     "metadata": {},
     "output_type": "execute_result"
    },
    {
     "data": {
      "image/png": "[encoded data removed]",
      "text/plain": [
       "<Figure size 432x288 with 1 Axes>"
      ]
     },
     "metadata": {
      "needs_background": "light"
     },
     "output_type": "display_data"
    }
   ],
   "source": [
    "fig, ax=plt.subplots(figsize=(6,4))\n",
    "df['Reason'].value_counts().sort_values(ascending=False).head(10).plot(kind='bar')\n",
    "plt.ylabel('Number of collisions')\n",
    "plt.xlabel('Reason')\n",
    "ax.get_yaxis().get_major_formatter().set_scientific(False)\n",
    "plt.title('')"
   ]
  },
  {
   "cell_type": "code",
   "execution_count": 66,
   "id": "00533152-23e6-4b90-a8cf-b627d2ba030b",
   "metadata": {},
   "outputs": [
    {
     "data": {
      "text/plain": [
       "Text(0.5, 1.0, 'Gender based ')"
      ]
     },
     "execution_count": 66,
     "metadata": {},
     "output_type": "execute_result"
    },
    {
     "data": {
      "image/png": "[encoded data removed]",
      "text/plain": [
       "<Figure size 432x288 with 1 Axes>"
      ]
     },
     "metadata": {
      "needs_background": "light"
     },
     "output_type": "display_data"
    }
   ],
   "source": [
    "fig, ax=plt.subplots(figsize=(6,4))\n",
    "df['Gender'].value_counts().sort_values(ascending=False).head(10).plot(kind='bar')\n",
    "plt.ylabel('Count')\n",
    "plt.xlabel('Gender')\n",
    "ax.get_yaxis().get_major_formatter().set_scientific(False)\n",
    "plt.title('Gender based ')"
   ]
  },
  {
   "cell_type": "code",
   "execution_count": 67,
   "id": "5d6b3ffd-43b7-42c4-afaa-e51f8e7fc836",
   "metadata": {},
   "outputs": [
    {
     "data": {
      "text/plain": [
       "Text(0.5, 1.0, 'Week or Weekend')"
      ]
     },
     "execution_count": 67,
     "metadata": {},
     "output_type": "execute_result"
    },
    {
     "data": {
      "image/png": "[encoded data removed]",
      "text/plain": [
       "<Figure size 432x288 with 1 Axes>"
      ]
     },
     "metadata": {
      "needs_background": "light"
     },
     "output_type": "display_data"
    }
   ],
   "source": [
    "fig, ax=plt.subplots(figsize=(6,4))\n",
    "df['WeekType'].value_counts().sort_values(ascending=False).head(10).plot(kind='bar')\n",
    "plt.ylabel('Count')\n",
    "plt.xlabel('')\n",
    "ax.get_yaxis().get_major_formatter().set_scientific(False)\n",
    "plt.title('Week or Weekend')"
   ]
  },
  {
   "cell_type": "code",
   "execution_count": 68,
   "id": "8f3f55a7-0272-415d-abfb-7bc0df1013f2",
   "metadata": {},
   "outputs": [
    {
     "data": {
      "text/plain": [
       "Text(0.5, 1.0, 'Week or Weekend')"
      ]
     },
     "execution_count": 68,
     "metadata": {},
     "output_type": "execute_result"
    },
    {
     "data": {
      "image/png": "[encoded data removed]",
      "text/plain": [
       "<Figure size 432x288 with 1 Axes>"
      ]
     },
     "metadata": {
      "needs_background": "light"
     },
     "output_type": "display_data"
    }
   ],
   "source": [
    "fig, ax=plt.subplots(figsize=(6,4))\n",
    "df['Month'].value_counts().sort_values(ascending=False).head(10).plot(kind='bar')\n",
    "plt.ylabel('Count')\n",
    "plt.xlabel('')\n",
    "ax.get_yaxis().get_major_formatter().set_scientific(False)\n",
    "plt.title('Week or Weekend')"
   ]
  },
  {
   "cell_type": "code",
   "execution_count": null,
   "id": "ba514f31-d418-4a2c-9e70-c282a090248b",
   "metadata": {},
   "outputs": [],
   "source": []
  },
  {
   "cell_type": "code",
   "execution_count": null,
   "id": "2718c40d-6dbf-4ab5-86c4-05163c130e43",
   "metadata": {},
   "outputs": [],
   "source": []
  },
  {
   "cell_type": "code",
   "execution_count": null,
   "id": "8ce990cd-d03e-49d3-a232-19a78dc68d82",
   "metadata": {},
   "outputs": [],
   "source": []
  },
  {
   "cell_type": "code",
   "execution_count": null,
   "id": "5d286304-f16c-46ac-90dc-93941b0e48f3",
   "metadata": {},
   "outputs": [],
   "source": []
  },
  {
   "cell_type": "code",
   "execution_count": null,
   "id": "c52f7730-c813-45a8-8413-98982ae7879b",
   "metadata": {},
   "outputs": [],
   "source": []
  },
  {
   "cell_type": "code",
   "execution_count": null,
   "id": "0d26b205-b855-436b-beaa-35283cb3f1e0",
   "metadata": {},
   "outputs": [],
   "source": []
  },
  {
   "cell_type": "code",
   "execution_count": null,
   "id": "207394ee-e5ec-44cf-96ac-d421e949a2a5",
   "metadata": {},
   "outputs": [],
   "source": []
  },
  {
   "cell_type": "code",
   "execution_count": null,
   "id": "1195e5c9-eeaa-4a85-a7be-74de7f58ccf8",
   "metadata": {},
   "outputs": [],
   "source": []
  },
  {
   "cell_type": "code",
   "execution_count": null,
   "id": "87cd8cec-b5c0-4c13-aa60-c48eba9e4ff9",
   "metadata": {},
   "outputs": [],
   "source": []
  },
  {
   "cell_type": "code",
   "execution_count": null,
   "id": "1d7d6a9c-661b-4a3e-9970-59ff1e9a40f6",
   "metadata": {},
   "outputs": [],
   "source": []
  },
  {
   "cell_type": "code",
   "execution_count": null,
   "id": "9139f12b-5673-4520-b564-10d57c06ec53",
   "metadata": {},
   "outputs": [],
   "source": []
  },
  {
   "cell_type": "code",
   "execution_count": null,
   "id": "f8777c58-3cab-48dd-80be-6b52490c2f3d",
   "metadata": {},
   "outputs": [],
   "source": []
  },
  {
   "cell_type": "code",
   "execution_count": null,
   "id": "1ae38130-9865-4618-b775-5145b4384658",
   "metadata": {},
   "outputs": [],
   "source": []
  },
  {
   "cell_type": "code",
   "execution_count": null,
   "id": "7172382f-b9a5-4301-9731-0745356d5c55",
   "metadata": {},
   "outputs": [],
   "source": []
  },
  {
   "cell_type": "code",
   "execution_count": null,
   "id": "52097966-9636-4365-9d6c-60faadab99c7",
   "metadata": {},
   "outputs": [],
   "source": []
  },
  {
   "cell_type": "code",
   "execution_count": null,
   "id": "c8e090bd-2cfb-4c00-a118-b397107efbf1",
   "metadata": {},
   "outputs": [],
   "source": []
  },
  {
   "cell_type": "code",
   "execution_count": null,
   "id": "ab0c6cac-96de-4bb2-8714-fc17dcdbdb75",
   "metadata": {},
   "outputs": [],
   "source": []
  }
 ],
 "metadata": {
  "kernelspec": {
   "display_name": "Python 3 (ipykernel)",
   "language": "python",
   "name": "python3"
  },
  "language_info": {
   "codemirror_mode": {
    "name": "ipython",
    "version": 3
   },
   "file_extension": ".py",
   "mimetype": "text/x-python",
   "name": "python",
   "nbconvert_exporter": "python",
   "pygments_lexer": "ipython3",
   "version": "3.9.12"
  }
 },
 "nbformat": 4,
 "nbformat_minor": 5
}
